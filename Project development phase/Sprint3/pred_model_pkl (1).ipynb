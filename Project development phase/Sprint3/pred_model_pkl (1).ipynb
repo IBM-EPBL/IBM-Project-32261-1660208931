{
  "nbformat": 4,
  "nbformat_minor": 0,
  "metadata": {
    "colab": {
      "provenance": []
    },
    "kernelspec": {
      "name": "python3",
      "display_name": "Python 3"
    },
    "language_info": {
      "name": "python"
    },
    "accelerator": "GPU",
    "gpuClass": "standard"
  },
  "cells": [
    {
      "cell_type": "code",
      "source": [
        "# loading the dataset"
      ],
      "metadata": {
        "id": "jvD63fmL5pY7"
      },
      "execution_count": null,
      "outputs": []
    },
    {
      "cell_type": "code",
      "execution_count": null,
      "metadata": {
        "id": "ZTj4HC0p5Whk"
      },
      "outputs": [],
      "source": [
        "import pandas as pd\n",
        "import numpy as np\n",
        "from collections import Counter as c\n",
        "import matplotlib.pyplot as plt\n",
        "import seaborn as sns\n",
        "import missingno as msno\n",
        "from sklearn.metrics import accuracy_score,confusion_matrix\n",
        "from sklearn.model_selection import train_test_split\n",
        "from sklearn.preprocessing import LabelEncoder\n",
        "from sklearn.linear_model import LogisticRegression\n",
        "import pickle"
      ]
    },
    {
      "cell_type": "code",
      "source": [
        "data=pd.read_csv(\"/content/drive/MyDrive/Dataset/chronickidneydisease (2).csv\")\n",
        "\n"
      ],
      "metadata": {
        "id": "F-3eJpMR5xBK"
      },
      "execution_count": null,
      "outputs": []
    },
    {
      "cell_type": "code",
      "source": [
        "data.head()"
      ],
      "metadata": {
        "colab": {
          "base_uri": "https://localhost:8080/",
          "height": 300
        },
        "id": "k-eHsXfC55N6",
        "outputId": "8be805cc-406b-4c08-8df3-b10b4a17d2f2"
      },
      "execution_count": null,
      "outputs": [
        {
          "output_type": "execute_result",
          "data": {
            "text/plain": [
              "   id   age    bp     sg   al   su     rbc        pc         pcc          ba  \\\n",
              "0   0  48.0  80.0  1.020  1.0  0.0     NaN    normal  notpresent  notpresent   \n",
              "1   1   7.0  50.0  1.020  4.0  0.0     NaN    normal  notpresent  notpresent   \n",
              "2   2  62.0  80.0  1.010  2.0  3.0  normal    normal  notpresent  notpresent   \n",
              "3   3  48.0  70.0  1.005  4.0  0.0  normal  abnormal     present  notpresent   \n",
              "4   4  51.0  80.0  1.010  2.0  0.0  normal    normal  notpresent  notpresent   \n",
              "\n",
              "   ...  pcv    wc   rc  htn   dm  cad appet   pe  ane classification  \n",
              "0  ...   44  7800  5.2  yes  yes   no  good   no   no            ckd  \n",
              "1  ...   38  6000  NaN   no   no   no  good   no   no            ckd  \n",
              "2  ...   31  7500  NaN   no  yes   no  poor   no  yes            ckd  \n",
              "3  ...   32  6700  3.9  yes   no   no  poor  yes  yes            ckd  \n",
              "4  ...   35  7300  4.6   no   no   no  good   no   no            ckd  \n",
              "\n",
              "[5 rows x 26 columns]"
            ],
            "text/html": [
              "\n",
              "  <div id=\"df-1fe89994-9fa2-492c-be65-ab4e391cdb29\">\n",
              "    <div class=\"colab-df-container\">\n",
              "      <div>\n",
              "<style scoped>\n",
              "    .dataframe tbody tr th:only-of-type {\n",
              "        vertical-align: middle;\n",
              "    }\n",
              "\n",
              "    .dataframe tbody tr th {\n",
              "        vertical-align: top;\n",
              "    }\n",
              "\n",
              "    .dataframe thead th {\n",
              "        text-align: right;\n",
              "    }\n",
              "</style>\n",
              "<table border=\"1\" class=\"dataframe\">\n",
              "  <thead>\n",
              "    <tr style=\"text-align: right;\">\n",
              "      <th></th>\n",
              "      <th>id</th>\n",
              "      <th>age</th>\n",
              "      <th>bp</th>\n",
              "      <th>sg</th>\n",
              "      <th>al</th>\n",
              "      <th>su</th>\n",
              "      <th>rbc</th>\n",
              "      <th>pc</th>\n",
              "      <th>pcc</th>\n",
              "      <th>ba</th>\n",
              "      <th>...</th>\n",
              "      <th>pcv</th>\n",
              "      <th>wc</th>\n",
              "      <th>rc</th>\n",
              "      <th>htn</th>\n",
              "      <th>dm</th>\n",
              "      <th>cad</th>\n",
              "      <th>appet</th>\n",
              "      <th>pe</th>\n",
              "      <th>ane</th>\n",
              "      <th>classification</th>\n",
              "    </tr>\n",
              "  </thead>\n",
              "  <tbody>\n",
              "    <tr>\n",
              "      <th>0</th>\n",
              "      <td>0</td>\n",
              "      <td>48.0</td>\n",
              "      <td>80.0</td>\n",
              "      <td>1.020</td>\n",
              "      <td>1.0</td>\n",
              "      <td>0.0</td>\n",
              "      <td>NaN</td>\n",
              "      <td>normal</td>\n",
              "      <td>notpresent</td>\n",
              "      <td>notpresent</td>\n",
              "      <td>...</td>\n",
              "      <td>44</td>\n",
              "      <td>7800</td>\n",
              "      <td>5.2</td>\n",
              "      <td>yes</td>\n",
              "      <td>yes</td>\n",
              "      <td>no</td>\n",
              "      <td>good</td>\n",
              "      <td>no</td>\n",
              "      <td>no</td>\n",
              "      <td>ckd</td>\n",
              "    </tr>\n",
              "    <tr>\n",
              "      <th>1</th>\n",
              "      <td>1</td>\n",
              "      <td>7.0</td>\n",
              "      <td>50.0</td>\n",
              "      <td>1.020</td>\n",
              "      <td>4.0</td>\n",
              "      <td>0.0</td>\n",
              "      <td>NaN</td>\n",
              "      <td>normal</td>\n",
              "      <td>notpresent</td>\n",
              "      <td>notpresent</td>\n",
              "      <td>...</td>\n",
              "      <td>38</td>\n",
              "      <td>6000</td>\n",
              "      <td>NaN</td>\n",
              "      <td>no</td>\n",
              "      <td>no</td>\n",
              "      <td>no</td>\n",
              "      <td>good</td>\n",
              "      <td>no</td>\n",
              "      <td>no</td>\n",
              "      <td>ckd</td>\n",
              "    </tr>\n",
              "    <tr>\n",
              "      <th>2</th>\n",
              "      <td>2</td>\n",
              "      <td>62.0</td>\n",
              "      <td>80.0</td>\n",
              "      <td>1.010</td>\n",
              "      <td>2.0</td>\n",
              "      <td>3.0</td>\n",
              "      <td>normal</td>\n",
              "      <td>normal</td>\n",
              "      <td>notpresent</td>\n",
              "      <td>notpresent</td>\n",
              "      <td>...</td>\n",
              "      <td>31</td>\n",
              "      <td>7500</td>\n",
              "      <td>NaN</td>\n",
              "      <td>no</td>\n",
              "      <td>yes</td>\n",
              "      <td>no</td>\n",
              "      <td>poor</td>\n",
              "      <td>no</td>\n",
              "      <td>yes</td>\n",
              "      <td>ckd</td>\n",
              "    </tr>\n",
              "    <tr>\n",
              "      <th>3</th>\n",
              "      <td>3</td>\n",
              "      <td>48.0</td>\n",
              "      <td>70.0</td>\n",
              "      <td>1.005</td>\n",
              "      <td>4.0</td>\n",
              "      <td>0.0</td>\n",
              "      <td>normal</td>\n",
              "      <td>abnormal</td>\n",
              "      <td>present</td>\n",
              "      <td>notpresent</td>\n",
              "      <td>...</td>\n",
              "      <td>32</td>\n",
              "      <td>6700</td>\n",
              "      <td>3.9</td>\n",
              "      <td>yes</td>\n",
              "      <td>no</td>\n",
              "      <td>no</td>\n",
              "      <td>poor</td>\n",
              "      <td>yes</td>\n",
              "      <td>yes</td>\n",
              "      <td>ckd</td>\n",
              "    </tr>\n",
              "    <tr>\n",
              "      <th>4</th>\n",
              "      <td>4</td>\n",
              "      <td>51.0</td>\n",
              "      <td>80.0</td>\n",
              "      <td>1.010</td>\n",
              "      <td>2.0</td>\n",
              "      <td>0.0</td>\n",
              "      <td>normal</td>\n",
              "      <td>normal</td>\n",
              "      <td>notpresent</td>\n",
              "      <td>notpresent</td>\n",
              "      <td>...</td>\n",
              "      <td>35</td>\n",
              "      <td>7300</td>\n",
              "      <td>4.6</td>\n",
              "      <td>no</td>\n",
              "      <td>no</td>\n",
              "      <td>no</td>\n",
              "      <td>good</td>\n",
              "      <td>no</td>\n",
              "      <td>no</td>\n",
              "      <td>ckd</td>\n",
              "    </tr>\n",
              "  </tbody>\n",
              "</table>\n",
              "<p>5 rows × 26 columns</p>\n",
              "</div>\n",
              "      <button class=\"colab-df-convert\" onclick=\"convertToInteractive('df-1fe89994-9fa2-492c-be65-ab4e391cdb29')\"\n",
              "              title=\"Convert this dataframe to an interactive table.\"\n",
              "              style=\"display:none;\">\n",
              "        \n",
              "  <svg xmlns=\"http://www.w3.org/2000/svg\" height=\"24px\"viewBox=\"0 0 24 24\"\n",
              "       width=\"24px\">\n",
              "    <path d=\"M0 0h24v24H0V0z\" fill=\"none\"/>\n",
              "    <path d=\"M18.56 5.44l.94 2.06.94-2.06 2.06-.94-2.06-.94-.94-2.06-.94 2.06-2.06.94zm-11 1L8.5 8.5l.94-2.06 2.06-.94-2.06-.94L8.5 2.5l-.94 2.06-2.06.94zm10 10l.94 2.06.94-2.06 2.06-.94-2.06-.94-.94-2.06-.94 2.06-2.06.94z\"/><path d=\"M17.41 7.96l-1.37-1.37c-.4-.4-.92-.59-1.43-.59-.52 0-1.04.2-1.43.59L10.3 9.45l-7.72 7.72c-.78.78-.78 2.05 0 2.83L4 21.41c.39.39.9.59 1.41.59.51 0 1.02-.2 1.41-.59l7.78-7.78 2.81-2.81c.8-.78.8-2.07 0-2.86zM5.41 20L4 18.59l7.72-7.72 1.47 1.35L5.41 20z\"/>\n",
              "  </svg>\n",
              "      </button>\n",
              "      \n",
              "  <style>\n",
              "    .colab-df-container {\n",
              "      display:flex;\n",
              "      flex-wrap:wrap;\n",
              "      gap: 12px;\n",
              "    }\n",
              "\n",
              "    .colab-df-convert {\n",
              "      background-color: #E8F0FE;\n",
              "      border: none;\n",
              "      border-radius: 50%;\n",
              "      cursor: pointer;\n",
              "      display: none;\n",
              "      fill: #1967D2;\n",
              "      height: 32px;\n",
              "      padding: 0 0 0 0;\n",
              "      width: 32px;\n",
              "    }\n",
              "\n",
              "    .colab-df-convert:hover {\n",
              "      background-color: #E2EBFA;\n",
              "      box-shadow: 0px 1px 2px rgba(60, 64, 67, 0.3), 0px 1px 3px 1px rgba(60, 64, 67, 0.15);\n",
              "      fill: #174EA6;\n",
              "    }\n",
              "\n",
              "    [theme=dark] .colab-df-convert {\n",
              "      background-color: #3B4455;\n",
              "      fill: #D2E3FC;\n",
              "    }\n",
              "\n",
              "    [theme=dark] .colab-df-convert:hover {\n",
              "      background-color: #434B5C;\n",
              "      box-shadow: 0px 1px 3px 1px rgba(0, 0, 0, 0.15);\n",
              "      filter: drop-shadow(0px 1px 2px rgba(0, 0, 0, 0.3));\n",
              "      fill: #FFFFFF;\n",
              "    }\n",
              "  </style>\n",
              "\n",
              "      <script>\n",
              "        const buttonEl =\n",
              "          document.querySelector('#df-1fe89994-9fa2-492c-be65-ab4e391cdb29 button.colab-df-convert');\n",
              "        buttonEl.style.display =\n",
              "          google.colab.kernel.accessAllowed ? 'block' : 'none';\n",
              "\n",
              "        async function convertToInteractive(key) {\n",
              "          const element = document.querySelector('#df-1fe89994-9fa2-492c-be65-ab4e391cdb29');\n",
              "          const dataTable =\n",
              "            await google.colab.kernel.invokeFunction('convertToInteractive',\n",
              "                                                     [key], {});\n",
              "          if (!dataTable) return;\n",
              "\n",
              "          const docLinkHtml = 'Like what you see? Visit the ' +\n",
              "            '<a target=\"_blank\" href=https://colab.research.google.com/notebooks/data_table.ipynb>data table notebook</a>'\n",
              "            + ' to learn more about interactive tables.';\n",
              "          element.innerHTML = '';\n",
              "          dataTable['output_type'] = 'display_data';\n",
              "          await google.colab.output.renderOutput(dataTable, element);\n",
              "          const docLink = document.createElement('div');\n",
              "          docLink.innerHTML = docLinkHtml;\n",
              "          element.appendChild(docLink);\n",
              "        }\n",
              "      </script>\n",
              "    </div>\n",
              "  </div>\n",
              "  "
            ]
          },
          "metadata": {},
          "execution_count": 295
        }
      ]
    },
    {
      "cell_type": "code",
      "source": [
        "data.tail() "
      ],
      "metadata": {
        "colab": {
          "base_uri": "https://localhost:8080/",
          "height": 300
        },
        "id": "i1wOb2oW7c51",
        "outputId": "d610ed39-5a1c-463b-e557-8abe6dc79c8e"
      },
      "execution_count": null,
      "outputs": [
        {
          "output_type": "execute_result",
          "data": {
            "text/plain": [
              "      id   age    bp     sg   al   su     rbc      pc         pcc          ba  \\\n",
              "395  395  55.0  80.0  1.020  0.0  0.0  normal  normal  notpresent  notpresent   \n",
              "396  396  42.0  70.0  1.025  0.0  0.0  normal  normal  notpresent  notpresent   \n",
              "397  397  12.0  80.0  1.020  0.0  0.0  normal  normal  notpresent  notpresent   \n",
              "398  398  17.0  60.0  1.025  0.0  0.0  normal  normal  notpresent  notpresent   \n",
              "399  399  58.0  80.0  1.025  0.0  0.0  normal  normal  notpresent  notpresent   \n",
              "\n",
              "     ...  pcv    wc   rc  htn  dm  cad appet  pe ane classification  \n",
              "395  ...   47  6700  4.9   no  no   no  good  no  no         notckd  \n",
              "396  ...   54  7800  6.2   no  no   no  good  no  no         notckd  \n",
              "397  ...   49  6600  5.4   no  no   no  good  no  no         notckd  \n",
              "398  ...   51  7200  5.9   no  no   no  good  no  no         notckd  \n",
              "399  ...   53  6800  6.1   no  no   no  good  no  no         notckd  \n",
              "\n",
              "[5 rows x 26 columns]"
            ],
            "text/html": [
              "\n",
              "  <div id=\"df-1b96f0a1-19b0-4e35-8a7f-999cb314bac1\">\n",
              "    <div class=\"colab-df-container\">\n",
              "      <div>\n",
              "<style scoped>\n",
              "    .dataframe tbody tr th:only-of-type {\n",
              "        vertical-align: middle;\n",
              "    }\n",
              "\n",
              "    .dataframe tbody tr th {\n",
              "        vertical-align: top;\n",
              "    }\n",
              "\n",
              "    .dataframe thead th {\n",
              "        text-align: right;\n",
              "    }\n",
              "</style>\n",
              "<table border=\"1\" class=\"dataframe\">\n",
              "  <thead>\n",
              "    <tr style=\"text-align: right;\">\n",
              "      <th></th>\n",
              "      <th>id</th>\n",
              "      <th>age</th>\n",
              "      <th>bp</th>\n",
              "      <th>sg</th>\n",
              "      <th>al</th>\n",
              "      <th>su</th>\n",
              "      <th>rbc</th>\n",
              "      <th>pc</th>\n",
              "      <th>pcc</th>\n",
              "      <th>ba</th>\n",
              "      <th>...</th>\n",
              "      <th>pcv</th>\n",
              "      <th>wc</th>\n",
              "      <th>rc</th>\n",
              "      <th>htn</th>\n",
              "      <th>dm</th>\n",
              "      <th>cad</th>\n",
              "      <th>appet</th>\n",
              "      <th>pe</th>\n",
              "      <th>ane</th>\n",
              "      <th>classification</th>\n",
              "    </tr>\n",
              "  </thead>\n",
              "  <tbody>\n",
              "    <tr>\n",
              "      <th>395</th>\n",
              "      <td>395</td>\n",
              "      <td>55.0</td>\n",
              "      <td>80.0</td>\n",
              "      <td>1.020</td>\n",
              "      <td>0.0</td>\n",
              "      <td>0.0</td>\n",
              "      <td>normal</td>\n",
              "      <td>normal</td>\n",
              "      <td>notpresent</td>\n",
              "      <td>notpresent</td>\n",
              "      <td>...</td>\n",
              "      <td>47</td>\n",
              "      <td>6700</td>\n",
              "      <td>4.9</td>\n",
              "      <td>no</td>\n",
              "      <td>no</td>\n",
              "      <td>no</td>\n",
              "      <td>good</td>\n",
              "      <td>no</td>\n",
              "      <td>no</td>\n",
              "      <td>notckd</td>\n",
              "    </tr>\n",
              "    <tr>\n",
              "      <th>396</th>\n",
              "      <td>396</td>\n",
              "      <td>42.0</td>\n",
              "      <td>70.0</td>\n",
              "      <td>1.025</td>\n",
              "      <td>0.0</td>\n",
              "      <td>0.0</td>\n",
              "      <td>normal</td>\n",
              "      <td>normal</td>\n",
              "      <td>notpresent</td>\n",
              "      <td>notpresent</td>\n",
              "      <td>...</td>\n",
              "      <td>54</td>\n",
              "      <td>7800</td>\n",
              "      <td>6.2</td>\n",
              "      <td>no</td>\n",
              "      <td>no</td>\n",
              "      <td>no</td>\n",
              "      <td>good</td>\n",
              "      <td>no</td>\n",
              "      <td>no</td>\n",
              "      <td>notckd</td>\n",
              "    </tr>\n",
              "    <tr>\n",
              "      <th>397</th>\n",
              "      <td>397</td>\n",
              "      <td>12.0</td>\n",
              "      <td>80.0</td>\n",
              "      <td>1.020</td>\n",
              "      <td>0.0</td>\n",
              "      <td>0.0</td>\n",
              "      <td>normal</td>\n",
              "      <td>normal</td>\n",
              "      <td>notpresent</td>\n",
              "      <td>notpresent</td>\n",
              "      <td>...</td>\n",
              "      <td>49</td>\n",
              "      <td>6600</td>\n",
              "      <td>5.4</td>\n",
              "      <td>no</td>\n",
              "      <td>no</td>\n",
              "      <td>no</td>\n",
              "      <td>good</td>\n",
              "      <td>no</td>\n",
              "      <td>no</td>\n",
              "      <td>notckd</td>\n",
              "    </tr>\n",
              "    <tr>\n",
              "      <th>398</th>\n",
              "      <td>398</td>\n",
              "      <td>17.0</td>\n",
              "      <td>60.0</td>\n",
              "      <td>1.025</td>\n",
              "      <td>0.0</td>\n",
              "      <td>0.0</td>\n",
              "      <td>normal</td>\n",
              "      <td>normal</td>\n",
              "      <td>notpresent</td>\n",
              "      <td>notpresent</td>\n",
              "      <td>...</td>\n",
              "      <td>51</td>\n",
              "      <td>7200</td>\n",
              "      <td>5.9</td>\n",
              "      <td>no</td>\n",
              "      <td>no</td>\n",
              "      <td>no</td>\n",
              "      <td>good</td>\n",
              "      <td>no</td>\n",
              "      <td>no</td>\n",
              "      <td>notckd</td>\n",
              "    </tr>\n",
              "    <tr>\n",
              "      <th>399</th>\n",
              "      <td>399</td>\n",
              "      <td>58.0</td>\n",
              "      <td>80.0</td>\n",
              "      <td>1.025</td>\n",
              "      <td>0.0</td>\n",
              "      <td>0.0</td>\n",
              "      <td>normal</td>\n",
              "      <td>normal</td>\n",
              "      <td>notpresent</td>\n",
              "      <td>notpresent</td>\n",
              "      <td>...</td>\n",
              "      <td>53</td>\n",
              "      <td>6800</td>\n",
              "      <td>6.1</td>\n",
              "      <td>no</td>\n",
              "      <td>no</td>\n",
              "      <td>no</td>\n",
              "      <td>good</td>\n",
              "      <td>no</td>\n",
              "      <td>no</td>\n",
              "      <td>notckd</td>\n",
              "    </tr>\n",
              "  </tbody>\n",
              "</table>\n",
              "<p>5 rows × 26 columns</p>\n",
              "</div>\n",
              "      <button class=\"colab-df-convert\" onclick=\"convertToInteractive('df-1b96f0a1-19b0-4e35-8a7f-999cb314bac1')\"\n",
              "              title=\"Convert this dataframe to an interactive table.\"\n",
              "              style=\"display:none;\">\n",
              "        \n",
              "  <svg xmlns=\"http://www.w3.org/2000/svg\" height=\"24px\"viewBox=\"0 0 24 24\"\n",
              "       width=\"24px\">\n",
              "    <path d=\"M0 0h24v24H0V0z\" fill=\"none\"/>\n",
              "    <path d=\"M18.56 5.44l.94 2.06.94-2.06 2.06-.94-2.06-.94-.94-2.06-.94 2.06-2.06.94zm-11 1L8.5 8.5l.94-2.06 2.06-.94-2.06-.94L8.5 2.5l-.94 2.06-2.06.94zm10 10l.94 2.06.94-2.06 2.06-.94-2.06-.94-.94-2.06-.94 2.06-2.06.94z\"/><path d=\"M17.41 7.96l-1.37-1.37c-.4-.4-.92-.59-1.43-.59-.52 0-1.04.2-1.43.59L10.3 9.45l-7.72 7.72c-.78.78-.78 2.05 0 2.83L4 21.41c.39.39.9.59 1.41.59.51 0 1.02-.2 1.41-.59l7.78-7.78 2.81-2.81c.8-.78.8-2.07 0-2.86zM5.41 20L4 18.59l7.72-7.72 1.47 1.35L5.41 20z\"/>\n",
              "  </svg>\n",
              "      </button>\n",
              "      \n",
              "  <style>\n",
              "    .colab-df-container {\n",
              "      display:flex;\n",
              "      flex-wrap:wrap;\n",
              "      gap: 12px;\n",
              "    }\n",
              "\n",
              "    .colab-df-convert {\n",
              "      background-color: #E8F0FE;\n",
              "      border: none;\n",
              "      border-radius: 50%;\n",
              "      cursor: pointer;\n",
              "      display: none;\n",
              "      fill: #1967D2;\n",
              "      height: 32px;\n",
              "      padding: 0 0 0 0;\n",
              "      width: 32px;\n",
              "    }\n",
              "\n",
              "    .colab-df-convert:hover {\n",
              "      background-color: #E2EBFA;\n",
              "      box-shadow: 0px 1px 2px rgba(60, 64, 67, 0.3), 0px 1px 3px 1px rgba(60, 64, 67, 0.15);\n",
              "      fill: #174EA6;\n",
              "    }\n",
              "\n",
              "    [theme=dark] .colab-df-convert {\n",
              "      background-color: #3B4455;\n",
              "      fill: #D2E3FC;\n",
              "    }\n",
              "\n",
              "    [theme=dark] .colab-df-convert:hover {\n",
              "      background-color: #434B5C;\n",
              "      box-shadow: 0px 1px 3px 1px rgba(0, 0, 0, 0.15);\n",
              "      filter: drop-shadow(0px 1px 2px rgba(0, 0, 0, 0.3));\n",
              "      fill: #FFFFFF;\n",
              "    }\n",
              "  </style>\n",
              "\n",
              "      <script>\n",
              "        const buttonEl =\n",
              "          document.querySelector('#df-1b96f0a1-19b0-4e35-8a7f-999cb314bac1 button.colab-df-convert');\n",
              "        buttonEl.style.display =\n",
              "          google.colab.kernel.accessAllowed ? 'block' : 'none';\n",
              "\n",
              "        async function convertToInteractive(key) {\n",
              "          const element = document.querySelector('#df-1b96f0a1-19b0-4e35-8a7f-999cb314bac1');\n",
              "          const dataTable =\n",
              "            await google.colab.kernel.invokeFunction('convertToInteractive',\n",
              "                                                     [key], {});\n",
              "          if (!dataTable) return;\n",
              "\n",
              "          const docLinkHtml = 'Like what you see? Visit the ' +\n",
              "            '<a target=\"_blank\" href=https://colab.research.google.com/notebooks/data_table.ipynb>data table notebook</a>'\n",
              "            + ' to learn more about interactive tables.';\n",
              "          element.innerHTML = '';\n",
              "          dataTable['output_type'] = 'display_data';\n",
              "          await google.colab.output.renderOutput(dataTable, element);\n",
              "          const docLink = document.createElement('div');\n",
              "          docLink.innerHTML = docLinkHtml;\n",
              "          element.appendChild(docLink);\n",
              "        }\n",
              "      </script>\n",
              "    </div>\n",
              "  </div>\n",
              "  "
            ]
          },
          "metadata": {},
          "execution_count": 296
        }
      ]
    },
    {
      "cell_type": "code",
      "source": [
        "data.head(10)"
      ],
      "metadata": {
        "colab": {
          "base_uri": "https://localhost:8080/",
          "height": 456
        },
        "id": "8tUnhY4I7qom",
        "outputId": "3110146c-e02e-4fba-88e3-f324301a9f65"
      },
      "execution_count": null,
      "outputs": [
        {
          "output_type": "execute_result",
          "data": {
            "text/plain": [
              "   id   age     bp     sg   al   su       rbc        pc         pcc  \\\n",
              "0   0  48.0   80.0  1.020  1.0  0.0       NaN    normal  notpresent   \n",
              "1   1   7.0   50.0  1.020  4.0  0.0       NaN    normal  notpresent   \n",
              "2   2  62.0   80.0  1.010  2.0  3.0    normal    normal  notpresent   \n",
              "3   3  48.0   70.0  1.005  4.0  0.0    normal  abnormal     present   \n",
              "4   4  51.0   80.0  1.010  2.0  0.0    normal    normal  notpresent   \n",
              "5   5  60.0   90.0  1.015  3.0  0.0       NaN       NaN  notpresent   \n",
              "6   6  68.0   70.0  1.010  0.0  0.0       NaN    normal  notpresent   \n",
              "7   7  24.0    NaN  1.015  2.0  4.0    normal  abnormal  notpresent   \n",
              "8   8  52.0  100.0  1.015  3.0  0.0    normal  abnormal     present   \n",
              "9   9  53.0   90.0  1.020  2.0  0.0  abnormal  abnormal     present   \n",
              "\n",
              "           ba  ...  pcv     wc   rc  htn   dm  cad appet   pe  ane  \\\n",
              "0  notpresent  ...   44   7800  5.2  yes  yes   no  good   no   no   \n",
              "1  notpresent  ...   38   6000  NaN   no   no   no  good   no   no   \n",
              "2  notpresent  ...   31   7500  NaN   no  yes   no  poor   no  yes   \n",
              "3  notpresent  ...   32   6700  3.9  yes   no   no  poor  yes  yes   \n",
              "4  notpresent  ...   35   7300  4.6   no   no   no  good   no   no   \n",
              "5  notpresent  ...   39   7800  4.4  yes  yes   no  good  yes   no   \n",
              "6  notpresent  ...   36    NaN  NaN   no   no   no  good   no   no   \n",
              "7  notpresent  ...   44   6900    5   no  yes   no  good  yes   no   \n",
              "8  notpresent  ...   33   9600  4.0  yes  yes   no  good   no  yes   \n",
              "9  notpresent  ...   29  12100  3.7  yes  yes   no  poor   no  yes   \n",
              "\n",
              "  classification  \n",
              "0            ckd  \n",
              "1            ckd  \n",
              "2            ckd  \n",
              "3            ckd  \n",
              "4            ckd  \n",
              "5            ckd  \n",
              "6            ckd  \n",
              "7            ckd  \n",
              "8            ckd  \n",
              "9            ckd  \n",
              "\n",
              "[10 rows x 26 columns]"
            ],
            "text/html": [
              "\n",
              "  <div id=\"df-7d7d7e36-8032-47d5-8b55-7eed6ae6c1d3\">\n",
              "    <div class=\"colab-df-container\">\n",
              "      <div>\n",
              "<style scoped>\n",
              "    .dataframe tbody tr th:only-of-type {\n",
              "        vertical-align: middle;\n",
              "    }\n",
              "\n",
              "    .dataframe tbody tr th {\n",
              "        vertical-align: top;\n",
              "    }\n",
              "\n",
              "    .dataframe thead th {\n",
              "        text-align: right;\n",
              "    }\n",
              "</style>\n",
              "<table border=\"1\" class=\"dataframe\">\n",
              "  <thead>\n",
              "    <tr style=\"text-align: right;\">\n",
              "      <th></th>\n",
              "      <th>id</th>\n",
              "      <th>age</th>\n",
              "      <th>bp</th>\n",
              "      <th>sg</th>\n",
              "      <th>al</th>\n",
              "      <th>su</th>\n",
              "      <th>rbc</th>\n",
              "      <th>pc</th>\n",
              "      <th>pcc</th>\n",
              "      <th>ba</th>\n",
              "      <th>...</th>\n",
              "      <th>pcv</th>\n",
              "      <th>wc</th>\n",
              "      <th>rc</th>\n",
              "      <th>htn</th>\n",
              "      <th>dm</th>\n",
              "      <th>cad</th>\n",
              "      <th>appet</th>\n",
              "      <th>pe</th>\n",
              "      <th>ane</th>\n",
              "      <th>classification</th>\n",
              "    </tr>\n",
              "  </thead>\n",
              "  <tbody>\n",
              "    <tr>\n",
              "      <th>0</th>\n",
              "      <td>0</td>\n",
              "      <td>48.0</td>\n",
              "      <td>80.0</td>\n",
              "      <td>1.020</td>\n",
              "      <td>1.0</td>\n",
              "      <td>0.0</td>\n",
              "      <td>NaN</td>\n",
              "      <td>normal</td>\n",
              "      <td>notpresent</td>\n",
              "      <td>notpresent</td>\n",
              "      <td>...</td>\n",
              "      <td>44</td>\n",
              "      <td>7800</td>\n",
              "      <td>5.2</td>\n",
              "      <td>yes</td>\n",
              "      <td>yes</td>\n",
              "      <td>no</td>\n",
              "      <td>good</td>\n",
              "      <td>no</td>\n",
              "      <td>no</td>\n",
              "      <td>ckd</td>\n",
              "    </tr>\n",
              "    <tr>\n",
              "      <th>1</th>\n",
              "      <td>1</td>\n",
              "      <td>7.0</td>\n",
              "      <td>50.0</td>\n",
              "      <td>1.020</td>\n",
              "      <td>4.0</td>\n",
              "      <td>0.0</td>\n",
              "      <td>NaN</td>\n",
              "      <td>normal</td>\n",
              "      <td>notpresent</td>\n",
              "      <td>notpresent</td>\n",
              "      <td>...</td>\n",
              "      <td>38</td>\n",
              "      <td>6000</td>\n",
              "      <td>NaN</td>\n",
              "      <td>no</td>\n",
              "      <td>no</td>\n",
              "      <td>no</td>\n",
              "      <td>good</td>\n",
              "      <td>no</td>\n",
              "      <td>no</td>\n",
              "      <td>ckd</td>\n",
              "    </tr>\n",
              "    <tr>\n",
              "      <th>2</th>\n",
              "      <td>2</td>\n",
              "      <td>62.0</td>\n",
              "      <td>80.0</td>\n",
              "      <td>1.010</td>\n",
              "      <td>2.0</td>\n",
              "      <td>3.0</td>\n",
              "      <td>normal</td>\n",
              "      <td>normal</td>\n",
              "      <td>notpresent</td>\n",
              "      <td>notpresent</td>\n",
              "      <td>...</td>\n",
              "      <td>31</td>\n",
              "      <td>7500</td>\n",
              "      <td>NaN</td>\n",
              "      <td>no</td>\n",
              "      <td>yes</td>\n",
              "      <td>no</td>\n",
              "      <td>poor</td>\n",
              "      <td>no</td>\n",
              "      <td>yes</td>\n",
              "      <td>ckd</td>\n",
              "    </tr>\n",
              "    <tr>\n",
              "      <th>3</th>\n",
              "      <td>3</td>\n",
              "      <td>48.0</td>\n",
              "      <td>70.0</td>\n",
              "      <td>1.005</td>\n",
              "      <td>4.0</td>\n",
              "      <td>0.0</td>\n",
              "      <td>normal</td>\n",
              "      <td>abnormal</td>\n",
              "      <td>present</td>\n",
              "      <td>notpresent</td>\n",
              "      <td>...</td>\n",
              "      <td>32</td>\n",
              "      <td>6700</td>\n",
              "      <td>3.9</td>\n",
              "      <td>yes</td>\n",
              "      <td>no</td>\n",
              "      <td>no</td>\n",
              "      <td>poor</td>\n",
              "      <td>yes</td>\n",
              "      <td>yes</td>\n",
              "      <td>ckd</td>\n",
              "    </tr>\n",
              "    <tr>\n",
              "      <th>4</th>\n",
              "      <td>4</td>\n",
              "      <td>51.0</td>\n",
              "      <td>80.0</td>\n",
              "      <td>1.010</td>\n",
              "      <td>2.0</td>\n",
              "      <td>0.0</td>\n",
              "      <td>normal</td>\n",
              "      <td>normal</td>\n",
              "      <td>notpresent</td>\n",
              "      <td>notpresent</td>\n",
              "      <td>...</td>\n",
              "      <td>35</td>\n",
              "      <td>7300</td>\n",
              "      <td>4.6</td>\n",
              "      <td>no</td>\n",
              "      <td>no</td>\n",
              "      <td>no</td>\n",
              "      <td>good</td>\n",
              "      <td>no</td>\n",
              "      <td>no</td>\n",
              "      <td>ckd</td>\n",
              "    </tr>\n",
              "    <tr>\n",
              "      <th>5</th>\n",
              "      <td>5</td>\n",
              "      <td>60.0</td>\n",
              "      <td>90.0</td>\n",
              "      <td>1.015</td>\n",
              "      <td>3.0</td>\n",
              "      <td>0.0</td>\n",
              "      <td>NaN</td>\n",
              "      <td>NaN</td>\n",
              "      <td>notpresent</td>\n",
              "      <td>notpresent</td>\n",
              "      <td>...</td>\n",
              "      <td>39</td>\n",
              "      <td>7800</td>\n",
              "      <td>4.4</td>\n",
              "      <td>yes</td>\n",
              "      <td>yes</td>\n",
              "      <td>no</td>\n",
              "      <td>good</td>\n",
              "      <td>yes</td>\n",
              "      <td>no</td>\n",
              "      <td>ckd</td>\n",
              "    </tr>\n",
              "    <tr>\n",
              "      <th>6</th>\n",
              "      <td>6</td>\n",
              "      <td>68.0</td>\n",
              "      <td>70.0</td>\n",
              "      <td>1.010</td>\n",
              "      <td>0.0</td>\n",
              "      <td>0.0</td>\n",
              "      <td>NaN</td>\n",
              "      <td>normal</td>\n",
              "      <td>notpresent</td>\n",
              "      <td>notpresent</td>\n",
              "      <td>...</td>\n",
              "      <td>36</td>\n",
              "      <td>NaN</td>\n",
              "      <td>NaN</td>\n",
              "      <td>no</td>\n",
              "      <td>no</td>\n",
              "      <td>no</td>\n",
              "      <td>good</td>\n",
              "      <td>no</td>\n",
              "      <td>no</td>\n",
              "      <td>ckd</td>\n",
              "    </tr>\n",
              "    <tr>\n",
              "      <th>7</th>\n",
              "      <td>7</td>\n",
              "      <td>24.0</td>\n",
              "      <td>NaN</td>\n",
              "      <td>1.015</td>\n",
              "      <td>2.0</td>\n",
              "      <td>4.0</td>\n",
              "      <td>normal</td>\n",
              "      <td>abnormal</td>\n",
              "      <td>notpresent</td>\n",
              "      <td>notpresent</td>\n",
              "      <td>...</td>\n",
              "      <td>44</td>\n",
              "      <td>6900</td>\n",
              "      <td>5</td>\n",
              "      <td>no</td>\n",
              "      <td>yes</td>\n",
              "      <td>no</td>\n",
              "      <td>good</td>\n",
              "      <td>yes</td>\n",
              "      <td>no</td>\n",
              "      <td>ckd</td>\n",
              "    </tr>\n",
              "    <tr>\n",
              "      <th>8</th>\n",
              "      <td>8</td>\n",
              "      <td>52.0</td>\n",
              "      <td>100.0</td>\n",
              "      <td>1.015</td>\n",
              "      <td>3.0</td>\n",
              "      <td>0.0</td>\n",
              "      <td>normal</td>\n",
              "      <td>abnormal</td>\n",
              "      <td>present</td>\n",
              "      <td>notpresent</td>\n",
              "      <td>...</td>\n",
              "      <td>33</td>\n",
              "      <td>9600</td>\n",
              "      <td>4.0</td>\n",
              "      <td>yes</td>\n",
              "      <td>yes</td>\n",
              "      <td>no</td>\n",
              "      <td>good</td>\n",
              "      <td>no</td>\n",
              "      <td>yes</td>\n",
              "      <td>ckd</td>\n",
              "    </tr>\n",
              "    <tr>\n",
              "      <th>9</th>\n",
              "      <td>9</td>\n",
              "      <td>53.0</td>\n",
              "      <td>90.0</td>\n",
              "      <td>1.020</td>\n",
              "      <td>2.0</td>\n",
              "      <td>0.0</td>\n",
              "      <td>abnormal</td>\n",
              "      <td>abnormal</td>\n",
              "      <td>present</td>\n",
              "      <td>notpresent</td>\n",
              "      <td>...</td>\n",
              "      <td>29</td>\n",
              "      <td>12100</td>\n",
              "      <td>3.7</td>\n",
              "      <td>yes</td>\n",
              "      <td>yes</td>\n",
              "      <td>no</td>\n",
              "      <td>poor</td>\n",
              "      <td>no</td>\n",
              "      <td>yes</td>\n",
              "      <td>ckd</td>\n",
              "    </tr>\n",
              "  </tbody>\n",
              "</table>\n",
              "<p>10 rows × 26 columns</p>\n",
              "</div>\n",
              "      <button class=\"colab-df-convert\" onclick=\"convertToInteractive('df-7d7d7e36-8032-47d5-8b55-7eed6ae6c1d3')\"\n",
              "              title=\"Convert this dataframe to an interactive table.\"\n",
              "              style=\"display:none;\">\n",
              "        \n",
              "  <svg xmlns=\"http://www.w3.org/2000/svg\" height=\"24px\"viewBox=\"0 0 24 24\"\n",
              "       width=\"24px\">\n",
              "    <path d=\"M0 0h24v24H0V0z\" fill=\"none\"/>\n",
              "    <path d=\"M18.56 5.44l.94 2.06.94-2.06 2.06-.94-2.06-.94-.94-2.06-.94 2.06-2.06.94zm-11 1L8.5 8.5l.94-2.06 2.06-.94-2.06-.94L8.5 2.5l-.94 2.06-2.06.94zm10 10l.94 2.06.94-2.06 2.06-.94-2.06-.94-.94-2.06-.94 2.06-2.06.94z\"/><path d=\"M17.41 7.96l-1.37-1.37c-.4-.4-.92-.59-1.43-.59-.52 0-1.04.2-1.43.59L10.3 9.45l-7.72 7.72c-.78.78-.78 2.05 0 2.83L4 21.41c.39.39.9.59 1.41.59.51 0 1.02-.2 1.41-.59l7.78-7.78 2.81-2.81c.8-.78.8-2.07 0-2.86zM5.41 20L4 18.59l7.72-7.72 1.47 1.35L5.41 20z\"/>\n",
              "  </svg>\n",
              "      </button>\n",
              "      \n",
              "  <style>\n",
              "    .colab-df-container {\n",
              "      display:flex;\n",
              "      flex-wrap:wrap;\n",
              "      gap: 12px;\n",
              "    }\n",
              "\n",
              "    .colab-df-convert {\n",
              "      background-color: #E8F0FE;\n",
              "      border: none;\n",
              "      border-radius: 50%;\n",
              "      cursor: pointer;\n",
              "      display: none;\n",
              "      fill: #1967D2;\n",
              "      height: 32px;\n",
              "      padding: 0 0 0 0;\n",
              "      width: 32px;\n",
              "    }\n",
              "\n",
              "    .colab-df-convert:hover {\n",
              "      background-color: #E2EBFA;\n",
              "      box-shadow: 0px 1px 2px rgba(60, 64, 67, 0.3), 0px 1px 3px 1px rgba(60, 64, 67, 0.15);\n",
              "      fill: #174EA6;\n",
              "    }\n",
              "\n",
              "    [theme=dark] .colab-df-convert {\n",
              "      background-color: #3B4455;\n",
              "      fill: #D2E3FC;\n",
              "    }\n",
              "\n",
              "    [theme=dark] .colab-df-convert:hover {\n",
              "      background-color: #434B5C;\n",
              "      box-shadow: 0px 1px 3px 1px rgba(0, 0, 0, 0.15);\n",
              "      filter: drop-shadow(0px 1px 2px rgba(0, 0, 0, 0.3));\n",
              "      fill: #FFFFFF;\n",
              "    }\n",
              "  </style>\n",
              "\n",
              "      <script>\n",
              "        const buttonEl =\n",
              "          document.querySelector('#df-7d7d7e36-8032-47d5-8b55-7eed6ae6c1d3 button.colab-df-convert');\n",
              "        buttonEl.style.display =\n",
              "          google.colab.kernel.accessAllowed ? 'block' : 'none';\n",
              "\n",
              "        async function convertToInteractive(key) {\n",
              "          const element = document.querySelector('#df-7d7d7e36-8032-47d5-8b55-7eed6ae6c1d3');\n",
              "          const dataTable =\n",
              "            await google.colab.kernel.invokeFunction('convertToInteractive',\n",
              "                                                     [key], {});\n",
              "          if (!dataTable) return;\n",
              "\n",
              "          const docLinkHtml = 'Like what you see? Visit the ' +\n",
              "            '<a target=\"_blank\" href=https://colab.research.google.com/notebooks/data_table.ipynb>data table notebook</a>'\n",
              "            + ' to learn more about interactive tables.';\n",
              "          element.innerHTML = '';\n",
              "          dataTable['output_type'] = 'display_data';\n",
              "          await google.colab.output.renderOutput(dataTable, element);\n",
              "          const docLink = document.createElement('div');\n",
              "          docLink.innerHTML = docLinkHtml;\n",
              "          element.appendChild(docLink);\n",
              "        }\n",
              "      </script>\n",
              "    </div>\n",
              "  </div>\n",
              "  "
            ]
          },
          "metadata": {},
          "execution_count": 297
        }
      ]
    },
    {
      "cell_type": "code",
      "source": [
        "data.drop([\"id\"],axis=1,inplace=True)"
      ],
      "metadata": {
        "id": "m2dapNac7w2S"
      },
      "execution_count": null,
      "outputs": []
    },
    {
      "cell_type": "code",
      "source": [
        "data.columns\n"
      ],
      "metadata": {
        "colab": {
          "base_uri": "https://localhost:8080/"
        },
        "id": "xAUR8aVZ74Zz",
        "outputId": "c251e315-a714-4186-a7b9-783fd5d2e338"
      },
      "execution_count": null,
      "outputs": [
        {
          "output_type": "execute_result",
          "data": {
            "text/plain": [
              "Index(['age', 'bp', 'sg', 'al', 'su', 'rbc', 'pc', 'pcc', 'ba', 'bgr', 'bu',\n",
              "       'sc', 'sod', 'pot', 'hemo', 'pcv', 'wc', 'rc', 'htn', 'dm', 'cad',\n",
              "       'appet', 'pe', 'ane', 'classification'],\n",
              "      dtype='object')"
            ]
          },
          "metadata": {},
          "execution_count": 299
        }
      ]
    },
    {
      "cell_type": "code",
      "source": [
        "data.columns=['age','blood_pressure','specific_gravity','albumin','sugar','red_blood_cells','pus_cell','pus_cell_clumps','bacteria','blood glucose random',\n",
        "'blood_urea','serum_creatinine','sodium','potassium','hemoglobin','packed_cell_volume','white_blood_cell_count','red_blood_cell_count','hypertension',\n",
        "'diabetesmellitus','coronary_artery_disease','appetite','pedal_edema','anemia','class'] "
      ],
      "metadata": {
        "id": "RyTd10CA7-He"
      },
      "execution_count": null,
      "outputs": []
    },
    {
      "cell_type": "code",
      "source": [
        "data.columns"
      ],
      "metadata": {
        "colab": {
          "base_uri": "https://localhost:8080/"
        },
        "id": "xZDjKFV38Ev2",
        "outputId": "d525ef4f-f4a7-4d65-d22c-b764ef9e906b"
      },
      "execution_count": null,
      "outputs": [
        {
          "output_type": "execute_result",
          "data": {
            "text/plain": [
              "Index(['age', 'blood_pressure', 'specific_gravity', 'albumin', 'sugar',\n",
              "       'red_blood_cells', 'pus_cell', 'pus_cell_clumps', 'bacteria',\n",
              "       'blood glucose random', 'blood_urea', 'serum_creatinine', 'sodium',\n",
              "       'potassium', 'hemoglobin', 'packed_cell_volume',\n",
              "       'white_blood_cell_count', 'red_blood_cell_count', 'hypertension',\n",
              "       'diabetesmellitus', 'coronary_artery_disease', 'appetite',\n",
              "       'pedal_edema', 'anemia', 'class'],\n",
              "      dtype='object')"
            ]
          },
          "metadata": {},
          "execution_count": 301
        }
      ]
    },
    {
      "cell_type": "code",
      "source": [
        "#Understanding Data Type And Summary Of Features"
      ],
      "metadata": {
        "id": "65sWdSi98IeA"
      },
      "execution_count": null,
      "outputs": []
    },
    {
      "cell_type": "code",
      "source": [
        "data.info()"
      ],
      "metadata": {
        "colab": {
          "base_uri": "https://localhost:8080/"
        },
        "id": "zN3pevNc8PD1",
        "outputId": "5f7beaf4-2215-436d-f6d9-0adcc482f430"
      },
      "execution_count": null,
      "outputs": [
        {
          "output_type": "stream",
          "name": "stdout",
          "text": [
            "<class 'pandas.core.frame.DataFrame'>\n",
            "RangeIndex: 400 entries, 0 to 399\n",
            "Data columns (total 25 columns):\n",
            " #   Column                   Non-Null Count  Dtype  \n",
            "---  ------                   --------------  -----  \n",
            " 0   age                      391 non-null    float64\n",
            " 1   blood_pressure           388 non-null    float64\n",
            " 2   specific_gravity         353 non-null    float64\n",
            " 3   albumin                  354 non-null    float64\n",
            " 4   sugar                    351 non-null    float64\n",
            " 5   red_blood_cells          248 non-null    object \n",
            " 6   pus_cell                 335 non-null    object \n",
            " 7   pus_cell_clumps          396 non-null    object \n",
            " 8   bacteria                 396 non-null    object \n",
            " 9   blood glucose random     356 non-null    float64\n",
            " 10  blood_urea               381 non-null    float64\n",
            " 11  serum_creatinine         383 non-null    float64\n",
            " 12  sodium                   313 non-null    float64\n",
            " 13  potassium                312 non-null    float64\n",
            " 14  hemoglobin               348 non-null    float64\n",
            " 15  packed_cell_volume       330 non-null    object \n",
            " 16  white_blood_cell_count   295 non-null    object \n",
            " 17  red_blood_cell_count     270 non-null    object \n",
            " 18  hypertension             398 non-null    object \n",
            " 19  diabetesmellitus         398 non-null    object \n",
            " 20  coronary_artery_disease  398 non-null    object \n",
            " 21  appetite                 399 non-null    object \n",
            " 22  pedal_edema              399 non-null    object \n",
            " 23  anemia                   399 non-null    object \n",
            " 24  class                    400 non-null    object \n",
            "dtypes: float64(11), object(14)\n",
            "memory usage: 78.2+ KB\n"
          ]
        }
      ]
    },
    {
      "cell_type": "code",
      "source": [
        "# Target Column"
      ],
      "metadata": {
        "id": "owt6FTRA8R9o"
      },
      "execution_count": null,
      "outputs": []
    },
    {
      "cell_type": "code",
      "source": [
        "data['class'].unique()"
      ],
      "metadata": {
        "colab": {
          "base_uri": "https://localhost:8080/"
        },
        "id": "PNXgR_-V8asA",
        "outputId": "040c2321-ee62-46a4-8df2-ae06f32fbec6"
      },
      "execution_count": null,
      "outputs": [
        {
          "output_type": "execute_result",
          "data": {
            "text/plain": [
              "array(['ckd', 'ckd\\t', 'notckd'], dtype=object)"
            ]
          },
          "metadata": {},
          "execution_count": 305
        }
      ]
    },
    {
      "cell_type": "code",
      "source": [
        "# Rectifying the Target Column\n"
      ],
      "metadata": {
        "id": "FZojnIKC8dTF"
      },
      "execution_count": null,
      "outputs": []
    },
    {
      "cell_type": "code",
      "source": [
        "data['class']=data['class'].replace(\"ckd\\t\",\"ckd\")\n",
        "data['class'].unique()"
      ],
      "metadata": {
        "colab": {
          "base_uri": "https://localhost:8080/"
        },
        "id": "aG5oEFN_8hjq",
        "outputId": "cc52c1a5-d52f-43ee-ca4d-672e7396e6ef"
      },
      "execution_count": null,
      "outputs": [
        {
          "output_type": "execute_result",
          "data": {
            "text/plain": [
              "array(['ckd', 'notckd'], dtype=object)"
            ]
          },
          "metadata": {},
          "execution_count": 307
        }
      ]
    },
    {
      "cell_type": "code",
      "source": [
        "catcols = set(data.dtypes[data.dtypes =='O'].index.values)\n",
        "print(catcols)\n"
      ],
      "metadata": {
        "colab": {
          "base_uri": "https://localhost:8080/"
        },
        "id": "6Y_IbxiO8l73",
        "outputId": "6cf95fe5-0967-4c76-f706-8e129571cd1e"
      },
      "execution_count": null,
      "outputs": [
        {
          "output_type": "stream",
          "name": "stdout",
          "text": [
            "{'red_blood_cell_count', 'coronary_artery_disease', 'hypertension', 'pedal_edema', 'packed_cell_volume', 'bacteria', 'diabetesmellitus', 'class', 'red_blood_cells', 'anemia', 'appetite', 'white_blood_cell_count', 'pus_cell_clumps', 'pus_cell'}\n"
          ]
        }
      ]
    },
    {
      "cell_type": "code",
      "source": [
        "for i in catcols:\n",
        " print(\"Columns :\",i)\n",
        " print(c(data[i]))\n",
        " print('*'*120+'\\n')"
      ],
      "metadata": {
        "colab": {
          "base_uri": "https://localhost:8080/"
        },
        "id": "F4hQtqam8rIH",
        "outputId": "f36dc3f0-810f-4ff9-c19d-0dd7f21d2387"
      },
      "execution_count": null,
      "outputs": [
        {
          "output_type": "stream",
          "name": "stdout",
          "text": [
            "Columns : red_blood_cell_count\n",
            "Counter({nan: 130, '5.2': 18, '4.5': 16, '4.9': 14, '4.7': 11, '3.9': 10, '4.8': 10, '4.6': 9, '3.4': 9, '3.7': 8, '5.0': 8, '6.1': 8, '5.5': 8, '5.9': 8, '3.8': 7, '5.4': 7, '5.8': 7, '5.3': 7, '4.3': 6, '4.2': 6, '5.6': 6, '4.4': 5, '3.2': 5, '4.1': 5, '6.2': 5, '5.1': 5, '6.4': 5, '5.7': 5, '6.5': 5, '3.6': 4, '6.0': 4, '6.3': 4, '4.0': 3, '4': 3, '3.5': 3, '3.3': 3, '5': 2, '2.6': 2, '2.8': 2, '2.5': 2, '3.1': 2, '2.1': 2, '2.9': 2, '2.7': 2, '3.0': 2, '2.3': 1, '8.0': 1, '3': 1, '2.4': 1, '\\t?': 1})\n",
            "************************************************************************************************************************\n",
            "\n",
            "Columns : coronary_artery_disease\n",
            "Counter({'no': 362, 'yes': 34, '\\tno': 2, nan: 2})\n",
            "************************************************************************************************************************\n",
            "\n",
            "Columns : hypertension\n",
            "Counter({'no': 251, 'yes': 147, nan: 2})\n",
            "************************************************************************************************************************\n",
            "\n",
            "Columns : pedal_edema\n",
            "Counter({'no': 323, 'yes': 76, nan: 1})\n",
            "************************************************************************************************************************\n",
            "\n",
            "Columns : packed_cell_volume\n",
            "Counter({nan: 70, '52': 21, '41': 21, '44': 19, '48': 19, '40': 16, '43': 14, '45': 13, '42': 13, '32': 12, '36': 12, '33': 12, '28': 12, '50': 12, '37': 11, '34': 11, '35': 9, '29': 9, '30': 9, '46': 9, '31': 8, '39': 7, '24': 7, '26': 6, '38': 5, '47': 4, '49': 4, '53': 4, '51': 4, '54': 4, '27': 3, '22': 3, '25': 3, '23': 2, '19': 2, '16': 1, '\\t?': 1, '14': 1, '18': 1, '17': 1, '15': 1, '21': 1, '20': 1, '\\t43': 1, '9': 1})\n",
            "************************************************************************************************************************\n",
            "\n",
            "Columns : bacteria\n",
            "Counter({'notpresent': 374, 'present': 22, nan: 4})\n",
            "************************************************************************************************************************\n",
            "\n",
            "Columns : diabetesmellitus\n",
            "Counter({'no': 258, 'yes': 134, '\\tno': 3, '\\tyes': 2, nan: 2, ' yes': 1})\n",
            "************************************************************************************************************************\n",
            "\n",
            "Columns : class\n",
            "Counter({'ckd': 250, 'notckd': 150})\n",
            "************************************************************************************************************************\n",
            "\n",
            "Columns : red_blood_cells\n",
            "Counter({'normal': 201, nan: 152, 'abnormal': 47})\n",
            "************************************************************************************************************************\n",
            "\n",
            "Columns : anemia\n",
            "Counter({'no': 339, 'yes': 60, nan: 1})\n",
            "************************************************************************************************************************\n",
            "\n",
            "Columns : appetite\n",
            "Counter({'good': 317, 'poor': 82, nan: 1})\n",
            "************************************************************************************************************************\n",
            "\n",
            "Columns : white_blood_cell_count\n",
            "Counter({nan: 105, '9800': 11, '6700': 10, '9600': 9, '9200': 9, '7200': 9, '6900': 8, '11000': 8, '5800': 8, '7800': 7, '9100': 7, '9400': 7, '7000': 7, '4300': 6, '6300': 6, '10700': 6, '10500': 6, '7500': 5, '8300': 5, '7900': 5, '8600': 5, '5600': 5, '10200': 5, '5000': 5, '8100': 5, '9500': 5, '6000': 4, '6200': 4, '10300': 4, '7700': 4, '5500': 4, '10400': 4, '6800': 4, '6500': 4, '4700': 4, '7300': 3, '4500': 3, '8400': 3, '6400': 3, '4200': 3, '7400': 3, '8000': 3, '5400': 3, '3800': 2, '11400': 2, '5300': 2, '8500': 2, '14600': 2, '7100': 2, '13200': 2, '9000': 2, '8200': 2, '15200': 2, '12400': 2, '12800': 2, '8800': 2, '5700': 2, '9300': 2, '6600': 2, '12100': 1, '12200': 1, '18900': 1, '21600': 1, '11300': 1, '\\t6200': 1, '11800': 1, '12500': 1, '11900': 1, '12700': 1, '13600': 1, '14900': 1, '16300': 1, '\\t8400': 1, '10900': 1, '2200': 1, '11200': 1, '19100': 1, '\\t?': 1, '12300': 1, '16700': 1, '2600': 1, '26400': 1, '4900': 1, '12000': 1, '15700': 1, '4100': 1, '11500': 1, '10800': 1, '9900': 1, '5200': 1, '5900': 1, '9700': 1, '5100': 1})\n",
            "************************************************************************************************************************\n",
            "\n",
            "Columns : pus_cell_clumps\n",
            "Counter({'notpresent': 354, 'present': 42, nan: 4})\n",
            "************************************************************************************************************************\n",
            "\n",
            "Columns : pus_cell\n",
            "Counter({'normal': 259, 'abnormal': 76, nan: 65})\n",
            "************************************************************************************************************************\n",
            "\n"
          ]
        }
      ]
    },
    {
      "cell_type": "code",
      "source": [
        "#Understanding Data Type And Summary Of Features"
      ],
      "metadata": {
        "id": "jmpmBiRP8zq2"
      },
      "execution_count": null,
      "outputs": []
    },
    {
      "cell_type": "code",
      "source": [
        "# Removing the Columns which are not Numerical"
      ],
      "metadata": {
        "id": "FNIxIIKD856w"
      },
      "execution_count": null,
      "outputs": []
    },
    {
      "cell_type": "code",
      "source": [
        "# Categorical Column"
      ],
      "metadata": {
        "id": "2NlRB5U889NG"
      },
      "execution_count": null,
      "outputs": []
    },
    {
      "cell_type": "code",
      "source": [
        "catcols.remove('red_blood_cell_count')\n",
        "catcols.remove('packed_cell_volume')\n",
        "catcols.remove('white_blood_cell_count')\n",
        "print(catcols)"
      ],
      "metadata": {
        "colab": {
          "base_uri": "https://localhost:8080/"
        },
        "id": "WzOSLbs19ADy",
        "outputId": "610392b8-fdbd-41f9-e9cf-d43efaf0f1bb"
      },
      "execution_count": null,
      "outputs": [
        {
          "output_type": "stream",
          "name": "stdout",
          "text": [
            "{'coronary_artery_disease', 'hypertension', 'pedal_edema', 'bacteria', 'diabetesmellitus', 'class', 'red_blood_cells', 'anemia', 'appetite', 'pus_cell_clumps', 'pus_cell'}\n"
          ]
        }
      ]
    },
    {
      "cell_type": "code",
      "source": [
        "# Numerical Columns\n"
      ],
      "metadata": {
        "id": "eH9jF5Bi9CvZ"
      },
      "execution_count": null,
      "outputs": []
    },
    {
      "cell_type": "code",
      "source": [
        "contcols=set(data.dtypes[data.dtypes!='O'].index.values)\n",
        "\n",
        "print(contcols)"
      ],
      "metadata": {
        "colab": {
          "base_uri": "https://localhost:8080/"
        },
        "id": "U-Mo2pJ89Gqv",
        "outputId": "1ca30317-f7d2-49e4-ef9e-74cab854378b"
      },
      "execution_count": null,
      "outputs": [
        {
          "output_type": "stream",
          "name": "stdout",
          "text": [
            "{'age', 'serum_creatinine', 'blood_pressure', 'potassium', 'blood_urea', 'hemoglobin', 'specific_gravity', 'blood glucose random', 'sodium', 'sugar', 'albumin'}\n"
          ]
        }
      ]
    },
    {
      "cell_type": "code",
      "source": [
        "#Removing the columns which are not numerical"
      ],
      "metadata": {
        "id": "NMqXVjBr9KdS"
      },
      "execution_count": null,
      "outputs": []
    },
    {
      "cell_type": "code",
      "source": [
        "contcols.remove('specific_gravity')\n",
        "contcols.remove('albumin')\n",
        "contcols.remove('sugar')\n",
        "print(contcols)"
      ],
      "metadata": {
        "colab": {
          "base_uri": "https://localhost:8080/"
        },
        "id": "LMD7ZjGO9RYq",
        "outputId": "d9e72ae0-70ae-4457-d658-23377c643550"
      },
      "execution_count": null,
      "outputs": [
        {
          "output_type": "stream",
          "name": "stdout",
          "text": [
            "{'age', 'serum_creatinine', 'blood_pressure', 'potassium', 'blood_urea', 'hemoglobin', 'blood glucose random', 'sodium'}\n"
          ]
        }
      ]
    },
    {
      "cell_type": "code",
      "source": [
        "#Understanding Data Type And Summary Of Features"
      ],
      "metadata": {
        "id": "TLz2i-vw9T-y"
      },
      "execution_count": null,
      "outputs": []
    },
    {
      "cell_type": "code",
      "source": [
        "# Adding columns which we found continuous"
      ],
      "metadata": {
        "id": "dMTf51WD9XNB"
      },
      "execution_count": null,
      "outputs": []
    },
    {
      "cell_type": "code",
      "source": [
        "contcols.add('red_blood_cell_count') # using add we can add the column\n",
        "contcols.add('packed_cell_volume')\n",
        "contcols.add('white_blood_cell_count')\n",
        "print(contcols)"
      ],
      "metadata": {
        "colab": {
          "base_uri": "https://localhost:8080/"
        },
        "id": "0dWJXORP9Z_9",
        "outputId": "ad885ff9-ad4d-4732-aa1e-45526a76a7ae"
      },
      "execution_count": null,
      "outputs": [
        {
          "output_type": "stream",
          "name": "stdout",
          "text": [
            "{'red_blood_cell_count', 'age', 'serum_creatinine', 'blood_pressure', 'packed_cell_volume', 'potassium', 'blood_urea', 'hemoglobin', 'blood glucose random', 'sodium', 'white_blood_cell_count'}\n"
          ]
        }
      ]
    },
    {
      "cell_type": "code",
      "source": [
        "# Adding columns which we found Categorical"
      ],
      "metadata": {
        "id": "OOB7EwrX9eKW"
      },
      "execution_count": null,
      "outputs": []
    },
    {
      "cell_type": "code",
      "source": [
        "catcols.add('specific_gravity')\n",
        "catcols.add('albumin')\n",
        "catcols.add('sugar')\n",
        "print(catcols)"
      ],
      "metadata": {
        "colab": {
          "base_uri": "https://localhost:8080/"
        },
        "id": "sSx9qhDV9h0A",
        "outputId": "78713e1c-ba80-4ede-e61d-207bad861580"
      },
      "execution_count": null,
      "outputs": [
        {
          "output_type": "stream",
          "name": "stdout",
          "text": [
            "{'coronary_artery_disease', 'hypertension', 'pedal_edema', 'albumin', 'bacteria', 'diabetesmellitus', 'class', 'specific_gravity', 'sugar', 'red_blood_cells', 'anemia', 'appetite', 'pus_cell_clumps', 'pus_cell'}\n"
          ]
        }
      ]
    },
    {
      "cell_type": "code",
      "source": [
        "# Rectifying the Categorical column classes\n",
        "\n"
      ],
      "metadata": {
        "id": "b4qnAIwd9kdv"
      },
      "execution_count": null,
      "outputs": []
    },
    {
      "cell_type": "code",
      "source": [
        "data['coronary_artery_disease'] = data.coronary_artery_disease.replace('\\tno','no') # replacing \\tno with no\n",
        "c(data['coronary_artery_disease'])"
      ],
      "metadata": {
        "colab": {
          "base_uri": "https://localhost:8080/"
        },
        "id": "5pbDvlHE9sRe",
        "outputId": "a0619500-5d95-4464-cada-feb160f8c97e"
      },
      "execution_count": null,
      "outputs": [
        {
          "output_type": "execute_result",
          "data": {
            "text/plain": [
              "Counter({'no': 364, 'yes': 34, nan: 2})"
            ]
          },
          "metadata": {},
          "execution_count": 324
        }
      ]
    },
    {
      "cell_type": "code",
      "source": [
        "data['diabetesmellitus'] = data.diabetesmellitus.replace(to_replace={'\\tno':'no','\\tyes':'yes','yes':'yes'})\n",
        "c(data['diabetesmellitus'])"
      ],
      "metadata": {
        "colab": {
          "base_uri": "https://localhost:8080/"
        },
        "id": "YScJ16Tw9xGZ",
        "outputId": "9effe6f1-cb7f-4e6b-a7f3-07c9d180cf9e"
      },
      "execution_count": null,
      "outputs": [
        {
          "output_type": "execute_result",
          "data": {
            "text/plain": [
              "Counter({'yes': 136, 'no': 261, ' yes': 1, nan: 2})"
            ]
          },
          "metadata": {},
          "execution_count": 325
        }
      ]
    },
    {
      "cell_type": "code",
      "source": [
        "# Null Values\n"
      ],
      "metadata": {
        "id": "gCPD-trX90da"
      },
      "execution_count": null,
      "outputs": []
    },
    {
      "cell_type": "code",
      "source": [
        "#Handling missing values"
      ],
      "metadata": {
        "id": "rbHOZ7Jk94X7"
      },
      "execution_count": null,
      "outputs": []
    },
    {
      "cell_type": "code",
      "source": [
        "data.isnull().any()"
      ],
      "metadata": {
        "colab": {
          "base_uri": "https://localhost:8080/"
        },
        "id": "prOQZps-98ok",
        "outputId": "4097db5a-0fcd-4f23-9137-056e177e2361"
      },
      "execution_count": null,
      "outputs": [
        {
          "output_type": "execute_result",
          "data": {
            "text/plain": [
              "age                         True\n",
              "blood_pressure              True\n",
              "specific_gravity            True\n",
              "albumin                     True\n",
              "sugar                       True\n",
              "red_blood_cells             True\n",
              "pus_cell                    True\n",
              "pus_cell_clumps             True\n",
              "bacteria                    True\n",
              "blood glucose random        True\n",
              "blood_urea                  True\n",
              "serum_creatinine            True\n",
              "sodium                      True\n",
              "potassium                   True\n",
              "hemoglobin                  True\n",
              "packed_cell_volume          True\n",
              "white_blood_cell_count      True\n",
              "red_blood_cell_count        True\n",
              "hypertension                True\n",
              "diabetesmellitus            True\n",
              "coronary_artery_disease     True\n",
              "appetite                    True\n",
              "pedal_edema                 True\n",
              "anemia                      True\n",
              "class                      False\n",
              "dtype: bool"
            ]
          },
          "metadata": {},
          "execution_count": 328
        }
      ]
    },
    {
      "cell_type": "code",
      "source": [
        "data.isnull().sum()"
      ],
      "metadata": {
        "colab": {
          "base_uri": "https://localhost:8080/"
        },
        "id": "pW2o_AqR9_Pt",
        "outputId": "f0b7405c-a43b-4869-fb80-b7f65030551d"
      },
      "execution_count": null,
      "outputs": [
        {
          "output_type": "execute_result",
          "data": {
            "text/plain": [
              "age                          9\n",
              "blood_pressure              12\n",
              "specific_gravity            47\n",
              "albumin                     46\n",
              "sugar                       49\n",
              "red_blood_cells            152\n",
              "pus_cell                    65\n",
              "pus_cell_clumps              4\n",
              "bacteria                     4\n",
              "blood glucose random        44\n",
              "blood_urea                  19\n",
              "serum_creatinine            17\n",
              "sodium                      87\n",
              "potassium                   88\n",
              "hemoglobin                  52\n",
              "packed_cell_volume          70\n",
              "white_blood_cell_count     105\n",
              "red_blood_cell_count       130\n",
              "hypertension                 2\n",
              "diabetesmellitus             2\n",
              "coronary_artery_disease      2\n",
              "appetite                     1\n",
              "pedal_edema                  1\n",
              "anemia                       1\n",
              "class                        0\n",
              "dtype: int64"
            ]
          },
          "metadata": {},
          "execution_count": 329
        }
      ]
    },
    {
      "cell_type": "code",
      "source": [
        "data.packed_cell_volume = pd.to_numeric(data.packed_cell_volume,errors='coerce')\n",
        "data.white_blood_cell_count = pd.to_numeric(data.white_blood_cell_count,errors='coerce')\n",
        "data.red_blood_cell_count = pd.to_numeric(data.red_blood_cell_count,errors='coerce')"
      ],
      "metadata": {
        "id": "mnQ6IAPG-MZ4"
      },
      "execution_count": null,
      "outputs": []
    },
    {
      "cell_type": "code",
      "source": [
        "#Replacing the missing values"
      ],
      "metadata": {
        "id": "MOWRDPei-bbB"
      },
      "execution_count": null,
      "outputs": []
    },
    {
      "cell_type": "code",
      "source": [
        "# Handling Continuous/numerical colunmns null values"
      ],
      "metadata": {
        "id": "f2pNOpKp-fku"
      },
      "execution_count": null,
      "outputs": []
    },
    {
      "cell_type": "code",
      "source": [
        "data['blood glucose random'].fillna(data['blood glucose random'].mean(),inplace=True)\n",
        "data['blood_pressure'].fillna(data['blood_pressure'].mean(),inplace=True)\n",
        "data['blood_urea'].fillna(data['blood_urea'].mean(),inplace=True)\n",
        "data['hemoglobin'].fillna(data['hemoglobin'].mean(),inplace=True)\n",
        "data['packed_cell_volume'].fillna(data['packed_cell_volume'].mean(),inplace=True)\n",
        "data['potassium'].fillna(data['potassium'].mean(),inplace=True)\n",
        "data['red_blood_cell_count'].fillna(data['red_blood_cell_count'].mean(),inplace=True)\n",
        "data['serum_creatinine'].fillna(data['serum_creatinine'].mean(),inplace=True)\n",
        "data['sodium'].fillna(data['sodium'].mean(),inplace=True)\n",
        "data['white_blood_cell_count'].fillna(data['white_blood_cell_count'].mean(),inplace=True)"
      ],
      "metadata": {
        "id": "qax_a6n1-irF"
      },
      "execution_count": null,
      "outputs": []
    },
    {
      "cell_type": "code",
      "source": [
        "data['age'].fillna(data['age'].mode()[0],inplace=True)\n",
        "data['hypertension'].fillna(data['hypertension'].mode()[0],inplace=True)\n",
        "data['pus_cell_clumps'].fillna(data['pus_cell_clumps'].mode()[0],inplace=True)\n",
        "data['appetite'].fillna(data['appetite'].mode()[0],inplace=True)\n",
        "data['albumin'].fillna(data['albumin'].mode()[0],inplace=True)\n",
        "data['pus_cell'].fillna(data['pus_cell'].mode()[0],inplace=True)\n",
        "data['red_blood_cells'].fillna(data['red_blood_cells'].mode()[0],inplace=True)\n",
        "data['coronary_artery_disease'].fillna(data['coronary_artery_disease'].mode()[0],inplace=True)\n",
        "data['bacteria'].fillna(data['bacteria'].mode()[0],inplace=True)\n",
        "data['anemia'].fillna(data['anemia'].mode()[0],inplace=True)\n",
        "data['sugar'].fillna(data['sugar'].mode()[0],inplace=True)\n",
        "data['diabetesmellitus'].fillna(data['diabetesmellitus'].mode()[0],inplace=True)\n",
        "data['pedal_edema'].fillna(data['pedal_edema'].mode()[0],inplace=True)\n",
        "data['specific_gravity'].fillna(data['specific_gravity'].mode()[0],inplace=True)"
      ],
      "metadata": {
        "id": "A2c1d9yM-lxP"
      },
      "execution_count": null,
      "outputs": []
    },
    {
      "cell_type": "code",
      "source": [
        "data.isnull().sum()"
      ],
      "metadata": {
        "colab": {
          "base_uri": "https://localhost:8080/"
        },
        "id": "YZ1cXrwh-pPB",
        "outputId": "eef20145-6cc8-47db-8ff7-8984a3a24198"
      },
      "execution_count": null,
      "outputs": [
        {
          "output_type": "execute_result",
          "data": {
            "text/plain": [
              "age                        0\n",
              "blood_pressure             0\n",
              "specific_gravity           0\n",
              "albumin                    0\n",
              "sugar                      0\n",
              "red_blood_cells            0\n",
              "pus_cell                   0\n",
              "pus_cell_clumps            0\n",
              "bacteria                   0\n",
              "blood glucose random       0\n",
              "blood_urea                 0\n",
              "serum_creatinine           0\n",
              "sodium                     0\n",
              "potassium                  0\n",
              "hemoglobin                 0\n",
              "packed_cell_volume         0\n",
              "white_blood_cell_count     0\n",
              "red_blood_cell_count       0\n",
              "hypertension               0\n",
              "diabetesmellitus           0\n",
              "coronary_artery_disease    0\n",
              "appetite                   0\n",
              "pedal_edema                0\n",
              "anemia                     0\n",
              "class                      0\n",
              "dtype: int64"
            ]
          },
          "metadata": {},
          "execution_count": 335
        }
      ]
    },
    {
      "cell_type": "code",
      "source": [
        "# Label Encoding"
      ],
      "metadata": {
        "id": "q_cu4xox-tvw"
      },
      "execution_count": null,
      "outputs": []
    },
    {
      "cell_type": "code",
      "source": [
        "from sklearn.preprocessing import LabelEncoder\n",
        "for i in catcols:\n",
        "  print(\"LABEL ENCODING OF:\",i)\n",
        "  LEi = LabelEncoder()\n",
        "  print(c(data[i]))\n",
        "  data[i] = LEi.fit_transform(data[i]) \n",
        "  print(c(data[i]))\n",
        "  print(\"*\"*100)"
      ],
      "metadata": {
        "colab": {
          "base_uri": "https://localhost:8080/"
        },
        "id": "H0qUNQ7w-zDV",
        "outputId": "445865c3-bcf4-4a40-b9f2-a12e40d9cbf2"
      },
      "execution_count": null,
      "outputs": [
        {
          "output_type": "stream",
          "name": "stdout",
          "text": [
            "LABEL ENCODING OF: coronary_artery_disease\n",
            "Counter({'no': 366, 'yes': 34})\n",
            "Counter({0: 366, 1: 34})\n",
            "****************************************************************************************************\n",
            "LABEL ENCODING OF: hypertension\n",
            "Counter({'no': 253, 'yes': 147})\n",
            "Counter({0: 253, 1: 147})\n",
            "****************************************************************************************************\n",
            "LABEL ENCODING OF: pedal_edema\n",
            "Counter({'no': 324, 'yes': 76})\n",
            "Counter({0: 324, 1: 76})\n",
            "****************************************************************************************************\n",
            "LABEL ENCODING OF: albumin\n",
            "Counter({0.0: 245, 1.0: 44, 2.0: 43, 3.0: 43, 4.0: 24, 5.0: 1})\n",
            "Counter({0: 245, 1: 44, 2: 43, 3: 43, 4: 24, 5: 1})\n",
            "****************************************************************************************************\n",
            "LABEL ENCODING OF: bacteria\n",
            "Counter({'notpresent': 378, 'present': 22})\n",
            "Counter({0: 378, 1: 22})\n",
            "****************************************************************************************************\n",
            "LABEL ENCODING OF: diabetesmellitus\n",
            "Counter({'no': 263, 'yes': 136, ' yes': 1})\n",
            "Counter({1: 263, 2: 136, 0: 1})\n",
            "****************************************************************************************************\n",
            "LABEL ENCODING OF: class\n",
            "Counter({'ckd': 250, 'notckd': 150})\n",
            "Counter({0: 250, 1: 150})\n",
            "****************************************************************************************************\n",
            "LABEL ENCODING OF: specific_gravity\n",
            "Counter({1.02: 153, 1.01: 84, 1.025: 81, 1.015: 75, 1.005: 7})\n",
            "Counter({3: 153, 1: 84, 4: 81, 2: 75, 0: 7})\n",
            "****************************************************************************************************\n",
            "LABEL ENCODING OF: sugar\n",
            "Counter({0.0: 339, 2.0: 18, 3.0: 14, 4.0: 13, 1.0: 13, 5.0: 3})\n",
            "Counter({0: 339, 2: 18, 3: 14, 4: 13, 1: 13, 5: 3})\n",
            "****************************************************************************************************\n",
            "LABEL ENCODING OF: red_blood_cells\n",
            "Counter({'normal': 353, 'abnormal': 47})\n",
            "Counter({1: 353, 0: 47})\n",
            "****************************************************************************************************\n",
            "LABEL ENCODING OF: anemia\n",
            "Counter({'no': 340, 'yes': 60})\n",
            "Counter({0: 340, 1: 60})\n",
            "****************************************************************************************************\n",
            "LABEL ENCODING OF: appetite\n",
            "Counter({'good': 318, 'poor': 82})\n",
            "Counter({0: 318, 1: 82})\n",
            "****************************************************************************************************\n",
            "LABEL ENCODING OF: pus_cell_clumps\n",
            "Counter({'notpresent': 358, 'present': 42})\n",
            "Counter({0: 358, 1: 42})\n",
            "****************************************************************************************************\n",
            "LABEL ENCODING OF: pus_cell\n",
            "Counter({'normal': 324, 'abnormal': 76})\n",
            "Counter({1: 324, 0: 76})\n",
            "****************************************************************************************************\n"
          ]
        }
      ]
    },
    {
      "cell_type": "code",
      "source": [
        "#Splitting The Dataset Into Dependent And Independent Variable"
      ],
      "metadata": {
        "id": "vo7f7BU5-18L"
      },
      "execution_count": null,
      "outputs": []
    },
    {
      "cell_type": "code",
      "source": [
        "selcols=['red_blood_cells','pus_cell','blood glucose random','blood_urea','pedal_edema','anemia','diabetesmellitus','coronary_artery_disease']\n",
        "x=pd.DataFrame(data,columns=selcols)\n",
        "y=pd.DataFrame(data,columns=['class'])\n",
        "print(x.shape)\n",
        "print(y.shape)"
      ],
      "metadata": {
        "colab": {
          "base_uri": "https://localhost:8080/"
        },
        "id": "Hy2l4nE0-72r",
        "outputId": "3ddc6991-dd9d-45b2-ff9b-6233746e260d"
      },
      "execution_count": null,
      "outputs": [
        {
          "output_type": "stream",
          "name": "stdout",
          "text": [
            "(400, 8)\n",
            "(400, 1)\n"
          ]
        }
      ]
    },
    {
      "cell_type": "code",
      "source": [
        "#Split The Dataset Into Train Set And Test Set"
      ],
      "metadata": {
        "id": "_rpfAC21-_Kr"
      },
      "execution_count": null,
      "outputs": []
    },
    {
      "cell_type": "code",
      "source": [
        "from sklearn.model_selection import train_test_split\n",
        "x_train,x_test,y_train,y_test=train_test_split(x,y,test_size=0.2,random_state=None)"
      ],
      "metadata": {
        "id": "ulGgcwTg_Coh"
      },
      "execution_count": null,
      "outputs": []
    },
    {
      "cell_type": "code",
      "source": [
        "print(x_train.shape)\n",
        "print(y_train.shape)\n",
        "print(x_test.shape)\n",
        "print(y_test.shape)"
      ],
      "metadata": {
        "colab": {
          "base_uri": "https://localhost:8080/"
        },
        "id": "zr8qZMwM_H0l",
        "outputId": "2b900b53-3441-4b7e-ab17-a68db3fcbcba"
      },
      "execution_count": null,
      "outputs": [
        {
          "output_type": "stream",
          "name": "stdout",
          "text": [
            "(320, 8)\n",
            "(320, 1)\n",
            "(80, 8)\n",
            "(80, 1)\n"
          ]
        }
      ]
    },
    {
      "cell_type": "code",
      "source": [
        "#Model Building"
      ],
      "metadata": {
        "id": "lgGC-i8v_KO1"
      },
      "execution_count": null,
      "outputs": []
    },
    {
      "cell_type": "code",
      "source": [
        "from sklearn.linear_model import LogisticRegression\n",
        "lgr = LogisticRegression()\n",
        "lgr.fit(x_train,y_train)"
      ],
      "metadata": {
        "colab": {
          "base_uri": "https://localhost:8080/"
        },
        "id": "06WAOW-S_Nfr",
        "outputId": "9dab9caf-4339-4618-a026-2e9ed7a95ebc"
      },
      "execution_count": null,
      "outputs": [
        {
          "output_type": "execute_result",
          "data": {
            "text/plain": [
              "LogisticRegression()"
            ]
          },
          "metadata": {},
          "execution_count": 344
        }
      ]
    },
    {
      "cell_type": "code",
      "source": [
        "#Test The Model"
      ],
      "metadata": {
        "id": "j7SQso7m_Q23"
      },
      "execution_count": null,
      "outputs": []
    },
    {
      "cell_type": "code",
      "source": [
        "y_pred = lgr.predict(x_test)"
      ],
      "metadata": {
        "id": "CRfGKi_i_XVQ"
      },
      "execution_count": null,
      "outputs": []
    },
    {
      "cell_type": "code",
      "source": [
        "y_pred1 = lgr.predict([[129,99,1,0,0,1,0,1]])\n",
        "print(y_pred1)\n",
        "c(y_pred1)"
      ],
      "metadata": {
        "colab": {
          "base_uri": "https://localhost:8080/"
        },
        "id": "zDXFbAiZ_bjt",
        "outputId": "8e4a0282-eb1f-42f5-85f8-e4d6fac5cb20"
      },
      "execution_count": null,
      "outputs": [
        {
          "output_type": "stream",
          "name": "stdout",
          "text": [
            "[1]\n"
          ]
        },
        {
          "output_type": "execute_result",
          "data": {
            "text/plain": [
              "Counter({1: 1})"
            ]
          },
          "metadata": {},
          "execution_count": 347
        }
      ]
    },
    {
      "cell_type": "code",
      "source": [
        "# Accuracy score of Model"
      ],
      "metadata": {
        "id": "fcmxggi8_fn6"
      },
      "execution_count": null,
      "outputs": []
    },
    {
      "cell_type": "code",
      "source": [
        "accuracy_score(y_test,y_pred)\n"
      ],
      "metadata": {
        "colab": {
          "base_uri": "https://localhost:8080/"
        },
        "id": "l15BVomy_kI2",
        "outputId": "4fc6a8dc-837e-456f-cfbb-77518be21b68"
      },
      "execution_count": null,
      "outputs": [
        {
          "output_type": "execute_result",
          "data": {
            "text/plain": [
              "0.95"
            ]
          },
          "metadata": {},
          "execution_count": 349
        }
      ]
    },
    {
      "cell_type": "code",
      "source": [
        "# Confusion Matrix of our Model"
      ],
      "metadata": {
        "id": "eGqYOtCy_m80"
      },
      "execution_count": null,
      "outputs": []
    },
    {
      "cell_type": "code",
      "source": [
        "conf_mat = confusion_matrix(y_test,y_pred)\n",
        "conf_mat"
      ],
      "metadata": {
        "colab": {
          "base_uri": "https://localhost:8080/"
        },
        "id": "E9hSvdBY_plV",
        "outputId": "8a4f6b36-8edf-40ba-a2c8-0e9a3f45c2da"
      },
      "execution_count": null,
      "outputs": [
        {
          "output_type": "execute_result",
          "data": {
            "text/plain": [
              "array([[43,  4],\n",
              "       [ 0, 33]])"
            ]
          },
          "metadata": {},
          "execution_count": 351
        }
      ]
    },
    {
      "cell_type": "code",
      "source": [
        "\n",
        "%cd /content/drive/MyDrive/Dataset"
      ],
      "metadata": {
        "colab": {
          "base_uri": "https://localhost:8080/"
        },
        "id": "6aCXO-fK_sDF",
        "outputId": "7c55e769-24ee-4293-df90-75a0462b46d2"
      },
      "execution_count": null,
      "outputs": [
        {
          "output_type": "stream",
          "name": "stdout",
          "text": [
            "/content/drive/MyDrive/Dataset\n"
          ]
        }
      ]
    },
    {
      "cell_type": "code",
      "source": [
        "#Save the model"
      ],
      "metadata": {
        "id": "c2dR1tgK_7pI"
      },
      "execution_count": null,
      "outputs": []
    },
    {
      "cell_type": "code",
      "source": [
        "pickle.dump(lgr, open('CKD.pkl','wb'))"
      ],
      "metadata": {
        "id": "8kPzVO5PABOT"
      },
      "execution_count": null,
      "outputs": []
    },
    {
      "cell_type": "code",
      "source": [
        "#model building"
      ],
      "metadata": {
        "id": "8ti7dHFeAQeP"
      },
      "execution_count": null,
      "outputs": []
    },
    {
      "cell_type": "code",
      "source": [
        "import numpy as np\n",
        "import pandas as pd\n",
        "import matplotlib.pyplot as plt\n",
        "!pip install dython\n",
        "from dython.nominal import associations\n",
        "import seaborn as sns\n",
        "import warnings\n",
        "warnings.filterwarnings('ignore')"
      ],
      "metadata": {
        "colab": {
          "base_uri": "https://localhost:8080/"
        },
        "id": "GCcmDckNNH2f",
        "outputId": "d35a1deb-eaa6-4fe2-dd88-a6c0b1d636fa"
      },
      "execution_count": null,
      "outputs": [
        {
          "output_type": "stream",
          "name": "stdout",
          "text": [
            "Looking in indexes: https://pypi.org/simple, https://us-python.pkg.dev/colab-wheels/public/simple/\n",
            "Requirement already satisfied: dython in /usr/local/lib/python3.7/dist-packages (0.7.2)\n",
            "Requirement already satisfied: numpy>=1.19.5 in /usr/local/lib/python3.7/dist-packages (from dython) (1.21.6)\n",
            "Requirement already satisfied: seaborn>=0.11.0 in /usr/local/lib/python3.7/dist-packages (from dython) (0.11.2)\n",
            "Requirement already satisfied: scikit-learn>=0.24.2 in /usr/local/lib/python3.7/dist-packages (from dython) (1.0.2)\n",
            "Requirement already satisfied: matplotlib>=3.4.3 in /usr/local/lib/python3.7/dist-packages (from dython) (3.5.3)\n",
            "Requirement already satisfied: scipy>=1.7.1 in /usr/local/lib/python3.7/dist-packages (from dython) (1.7.3)\n",
            "Requirement already satisfied: pandas>=1.3.2 in /usr/local/lib/python3.7/dist-packages (from dython) (1.3.5)\n",
            "Requirement already satisfied: psutil>=5.9.1 in /usr/local/lib/python3.7/dist-packages (from dython) (5.9.4)\n",
            "Requirement already satisfied: scikit-plot>=0.3.7 in /usr/local/lib/python3.7/dist-packages (from dython) (0.3.7)\n",
            "Requirement already satisfied: packaging>=20.0 in /usr/local/lib/python3.7/dist-packages (from matplotlib>=3.4.3->dython) (21.3)\n",
            "Requirement already satisfied: pillow>=6.2.0 in /usr/local/lib/python3.7/dist-packages (from matplotlib>=3.4.3->dython) (7.1.2)\n",
            "Requirement already satisfied: python-dateutil>=2.7 in /usr/local/lib/python3.7/dist-packages (from matplotlib>=3.4.3->dython) (2.8.2)\n",
            "Requirement already satisfied: pyparsing>=2.2.1 in /usr/local/lib/python3.7/dist-packages (from matplotlib>=3.4.3->dython) (3.0.9)\n",
            "Requirement already satisfied: kiwisolver>=1.0.1 in /usr/local/lib/python3.7/dist-packages (from matplotlib>=3.4.3->dython) (1.4.4)\n",
            "Requirement already satisfied: cycler>=0.10 in /usr/local/lib/python3.7/dist-packages (from matplotlib>=3.4.3->dython) (0.11.0)\n",
            "Requirement already satisfied: fonttools>=4.22.0 in /usr/local/lib/python3.7/dist-packages (from matplotlib>=3.4.3->dython) (4.38.0)\n",
            "Requirement already satisfied: typing-extensions in /usr/local/lib/python3.7/dist-packages (from kiwisolver>=1.0.1->matplotlib>=3.4.3->dython) (4.1.1)\n",
            "Requirement already satisfied: pytz>=2017.3 in /usr/local/lib/python3.7/dist-packages (from pandas>=1.3.2->dython) (2022.6)\n",
            "Requirement already satisfied: six>=1.5 in /usr/local/lib/python3.7/dist-packages (from python-dateutil>=2.7->matplotlib>=3.4.3->dython) (1.15.0)\n",
            "Requirement already satisfied: joblib>=0.11 in /usr/local/lib/python3.7/dist-packages (from scikit-learn>=0.24.2->dython) (1.2.0)\n",
            "Requirement already satisfied: threadpoolctl>=2.0.0 in /usr/local/lib/python3.7/dist-packages (from scikit-learn>=0.24.2->dython) (3.1.0)\n"
          ]
        }
      ]
    },
    {
      "cell_type": "code",
      "source": [
        "# New section"
      ],
      "metadata": {
        "id": "mr_aOOK5OYsf"
      },
      "execution_count": null,
      "outputs": []
    },
    {
      "cell_type": "code",
      "source": [
        "from google.colab import drive\n",
        "drive.mount('/content/drive')"
      ],
      "metadata": {
        "colab": {
          "base_uri": "https://localhost:8080/"
        },
        "id": "1gnp0CBvOl75",
        "outputId": "0e10c366-4b4b-4e78-ec7d-0e83bc4043b9"
      },
      "execution_count": null,
      "outputs": [
        {
          "output_type": "stream",
          "name": "stdout",
          "text": [
            "Drive already mounted at /content/drive; to attempt to forcibly remount, call drive.mount(\"/content/drive\", force_remount=True).\n"
          ]
        }
      ]
    },
    {
      "cell_type": "code",
      "source": [
        "df=pd.read_csv(\"/content/drive/MyDrive/Dataset/chronickidneydisease (2).csv\")\n",
        "df"
      ],
      "metadata": {
        "colab": {
          "base_uri": "https://localhost:8080/",
          "height": 488
        },
        "id": "J2QJpyGoOrYt",
        "outputId": "4b330d35-3561-48fa-e883-69dbf342e10d"
      },
      "execution_count": null,
      "outputs": [
        {
          "output_type": "execute_result",
          "data": {
            "text/plain": [
              "      id   age    bp     sg   al   su     rbc        pc         pcc  \\\n",
              "0      0  48.0  80.0  1.020  1.0  0.0     NaN    normal  notpresent   \n",
              "1      1   7.0  50.0  1.020  4.0  0.0     NaN    normal  notpresent   \n",
              "2      2  62.0  80.0  1.010  2.0  3.0  normal    normal  notpresent   \n",
              "3      3  48.0  70.0  1.005  4.0  0.0  normal  abnormal     present   \n",
              "4      4  51.0  80.0  1.010  2.0  0.0  normal    normal  notpresent   \n",
              "..   ...   ...   ...    ...  ...  ...     ...       ...         ...   \n",
              "395  395  55.0  80.0  1.020  0.0  0.0  normal    normal  notpresent   \n",
              "396  396  42.0  70.0  1.025  0.0  0.0  normal    normal  notpresent   \n",
              "397  397  12.0  80.0  1.020  0.0  0.0  normal    normal  notpresent   \n",
              "398  398  17.0  60.0  1.025  0.0  0.0  normal    normal  notpresent   \n",
              "399  399  58.0  80.0  1.025  0.0  0.0  normal    normal  notpresent   \n",
              "\n",
              "             ba  ...  pcv    wc   rc  htn   dm  cad appet   pe  ane  \\\n",
              "0    notpresent  ...   44  7800  5.2  yes  yes   no  good   no   no   \n",
              "1    notpresent  ...   38  6000  NaN   no   no   no  good   no   no   \n",
              "2    notpresent  ...   31  7500  NaN   no  yes   no  poor   no  yes   \n",
              "3    notpresent  ...   32  6700  3.9  yes   no   no  poor  yes  yes   \n",
              "4    notpresent  ...   35  7300  4.6   no   no   no  good   no   no   \n",
              "..          ...  ...  ...   ...  ...  ...  ...  ...   ...  ...  ...   \n",
              "395  notpresent  ...   47  6700  4.9   no   no   no  good   no   no   \n",
              "396  notpresent  ...   54  7800  6.2   no   no   no  good   no   no   \n",
              "397  notpresent  ...   49  6600  5.4   no   no   no  good   no   no   \n",
              "398  notpresent  ...   51  7200  5.9   no   no   no  good   no   no   \n",
              "399  notpresent  ...   53  6800  6.1   no   no   no  good   no   no   \n",
              "\n",
              "    classification  \n",
              "0              ckd  \n",
              "1              ckd  \n",
              "2              ckd  \n",
              "3              ckd  \n",
              "4              ckd  \n",
              "..             ...  \n",
              "395         notckd  \n",
              "396         notckd  \n",
              "397         notckd  \n",
              "398         notckd  \n",
              "399         notckd  \n",
              "\n",
              "[400 rows x 26 columns]"
            ],
            "text/html": [
              "\n",
              "  <div id=\"df-b6b9b036-b97b-401c-99e2-de2a2c04f04f\">\n",
              "    <div class=\"colab-df-container\">\n",
              "      <div>\n",
              "<style scoped>\n",
              "    .dataframe tbody tr th:only-of-type {\n",
              "        vertical-align: middle;\n",
              "    }\n",
              "\n",
              "    .dataframe tbody tr th {\n",
              "        vertical-align: top;\n",
              "    }\n",
              "\n",
              "    .dataframe thead th {\n",
              "        text-align: right;\n",
              "    }\n",
              "</style>\n",
              "<table border=\"1\" class=\"dataframe\">\n",
              "  <thead>\n",
              "    <tr style=\"text-align: right;\">\n",
              "      <th></th>\n",
              "      <th>id</th>\n",
              "      <th>age</th>\n",
              "      <th>bp</th>\n",
              "      <th>sg</th>\n",
              "      <th>al</th>\n",
              "      <th>su</th>\n",
              "      <th>rbc</th>\n",
              "      <th>pc</th>\n",
              "      <th>pcc</th>\n",
              "      <th>ba</th>\n",
              "      <th>...</th>\n",
              "      <th>pcv</th>\n",
              "      <th>wc</th>\n",
              "      <th>rc</th>\n",
              "      <th>htn</th>\n",
              "      <th>dm</th>\n",
              "      <th>cad</th>\n",
              "      <th>appet</th>\n",
              "      <th>pe</th>\n",
              "      <th>ane</th>\n",
              "      <th>classification</th>\n",
              "    </tr>\n",
              "  </thead>\n",
              "  <tbody>\n",
              "    <tr>\n",
              "      <th>0</th>\n",
              "      <td>0</td>\n",
              "      <td>48.0</td>\n",
              "      <td>80.0</td>\n",
              "      <td>1.020</td>\n",
              "      <td>1.0</td>\n",
              "      <td>0.0</td>\n",
              "      <td>NaN</td>\n",
              "      <td>normal</td>\n",
              "      <td>notpresent</td>\n",
              "      <td>notpresent</td>\n",
              "      <td>...</td>\n",
              "      <td>44</td>\n",
              "      <td>7800</td>\n",
              "      <td>5.2</td>\n",
              "      <td>yes</td>\n",
              "      <td>yes</td>\n",
              "      <td>no</td>\n",
              "      <td>good</td>\n",
              "      <td>no</td>\n",
              "      <td>no</td>\n",
              "      <td>ckd</td>\n",
              "    </tr>\n",
              "    <tr>\n",
              "      <th>1</th>\n",
              "      <td>1</td>\n",
              "      <td>7.0</td>\n",
              "      <td>50.0</td>\n",
              "      <td>1.020</td>\n",
              "      <td>4.0</td>\n",
              "      <td>0.0</td>\n",
              "      <td>NaN</td>\n",
              "      <td>normal</td>\n",
              "      <td>notpresent</td>\n",
              "      <td>notpresent</td>\n",
              "      <td>...</td>\n",
              "      <td>38</td>\n",
              "      <td>6000</td>\n",
              "      <td>NaN</td>\n",
              "      <td>no</td>\n",
              "      <td>no</td>\n",
              "      <td>no</td>\n",
              "      <td>good</td>\n",
              "      <td>no</td>\n",
              "      <td>no</td>\n",
              "      <td>ckd</td>\n",
              "    </tr>\n",
              "    <tr>\n",
              "      <th>2</th>\n",
              "      <td>2</td>\n",
              "      <td>62.0</td>\n",
              "      <td>80.0</td>\n",
              "      <td>1.010</td>\n",
              "      <td>2.0</td>\n",
              "      <td>3.0</td>\n",
              "      <td>normal</td>\n",
              "      <td>normal</td>\n",
              "      <td>notpresent</td>\n",
              "      <td>notpresent</td>\n",
              "      <td>...</td>\n",
              "      <td>31</td>\n",
              "      <td>7500</td>\n",
              "      <td>NaN</td>\n",
              "      <td>no</td>\n",
              "      <td>yes</td>\n",
              "      <td>no</td>\n",
              "      <td>poor</td>\n",
              "      <td>no</td>\n",
              "      <td>yes</td>\n",
              "      <td>ckd</td>\n",
              "    </tr>\n",
              "    <tr>\n",
              "      <th>3</th>\n",
              "      <td>3</td>\n",
              "      <td>48.0</td>\n",
              "      <td>70.0</td>\n",
              "      <td>1.005</td>\n",
              "      <td>4.0</td>\n",
              "      <td>0.0</td>\n",
              "      <td>normal</td>\n",
              "      <td>abnormal</td>\n",
              "      <td>present</td>\n",
              "      <td>notpresent</td>\n",
              "      <td>...</td>\n",
              "      <td>32</td>\n",
              "      <td>6700</td>\n",
              "      <td>3.9</td>\n",
              "      <td>yes</td>\n",
              "      <td>no</td>\n",
              "      <td>no</td>\n",
              "      <td>poor</td>\n",
              "      <td>yes</td>\n",
              "      <td>yes</td>\n",
              "      <td>ckd</td>\n",
              "    </tr>\n",
              "    <tr>\n",
              "      <th>4</th>\n",
              "      <td>4</td>\n",
              "      <td>51.0</td>\n",
              "      <td>80.0</td>\n",
              "      <td>1.010</td>\n",
              "      <td>2.0</td>\n",
              "      <td>0.0</td>\n",
              "      <td>normal</td>\n",
              "      <td>normal</td>\n",
              "      <td>notpresent</td>\n",
              "      <td>notpresent</td>\n",
              "      <td>...</td>\n",
              "      <td>35</td>\n",
              "      <td>7300</td>\n",
              "      <td>4.6</td>\n",
              "      <td>no</td>\n",
              "      <td>no</td>\n",
              "      <td>no</td>\n",
              "      <td>good</td>\n",
              "      <td>no</td>\n",
              "      <td>no</td>\n",
              "      <td>ckd</td>\n",
              "    </tr>\n",
              "    <tr>\n",
              "      <th>...</th>\n",
              "      <td>...</td>\n",
              "      <td>...</td>\n",
              "      <td>...</td>\n",
              "      <td>...</td>\n",
              "      <td>...</td>\n",
              "      <td>...</td>\n",
              "      <td>...</td>\n",
              "      <td>...</td>\n",
              "      <td>...</td>\n",
              "      <td>...</td>\n",
              "      <td>...</td>\n",
              "      <td>...</td>\n",
              "      <td>...</td>\n",
              "      <td>...</td>\n",
              "      <td>...</td>\n",
              "      <td>...</td>\n",
              "      <td>...</td>\n",
              "      <td>...</td>\n",
              "      <td>...</td>\n",
              "      <td>...</td>\n",
              "      <td>...</td>\n",
              "    </tr>\n",
              "    <tr>\n",
              "      <th>395</th>\n",
              "      <td>395</td>\n",
              "      <td>55.0</td>\n",
              "      <td>80.0</td>\n",
              "      <td>1.020</td>\n",
              "      <td>0.0</td>\n",
              "      <td>0.0</td>\n",
              "      <td>normal</td>\n",
              "      <td>normal</td>\n",
              "      <td>notpresent</td>\n",
              "      <td>notpresent</td>\n",
              "      <td>...</td>\n",
              "      <td>47</td>\n",
              "      <td>6700</td>\n",
              "      <td>4.9</td>\n",
              "      <td>no</td>\n",
              "      <td>no</td>\n",
              "      <td>no</td>\n",
              "      <td>good</td>\n",
              "      <td>no</td>\n",
              "      <td>no</td>\n",
              "      <td>notckd</td>\n",
              "    </tr>\n",
              "    <tr>\n",
              "      <th>396</th>\n",
              "      <td>396</td>\n",
              "      <td>42.0</td>\n",
              "      <td>70.0</td>\n",
              "      <td>1.025</td>\n",
              "      <td>0.0</td>\n",
              "      <td>0.0</td>\n",
              "      <td>normal</td>\n",
              "      <td>normal</td>\n",
              "      <td>notpresent</td>\n",
              "      <td>notpresent</td>\n",
              "      <td>...</td>\n",
              "      <td>54</td>\n",
              "      <td>7800</td>\n",
              "      <td>6.2</td>\n",
              "      <td>no</td>\n",
              "      <td>no</td>\n",
              "      <td>no</td>\n",
              "      <td>good</td>\n",
              "      <td>no</td>\n",
              "      <td>no</td>\n",
              "      <td>notckd</td>\n",
              "    </tr>\n",
              "    <tr>\n",
              "      <th>397</th>\n",
              "      <td>397</td>\n",
              "      <td>12.0</td>\n",
              "      <td>80.0</td>\n",
              "      <td>1.020</td>\n",
              "      <td>0.0</td>\n",
              "      <td>0.0</td>\n",
              "      <td>normal</td>\n",
              "      <td>normal</td>\n",
              "      <td>notpresent</td>\n",
              "      <td>notpresent</td>\n",
              "      <td>...</td>\n",
              "      <td>49</td>\n",
              "      <td>6600</td>\n",
              "      <td>5.4</td>\n",
              "      <td>no</td>\n",
              "      <td>no</td>\n",
              "      <td>no</td>\n",
              "      <td>good</td>\n",
              "      <td>no</td>\n",
              "      <td>no</td>\n",
              "      <td>notckd</td>\n",
              "    </tr>\n",
              "    <tr>\n",
              "      <th>398</th>\n",
              "      <td>398</td>\n",
              "      <td>17.0</td>\n",
              "      <td>60.0</td>\n",
              "      <td>1.025</td>\n",
              "      <td>0.0</td>\n",
              "      <td>0.0</td>\n",
              "      <td>normal</td>\n",
              "      <td>normal</td>\n",
              "      <td>notpresent</td>\n",
              "      <td>notpresent</td>\n",
              "      <td>...</td>\n",
              "      <td>51</td>\n",
              "      <td>7200</td>\n",
              "      <td>5.9</td>\n",
              "      <td>no</td>\n",
              "      <td>no</td>\n",
              "      <td>no</td>\n",
              "      <td>good</td>\n",
              "      <td>no</td>\n",
              "      <td>no</td>\n",
              "      <td>notckd</td>\n",
              "    </tr>\n",
              "    <tr>\n",
              "      <th>399</th>\n",
              "      <td>399</td>\n",
              "      <td>58.0</td>\n",
              "      <td>80.0</td>\n",
              "      <td>1.025</td>\n",
              "      <td>0.0</td>\n",
              "      <td>0.0</td>\n",
              "      <td>normal</td>\n",
              "      <td>normal</td>\n",
              "      <td>notpresent</td>\n",
              "      <td>notpresent</td>\n",
              "      <td>...</td>\n",
              "      <td>53</td>\n",
              "      <td>6800</td>\n",
              "      <td>6.1</td>\n",
              "      <td>no</td>\n",
              "      <td>no</td>\n",
              "      <td>no</td>\n",
              "      <td>good</td>\n",
              "      <td>no</td>\n",
              "      <td>no</td>\n",
              "      <td>notckd</td>\n",
              "    </tr>\n",
              "  </tbody>\n",
              "</table>\n",
              "<p>400 rows × 26 columns</p>\n",
              "</div>\n",
              "      <button class=\"colab-df-convert\" onclick=\"convertToInteractive('df-b6b9b036-b97b-401c-99e2-de2a2c04f04f')\"\n",
              "              title=\"Convert this dataframe to an interactive table.\"\n",
              "              style=\"display:none;\">\n",
              "        \n",
              "  <svg xmlns=\"http://www.w3.org/2000/svg\" height=\"24px\"viewBox=\"0 0 24 24\"\n",
              "       width=\"24px\">\n",
              "    <path d=\"M0 0h24v24H0V0z\" fill=\"none\"/>\n",
              "    <path d=\"M18.56 5.44l.94 2.06.94-2.06 2.06-.94-2.06-.94-.94-2.06-.94 2.06-2.06.94zm-11 1L8.5 8.5l.94-2.06 2.06-.94-2.06-.94L8.5 2.5l-.94 2.06-2.06.94zm10 10l.94 2.06.94-2.06 2.06-.94-2.06-.94-.94-2.06-.94 2.06-2.06.94z\"/><path d=\"M17.41 7.96l-1.37-1.37c-.4-.4-.92-.59-1.43-.59-.52 0-1.04.2-1.43.59L10.3 9.45l-7.72 7.72c-.78.78-.78 2.05 0 2.83L4 21.41c.39.39.9.59 1.41.59.51 0 1.02-.2 1.41-.59l7.78-7.78 2.81-2.81c.8-.78.8-2.07 0-2.86zM5.41 20L4 18.59l7.72-7.72 1.47 1.35L5.41 20z\"/>\n",
              "  </svg>\n",
              "      </button>\n",
              "      \n",
              "  <style>\n",
              "    .colab-df-container {\n",
              "      display:flex;\n",
              "      flex-wrap:wrap;\n",
              "      gap: 12px;\n",
              "    }\n",
              "\n",
              "    .colab-df-convert {\n",
              "      background-color: #E8F0FE;\n",
              "      border: none;\n",
              "      border-radius: 50%;\n",
              "      cursor: pointer;\n",
              "      display: none;\n",
              "      fill: #1967D2;\n",
              "      height: 32px;\n",
              "      padding: 0 0 0 0;\n",
              "      width: 32px;\n",
              "    }\n",
              "\n",
              "    .colab-df-convert:hover {\n",
              "      background-color: #E2EBFA;\n",
              "      box-shadow: 0px 1px 2px rgba(60, 64, 67, 0.3), 0px 1px 3px 1px rgba(60, 64, 67, 0.15);\n",
              "      fill: #174EA6;\n",
              "    }\n",
              "\n",
              "    [theme=dark] .colab-df-convert {\n",
              "      background-color: #3B4455;\n",
              "      fill: #D2E3FC;\n",
              "    }\n",
              "\n",
              "    [theme=dark] .colab-df-convert:hover {\n",
              "      background-color: #434B5C;\n",
              "      box-shadow: 0px 1px 3px 1px rgba(0, 0, 0, 0.15);\n",
              "      filter: drop-shadow(0px 1px 2px rgba(0, 0, 0, 0.3));\n",
              "      fill: #FFFFFF;\n",
              "    }\n",
              "  </style>\n",
              "\n",
              "      <script>\n",
              "        const buttonEl =\n",
              "          document.querySelector('#df-b6b9b036-b97b-401c-99e2-de2a2c04f04f button.colab-df-convert');\n",
              "        buttonEl.style.display =\n",
              "          google.colab.kernel.accessAllowed ? 'block' : 'none';\n",
              "\n",
              "        async function convertToInteractive(key) {\n",
              "          const element = document.querySelector('#df-b6b9b036-b97b-401c-99e2-de2a2c04f04f');\n",
              "          const dataTable =\n",
              "            await google.colab.kernel.invokeFunction('convertToInteractive',\n",
              "                                                     [key], {});\n",
              "          if (!dataTable) return;\n",
              "\n",
              "          const docLinkHtml = 'Like what you see? Visit the ' +\n",
              "            '<a target=\"_blank\" href=https://colab.research.google.com/notebooks/data_table.ipynb>data table notebook</a>'\n",
              "            + ' to learn more about interactive tables.';\n",
              "          element.innerHTML = '';\n",
              "          dataTable['output_type'] = 'display_data';\n",
              "          await google.colab.output.renderOutput(dataTable, element);\n",
              "          const docLink = document.createElement('div');\n",
              "          docLink.innerHTML = docLinkHtml;\n",
              "          element.appendChild(docLink);\n",
              "        }\n",
              "      </script>\n",
              "    </div>\n",
              "  </div>\n",
              "  "
            ]
          },
          "metadata": {},
          "execution_count": 359
        }
      ]
    },
    {
      "cell_type": "code",
      "source": [
        "#EXPLORATORY DATA ANALYSIS"
      ],
      "metadata": {
        "id": "u8S_dgsIOyvl"
      },
      "execution_count": null,
      "outputs": []
    },
    {
      "cell_type": "code",
      "source": [
        "df.duplicated().sum()"
      ],
      "metadata": {
        "colab": {
          "base_uri": "https://localhost:8080/"
        },
        "id": "RmbGtT-AO496",
        "outputId": "662479fd-c8e5-4e48-9f3d-e8cafd907cc5"
      },
      "execution_count": null,
      "outputs": [
        {
          "output_type": "execute_result",
          "data": {
            "text/plain": [
              "0"
            ]
          },
          "metadata": {},
          "execution_count": 361
        }
      ]
    },
    {
      "cell_type": "code",
      "source": [
        "df.info()"
      ],
      "metadata": {
        "colab": {
          "base_uri": "https://localhost:8080/"
        },
        "id": "3Lb5nZCXO8s1",
        "outputId": "e99730d2-4081-41cb-d7bc-93d77c92f55a"
      },
      "execution_count": null,
      "outputs": [
        {
          "output_type": "stream",
          "name": "stdout",
          "text": [
            "<class 'pandas.core.frame.DataFrame'>\n",
            "RangeIndex: 400 entries, 0 to 399\n",
            "Data columns (total 26 columns):\n",
            " #   Column          Non-Null Count  Dtype  \n",
            "---  ------          --------------  -----  \n",
            " 0   id              400 non-null    int64  \n",
            " 1   age             391 non-null    float64\n",
            " 2   bp              388 non-null    float64\n",
            " 3   sg              353 non-null    float64\n",
            " 4   al              354 non-null    float64\n",
            " 5   su              351 non-null    float64\n",
            " 6   rbc             248 non-null    object \n",
            " 7   pc              335 non-null    object \n",
            " 8   pcc             396 non-null    object \n",
            " 9   ba              396 non-null    object \n",
            " 10  bgr             356 non-null    float64\n",
            " 11  bu              381 non-null    float64\n",
            " 12  sc              383 non-null    float64\n",
            " 13  sod             313 non-null    float64\n",
            " 14  pot             312 non-null    float64\n",
            " 15  hemo            348 non-null    float64\n",
            " 16  pcv             330 non-null    object \n",
            " 17  wc              295 non-null    object \n",
            " 18  rc              270 non-null    object \n",
            " 19  htn             398 non-null    object \n",
            " 20  dm              398 non-null    object \n",
            " 21  cad             398 non-null    object \n",
            " 22  appet           399 non-null    object \n",
            " 23  pe              399 non-null    object \n",
            " 24  ane             399 non-null    object \n",
            " 25  classification  400 non-null    object \n",
            "dtypes: float64(11), int64(1), object(14)\n",
            "memory usage: 81.4+ KB\n"
          ]
        }
      ]
    },
    {
      "cell_type": "code",
      "source": [
        "def convert_dtype(df,feature):\n",
        "    df[feature]=pd.to_numeric(df[feature],errors='coerce')"
      ],
      "metadata": {
        "id": "Pjed3V8wPB_q"
      },
      "execution_count": null,
      "outputs": []
    },
    {
      "cell_type": "code",
      "source": [
        "features=['pcv','wc','rc']\n",
        "for i in features:\n",
        "    convert_dtype(df,i)"
      ],
      "metadata": {
        "id": "d0sgMtL4PLjk"
      },
      "execution_count": null,
      "outputs": []
    },
    {
      "cell_type": "code",
      "source": [
        "#CHECKING THE CKD AND NN CKD"
      ],
      "metadata": {
        "id": "L8aGvhfrPTDg"
      },
      "execution_count": null,
      "outputs": []
    },
    {
      "cell_type": "code",
      "source": [
        "def extract_cat_num(kidney):\n",
        "    cat_col=[col for col in kidney.columns if kidney[col].dtype=='O']\n",
        "    num_col=[col for col in kidney.columns if kidney[col].dtype!='O']\n",
        "    return cat_col,num_col"
      ],
      "metadata": {
        "id": "ijrNuCfFPqhu"
      },
      "execution_count": null,
      "outputs": []
    },
    {
      "cell_type": "code",
      "source": [
        "cat_col,num_col=extract_cat_num(df)\n"
      ],
      "metadata": {
        "id": "CXlQ4VdIPwtW"
      },
      "execution_count": null,
      "outputs": []
    },
    {
      "cell_type": "code",
      "source": [
        "\n",
        "#Analysing distribution of each and every column"
      ],
      "metadata": {
        "id": "FGe3ieBvP02u"
      },
      "execution_count": null,
      "outputs": []
    },
    {
      "cell_type": "code",
      "source": [
        "\n",
        "len(num_col)"
      ],
      "metadata": {
        "colab": {
          "base_uri": "https://localhost:8080/"
        },
        "id": "Mrxj-R2nP9ro",
        "outputId": "cc164cb1-c132-481b-a00c-a507db043718"
      },
      "execution_count": null,
      "outputs": [
        {
          "output_type": "execute_result",
          "data": {
            "text/plain": [
              "15"
            ]
          },
          "metadata": {},
          "execution_count": 369
        }
      ]
    },
    {
      "cell_type": "code",
      "source": [
        "#Check distribution of categorical Data"
      ],
      "metadata": {
        "id": "IhvhOfJcQIOB"
      },
      "execution_count": null,
      "outputs": []
    },
    {
      "cell_type": "code",
      "source": [
        "len(cat_col)"
      ],
      "metadata": {
        "colab": {
          "base_uri": "https://localhost:8080/"
        },
        "id": "eVPM1m-uQPaY",
        "outputId": "7015845e-0295-432b-a95e-d0538b8a9d49"
      },
      "execution_count": null,
      "outputs": [
        {
          "output_type": "execute_result",
          "data": {
            "text/plain": [
              "11"
            ]
          },
          "metadata": {},
          "execution_count": 371
        }
      ]
    },
    {
      "cell_type": "code",
      "source": [
        "df.groupby(['rbc','classification'])['rc'].agg(['count','mean','median','min','max'])"
      ],
      "metadata": {
        "colab": {
          "base_uri": "https://localhost:8080/",
          "height": 206
        },
        "id": "ju7K7NsvQVVk",
        "outputId": "05580894-0133-4b46-d2ef-0428dd593ba6"
      },
      "execution_count": null,
      "outputs": [
        {
          "output_type": "execute_result",
          "data": {
            "text/plain": [
              "                         count      mean  median  min  max\n",
              "rbc      classification                                   \n",
              "abnormal ckd                25  3.832000     3.7  2.5  5.6\n",
              "normal   ckd                40  3.782500     3.8  2.1  8.0\n",
              "         ckd\\t               0       NaN     NaN  NaN  NaN\n",
              "         notckd            134  5.368657     5.3  4.4  6.5"
            ],
            "text/html": [
              "\n",
              "  <div id=\"df-f97a1e56-b452-45dc-8ab5-a45fa2f7c1fe\">\n",
              "    <div class=\"colab-df-container\">\n",
              "      <div>\n",
              "<style scoped>\n",
              "    .dataframe tbody tr th:only-of-type {\n",
              "        vertical-align: middle;\n",
              "    }\n",
              "\n",
              "    .dataframe tbody tr th {\n",
              "        vertical-align: top;\n",
              "    }\n",
              "\n",
              "    .dataframe thead th {\n",
              "        text-align: right;\n",
              "    }\n",
              "</style>\n",
              "<table border=\"1\" class=\"dataframe\">\n",
              "  <thead>\n",
              "    <tr style=\"text-align: right;\">\n",
              "      <th></th>\n",
              "      <th></th>\n",
              "      <th>count</th>\n",
              "      <th>mean</th>\n",
              "      <th>median</th>\n",
              "      <th>min</th>\n",
              "      <th>max</th>\n",
              "    </tr>\n",
              "    <tr>\n",
              "      <th>rbc</th>\n",
              "      <th>classification</th>\n",
              "      <th></th>\n",
              "      <th></th>\n",
              "      <th></th>\n",
              "      <th></th>\n",
              "      <th></th>\n",
              "    </tr>\n",
              "  </thead>\n",
              "  <tbody>\n",
              "    <tr>\n",
              "      <th>abnormal</th>\n",
              "      <th>ckd</th>\n",
              "      <td>25</td>\n",
              "      <td>3.832000</td>\n",
              "      <td>3.7</td>\n",
              "      <td>2.5</td>\n",
              "      <td>5.6</td>\n",
              "    </tr>\n",
              "    <tr>\n",
              "      <th rowspan=\"3\" valign=\"top\">normal</th>\n",
              "      <th>ckd</th>\n",
              "      <td>40</td>\n",
              "      <td>3.782500</td>\n",
              "      <td>3.8</td>\n",
              "      <td>2.1</td>\n",
              "      <td>8.0</td>\n",
              "    </tr>\n",
              "    <tr>\n",
              "      <th>ckd\\t</th>\n",
              "      <td>0</td>\n",
              "      <td>NaN</td>\n",
              "      <td>NaN</td>\n",
              "      <td>NaN</td>\n",
              "      <td>NaN</td>\n",
              "    </tr>\n",
              "    <tr>\n",
              "      <th>notckd</th>\n",
              "      <td>134</td>\n",
              "      <td>5.368657</td>\n",
              "      <td>5.3</td>\n",
              "      <td>4.4</td>\n",
              "      <td>6.5</td>\n",
              "    </tr>\n",
              "  </tbody>\n",
              "</table>\n",
              "</div>\n",
              "      <button class=\"colab-df-convert\" onclick=\"convertToInteractive('df-f97a1e56-b452-45dc-8ab5-a45fa2f7c1fe')\"\n",
              "              title=\"Convert this dataframe to an interactive table.\"\n",
              "              style=\"display:none;\">\n",
              "        \n",
              "  <svg xmlns=\"http://www.w3.org/2000/svg\" height=\"24px\"viewBox=\"0 0 24 24\"\n",
              "       width=\"24px\">\n",
              "    <path d=\"M0 0h24v24H0V0z\" fill=\"none\"/>\n",
              "    <path d=\"M18.56 5.44l.94 2.06.94-2.06 2.06-.94-2.06-.94-.94-2.06-.94 2.06-2.06.94zm-11 1L8.5 8.5l.94-2.06 2.06-.94-2.06-.94L8.5 2.5l-.94 2.06-2.06.94zm10 10l.94 2.06.94-2.06 2.06-.94-2.06-.94-.94-2.06-.94 2.06-2.06.94z\"/><path d=\"M17.41 7.96l-1.37-1.37c-.4-.4-.92-.59-1.43-.59-.52 0-1.04.2-1.43.59L10.3 9.45l-7.72 7.72c-.78.78-.78 2.05 0 2.83L4 21.41c.39.39.9.59 1.41.59.51 0 1.02-.2 1.41-.59l7.78-7.78 2.81-2.81c.8-.78.8-2.07 0-2.86zM5.41 20L4 18.59l7.72-7.72 1.47 1.35L5.41 20z\"/>\n",
              "  </svg>\n",
              "      </button>\n",
              "      \n",
              "  <style>\n",
              "    .colab-df-container {\n",
              "      display:flex;\n",
              "      flex-wrap:wrap;\n",
              "      gap: 12px;\n",
              "    }\n",
              "\n",
              "    .colab-df-convert {\n",
              "      background-color: #E8F0FE;\n",
              "      border: none;\n",
              "      border-radius: 50%;\n",
              "      cursor: pointer;\n",
              "      display: none;\n",
              "      fill: #1967D2;\n",
              "      height: 32px;\n",
              "      padding: 0 0 0 0;\n",
              "      width: 32px;\n",
              "    }\n",
              "\n",
              "    .colab-df-convert:hover {\n",
              "      background-color: #E2EBFA;\n",
              "      box-shadow: 0px 1px 2px rgba(60, 64, 67, 0.3), 0px 1px 3px 1px rgba(60, 64, 67, 0.15);\n",
              "      fill: #174EA6;\n",
              "    }\n",
              "\n",
              "    [theme=dark] .colab-df-convert {\n",
              "      background-color: #3B4455;\n",
              "      fill: #D2E3FC;\n",
              "    }\n",
              "\n",
              "    [theme=dark] .colab-df-convert:hover {\n",
              "      background-color: #434B5C;\n",
              "      box-shadow: 0px 1px 3px 1px rgba(0, 0, 0, 0.15);\n",
              "      filter: drop-shadow(0px 1px 2px rgba(0, 0, 0, 0.3));\n",
              "      fill: #FFFFFF;\n",
              "    }\n",
              "  </style>\n",
              "\n",
              "      <script>\n",
              "        const buttonEl =\n",
              "          document.querySelector('#df-f97a1e56-b452-45dc-8ab5-a45fa2f7c1fe button.colab-df-convert');\n",
              "        buttonEl.style.display =\n",
              "          google.colab.kernel.accessAllowed ? 'block' : 'none';\n",
              "\n",
              "        async function convertToInteractive(key) {\n",
              "          const element = document.querySelector('#df-f97a1e56-b452-45dc-8ab5-a45fa2f7c1fe');\n",
              "          const dataTable =\n",
              "            await google.colab.kernel.invokeFunction('convertToInteractive',\n",
              "                                                     [key], {});\n",
              "          if (!dataTable) return;\n",
              "\n",
              "          const docLinkHtml = 'Like what you see? Visit the ' +\n",
              "            '<a target=\"_blank\" href=https://colab.research.google.com/notebooks/data_table.ipynb>data table notebook</a>'\n",
              "            + ' to learn more about interactive tables.';\n",
              "          element.innerHTML = '';\n",
              "          dataTable['output_type'] = 'display_data';\n",
              "          await google.colab.output.renderOutput(dataTable, element);\n",
              "          const docLink = document.createElement('div');\n",
              "          docLink.innerHTML = docLinkHtml;\n",
              "          element.appendChild(docLink);\n",
              "        }\n",
              "      </script>\n",
              "    </div>\n",
              "  </div>\n",
              "  "
            ]
          },
          "metadata": {},
          "execution_count": 372
        }
      ]
    },
    {
      "cell_type": "code",
      "source": [
        "#CORRELATION"
      ],
      "metadata": {
        "id": "60cmrIdTQZ-c"
      },
      "execution_count": null,
      "outputs": []
    },
    {
      "cell_type": "code",
      "source": [
        "from dython.nominal import identify_nominal_columns\n",
        "categorical_features=identify_nominal_columns(df)\n",
        "categorical_features"
      ],
      "metadata": {
        "colab": {
          "base_uri": "https://localhost:8080/"
        },
        "id": "HshZDRcOQgxu",
        "outputId": "a74ba304-2a74-4517-ff9f-c2af7bc08dd8"
      },
      "execution_count": null,
      "outputs": [
        {
          "output_type": "execute_result",
          "data": {
            "text/plain": [
              "['rbc',\n",
              " 'pc',\n",
              " 'pcc',\n",
              " 'ba',\n",
              " 'htn',\n",
              " 'dm',\n",
              " 'cad',\n",
              " 'appet',\n",
              " 'pe',\n",
              " 'ane',\n",
              " 'classification']"
            ]
          },
          "metadata": {},
          "execution_count": 374
        }
      ]
    },
    {
      "cell_type": "code",
      "source": [
        "#COMPLETE CORRELATION DATASET"
      ],
      "metadata": {
        "id": "PyFoDn5YQkD1"
      },
      "execution_count": null,
      "outputs": []
    },
    {
      "cell_type": "code",
      "source": [
        "df.corr().style.background_gradient(cmap=\"nipy_spectral_r\")"
      ],
      "metadata": {
        "colab": {
          "base_uri": "https://localhost:8080/",
          "height": 540
        },
        "id": "0FKDTjXSQuWt",
        "outputId": "acc32cba-e223-43aa-e171-fcb52239eed0"
      },
      "execution_count": null,
      "outputs": [
        {
          "output_type": "execute_result",
          "data": {
            "text/plain": [
              "<pandas.io.formats.style.Styler at 0x7fd530543b10>"
            ],
            "text/html": [
              "<style type=\"text/css\">\n",
              "#T_cea3e_row0_col0, #T_cea3e_row1_col1, #T_cea3e_row2_col2, #T_cea3e_row3_col3, #T_cea3e_row4_col4, #T_cea3e_row5_col5, #T_cea3e_row6_col6, #T_cea3e_row7_col7, #T_cea3e_row8_col8, #T_cea3e_row9_col9, #T_cea3e_row10_col10, #T_cea3e_row11_col11, #T_cea3e_row12_col12, #T_cea3e_row13_col13, #T_cea3e_row14_col14 {\n",
              "  background-color: #000000;\n",
              "  color: #f1f1f1;\n",
              "}\n",
              "#T_cea3e_row0_col1, #T_cea3e_row6_col3, #T_cea3e_row14_col13 {\n",
              "  background-color: #d00000;\n",
              "  color: #f1f1f1;\n",
              "}\n",
              "#T_cea3e_row0_col2, #T_cea3e_row0_col10, #T_cea3e_row3_col1, #T_cea3e_row11_col1 {\n",
              "  background-color: #cf0000;\n",
              "  color: #f1f1f1;\n",
              "}\n",
              "#T_cea3e_row0_col3, #T_cea3e_row3_col11, #T_cea3e_row3_col12, #T_cea3e_row7_col8 {\n",
              "  background-color: #0067dd;\n",
              "  color: #f1f1f1;\n",
              "}\n",
              "#T_cea3e_row0_col4, #T_cea3e_row11_col5 {\n",
              "  background-color: #ce0000;\n",
              "  color: #f1f1f1;\n",
              "}\n",
              "#T_cea3e_row0_col5, #T_cea3e_row4_col14 {\n",
              "  background-color: #ccacac;\n",
              "  color: #000000;\n",
              "}\n",
              "#T_cea3e_row0_col6, #T_cea3e_row11_col10 {\n",
              "  background-color: #cc6c6c;\n",
              "  color: #f1f1f1;\n",
              "}\n",
              "#T_cea3e_row0_col7, #T_cea3e_row1_col3, #T_cea3e_row1_col10, #T_cea3e_row6_col14 {\n",
              "  background-color: #ff7500;\n",
              "  color: #f1f1f1;\n",
              "}\n",
              "#T_cea3e_row0_col8, #T_cea3e_row6_col9 {\n",
              "  background-color: #ffc900;\n",
              "  color: #000000;\n",
              "}\n",
              "#T_cea3e_row0_col9, #T_cea3e_row11_col9 {\n",
              "  background-color: #00aa98;\n",
              "  color: #f1f1f1;\n",
              "}\n",
              "#T_cea3e_row0_col11 {\n",
              "  background-color: #002fdd;\n",
              "  color: #f1f1f1;\n",
              "}\n",
              "#T_cea3e_row0_col12 {\n",
              "  background-color: #0041dd;\n",
              "  color: #f1f1f1;\n",
              "}\n",
              "#T_cea3e_row0_col13 {\n",
              "  background-color: #cc5c5c;\n",
              "  color: #f1f1f1;\n",
              "}\n",
              "#T_cea3e_row0_col14 {\n",
              "  background-color: #0078dd;\n",
              "  color: #f1f1f1;\n",
              "}\n",
              "#T_cea3e_row1_col0, #T_cea3e_row5_col12, #T_cea3e_row7_col13 {\n",
              "  background-color: #ffb900;\n",
              "  color: #000000;\n",
              "}\n",
              "#T_cea3e_row1_col2, #T_cea3e_row6_col2, #T_cea3e_row7_col1 {\n",
              "  background-color: #84ff00;\n",
              "  color: #000000;\n",
              "}\n",
              "#T_cea3e_row1_col4 {\n",
              "  background-color: #00d400;\n",
              "  color: #000000;\n",
              "}\n",
              "#T_cea3e_row1_col5, #T_cea3e_row2_col5, #T_cea3e_row8_col5 {\n",
              "  background-color: #00ff00;\n",
              "  color: #000000;\n",
              "}\n",
              "#T_cea3e_row1_col6 {\n",
              "  background-color: #00dc00;\n",
              "  color: #000000;\n",
              "}\n",
              "#T_cea3e_row1_col7 {\n",
              "  background-color: #00ba00;\n",
              "  color: #f1f1f1;\n",
              "}\n",
              "#T_cea3e_row1_col8, #T_cea3e_row2_col4 {\n",
              "  background-color: #00c400;\n",
              "  color: #f1f1f1;\n",
              "}\n",
              "#T_cea3e_row1_col9 {\n",
              "  background-color: #bcff00;\n",
              "  color: #000000;\n",
              "}\n",
              "#T_cea3e_row1_col11, #T_cea3e_row10_col3 {\n",
              "  background-color: #f8da00;\n",
              "  color: #000000;\n",
              "}\n",
              "#T_cea3e_row1_col12 {\n",
              "  background-color: #ffb500;\n",
              "  color: #000000;\n",
              "}\n",
              "#T_cea3e_row1_col13 {\n",
              "  background-color: #f3e500;\n",
              "  color: #000000;\n",
              "}\n",
              "#T_cea3e_row1_col14, #T_cea3e_row6_col10, #T_cea3e_row9_col13 {\n",
              "  background-color: #ff8d00;\n",
              "  color: #f1f1f1;\n",
              "}\n",
              "#T_cea3e_row2_col0, #T_cea3e_row3_col8, #T_cea3e_row6_col12 {\n",
              "  background-color: #ff8100;\n",
              "  color: #f1f1f1;\n",
              "}\n",
              "#T_cea3e_row2_col1, #T_cea3e_row2_col9 {\n",
              "  background-color: #c8fb00;\n",
              "  color: #000000;\n",
              "}\n",
              "#T_cea3e_row2_col3, #T_cea3e_row11_col8, #T_cea3e_row12_col8, #T_cea3e_row14_col8 {\n",
              "  background-color: #ff3900;\n",
              "  color: #f1f1f1;\n",
              "}\n",
              "#T_cea3e_row2_col6, #T_cea3e_row7_col2 {\n",
              "  background-color: #2cff00;\n",
              "  color: #000000;\n",
              "}\n",
              "#T_cea3e_row2_col7, #T_cea3e_row2_col8 {\n",
              "  background-color: #00bf00;\n",
              "  color: #f1f1f1;\n",
              "}\n",
              "#T_cea3e_row2_col10 {\n",
              "  background-color: #ff9d00;\n",
              "  color: #000000;\n",
              "}\n",
              "#T_cea3e_row2_col11, #T_cea3e_row2_col14, #T_cea3e_row6_col11 {\n",
              "  background-color: #ff9900;\n",
              "  color: #000000;\n",
              "}\n",
              "#T_cea3e_row2_col12, #T_cea3e_row8_col0, #T_cea3e_row9_col7 {\n",
              "  background-color: #ff5100;\n",
              "  color: #f1f1f1;\n",
              "}\n",
              "#T_cea3e_row2_col13, #T_cea3e_row5_col14, #T_cea3e_row7_col9 {\n",
              "  background-color: #ffa900;\n",
              "  color: #000000;\n",
              "}\n",
              "#T_cea3e_row3_col0, #T_cea3e_row11_col0 {\n",
              "  background-color: #004bdd;\n",
              "  color: #f1f1f1;\n",
              "}\n",
              "#T_cea3e_row3_col2 {\n",
              "  background-color: #d60000;\n",
              "  color: #f1f1f1;\n",
              "}\n",
              "#T_cea3e_row3_col4 {\n",
              "  background-color: #dc0000;\n",
              "  color: #f1f1f1;\n",
              "}\n",
              "#T_cea3e_row3_col5, #T_cea3e_row3_col6, #T_cea3e_row3_col13, #T_cea3e_row4_col0, #T_cea3e_row4_col3, #T_cea3e_row4_col11, #T_cea3e_row4_col12, #T_cea3e_row7_col12, #T_cea3e_row7_col14, #T_cea3e_row8_col9, #T_cea3e_row9_col8, #T_cea3e_row11_col4, #T_cea3e_row11_col7, #T_cea3e_row12_col2, #T_cea3e_row12_col7, #T_cea3e_row12_col10, #T_cea3e_row14_col1 {\n",
              "  background-color: #cccccc;\n",
              "  color: #000000;\n",
              "}\n",
              "#T_cea3e_row3_col7, #T_cea3e_row8_col13 {\n",
              "  background-color: #ff6900;\n",
              "  color: #f1f1f1;\n",
              "}\n",
              "#T_cea3e_row3_col9 {\n",
              "  background-color: #00aaab;\n",
              "  color: #f1f1f1;\n",
              "}\n",
              "#T_cea3e_row3_col10, #T_cea3e_row9_col6 {\n",
              "  background-color: #d40000;\n",
              "  color: #f1f1f1;\n",
              "}\n",
              "#T_cea3e_row3_col14 {\n",
              "  background-color: #0082dd;\n",
              "  color: #f1f1f1;\n",
              "}\n",
              "#T_cea3e_row4_col1, #T_cea3e_row10_col11, #T_cea3e_row13_col1 {\n",
              "  background-color: #e8f000;\n",
              "  color: #000000;\n",
              "}\n",
              "#T_cea3e_row4_col2 {\n",
              "  background-color: #75ff00;\n",
              "  color: #000000;\n",
              "}\n",
              "#T_cea3e_row4_col5 {\n",
              "  background-color: #00e700;\n",
              "  color: #000000;\n",
              "}\n",
              "#T_cea3e_row4_col6 {\n",
              "  background-color: #009a00;\n",
              "  color: #f1f1f1;\n",
              "}\n",
              "#T_cea3e_row4_col7 {\n",
              "  background-color: #00a6b7;\n",
              "  color: #f1f1f1;\n",
              "}\n",
              "#T_cea3e_row4_col8 {\n",
              "  background-color: #00aaa5;\n",
              "  color: #f1f1f1;\n",
              "}\n",
              "#T_cea3e_row4_col9, #T_cea3e_row9_col1 {\n",
              "  background-color: #f40000;\n",
              "  color: #f1f1f1;\n",
              "}\n",
              "#T_cea3e_row4_col10, #T_cea3e_row5_col11 {\n",
              "  background-color: #ffcd00;\n",
              "  color: #000000;\n",
              "}\n",
              "#T_cea3e_row4_col13, #T_cea3e_row7_col6 {\n",
              "  background-color: #58ff00;\n",
              "  color: #000000;\n",
              "}\n",
              "#T_cea3e_row5_col0 {\n",
              "  background-color: #ff2d00;\n",
              "  color: #f1f1f1;\n",
              "}\n",
              "#T_cea3e_row5_col1 {\n",
              "  background-color: #3bff00;\n",
              "  color: #000000;\n",
              "}\n",
              "#T_cea3e_row5_col2, #T_cea3e_row13_col7, #T_cea3e_row13_col9 {\n",
              "  background-color: #00f700;\n",
              "  color: #000000;\n",
              "}\n",
              "#T_cea3e_row5_col3 {\n",
              "  background-color: #e90000;\n",
              "  color: #f1f1f1;\n",
              "}\n",
              "#T_cea3e_row5_col4 {\n",
              "  background-color: #009a08;\n",
              "  color: #f1f1f1;\n",
              "}\n",
              "#T_cea3e_row5_col6 {\n",
              "  background-color: #0009dd;\n",
              "  color: #f1f1f1;\n",
              "}\n",
              "#T_cea3e_row5_col7 {\n",
              "  background-color: #00c700;\n",
              "  color: #000000;\n",
              "}\n",
              "#T_cea3e_row5_col8 {\n",
              "  background-color: #009f00;\n",
              "  color: #f1f1f1;\n",
              "}\n",
              "#T_cea3e_row5_col9, #T_cea3e_row5_col10 {\n",
              "  background-color: #d0f800;\n",
              "  color: #000000;\n",
              "}\n",
              "#T_cea3e_row5_col13 {\n",
              "  background-color: #c4fc00;\n",
              "  color: #000000;\n",
              "}\n",
              "#T_cea3e_row6_col0 {\n",
              "  background-color: #f10000;\n",
              "  color: #f1f1f1;\n",
              "}\n",
              "#T_cea3e_row6_col1, #T_cea3e_row13_col8 {\n",
              "  background-color: #00fc00;\n",
              "  color: #000000;\n",
              "}\n",
              "#T_cea3e_row6_col4 {\n",
              "  background-color: #00aa95;\n",
              "  color: #f1f1f1;\n",
              "}\n",
              "#T_cea3e_row6_col5 {\n",
              "  background-color: #0025dd;\n",
              "  color: #f1f1f1;\n",
              "}\n",
              "#T_cea3e_row6_col7, #T_cea3e_row10_col4, #T_cea3e_row10_col9 {\n",
              "  background-color: #00d200;\n",
              "  color: #000000;\n",
              "}\n",
              "#T_cea3e_row6_col8 {\n",
              "  background-color: #00cc00;\n",
              "  color: #000000;\n",
              "}\n",
              "#T_cea3e_row6_col13 {\n",
              "  background-color: #e4f100;\n",
              "  color: #000000;\n",
              "}\n",
              "#T_cea3e_row7_col0 {\n",
              "  background-color: #fe0000;\n",
              "  color: #f1f1f1;\n",
              "}\n",
              "#T_cea3e_row7_col3, #T_cea3e_row9_col4, #T_cea3e_row10_col13 {\n",
              "  background-color: #e10000;\n",
              "  color: #f1f1f1;\n",
              "}\n",
              "#T_cea3e_row7_col4 {\n",
              "  background-color: #00a4bb;\n",
              "  color: #f1f1f1;\n",
              "}\n",
              "#T_cea3e_row7_col5, #T_cea3e_row8_col2, #T_cea3e_row8_col6 {\n",
              "  background-color: #a1ff00;\n",
              "  color: #000000;\n",
              "}\n",
              "#T_cea3e_row7_col10 {\n",
              "  background-color: #00df00;\n",
              "  color: #000000;\n",
              "}\n",
              "#T_cea3e_row7_col11, #T_cea3e_row11_col2, #T_cea3e_row12_col4 {\n",
              "  background-color: #cc9c9c;\n",
              "  color: #f1f1f1;\n",
              "}\n",
              "#T_cea3e_row8_col1 {\n",
              "  background-color: #e0f300;\n",
              "  color: #000000;\n",
              "}\n",
              "#T_cea3e_row8_col3 {\n",
              "  background-color: #d30000;\n",
              "  color: #f1f1f1;\n",
              "}\n",
              "#T_cea3e_row8_col4, #T_cea3e_row12_col9 {\n",
              "  background-color: #00aa9d;\n",
              "  color: #f1f1f1;\n",
              "}\n",
              "#T_cea3e_row8_col7, #T_cea3e_row14_col0 {\n",
              "  background-color: #007add;\n",
              "  color: #f1f1f1;\n",
              "}\n",
              "#T_cea3e_row8_col10 {\n",
              "  background-color: #00f200;\n",
              "  color: #000000;\n",
              "}\n",
              "#T_cea3e_row8_col11 {\n",
              "  background-color: #f90000;\n",
              "  color: #f1f1f1;\n",
              "}\n",
              "#T_cea3e_row8_col12, #T_cea3e_row9_col5 {\n",
              "  background-color: #ee0000;\n",
              "  color: #f1f1f1;\n",
              "}\n",
              "#T_cea3e_row8_col14 {\n",
              "  background-color: #e40000;\n",
              "  color: #f1f1f1;\n",
              "}\n",
              "#T_cea3e_row9_col0 {\n",
              "  background-color: #00a668;\n",
              "  color: #f1f1f1;\n",
              "}\n",
              "#T_cea3e_row9_col2, #T_cea3e_row13_col3 {\n",
              "  background-color: #ff1500;\n",
              "  color: #f1f1f1;\n",
              "}\n",
              "#T_cea3e_row9_col3, #T_cea3e_row10_col7, #T_cea3e_row10_col8 {\n",
              "  background-color: #00aa88;\n",
              "  color: #f1f1f1;\n",
              "}\n",
              "#T_cea3e_row9_col10, #T_cea3e_row13_col0 {\n",
              "  background-color: #ffb100;\n",
              "  color: #000000;\n",
              "}\n",
              "#T_cea3e_row9_col11, #T_cea3e_row14_col9 {\n",
              "  background-color: #00aa90;\n",
              "  color: #f1f1f1;\n",
              "}\n",
              "#T_cea3e_row9_col12 {\n",
              "  background-color: #00aa93;\n",
              "  color: #f1f1f1;\n",
              "}\n",
              "#T_cea3e_row9_col14 {\n",
              "  background-color: #00a55d;\n",
              "  color: #f1f1f1;\n",
              "}\n",
              "#T_cea3e_row10_col0 {\n",
              "  background-color: #f1e700;\n",
              "  color: #000000;\n",
              "}\n",
              "#T_cea3e_row10_col1 {\n",
              "  background-color: #fcd200;\n",
              "  color: #000000;\n",
              "}\n",
              "#T_cea3e_row10_col2 {\n",
              "  background-color: #ecef00;\n",
              "  color: #000000;\n",
              "}\n",
              "#T_cea3e_row10_col5 {\n",
              "  background-color: #0fff00;\n",
              "  color: #000000;\n",
              "}\n",
              "#T_cea3e_row10_col6 {\n",
              "  background-color: #d8f500;\n",
              "  color: #000000;\n",
              "}\n",
              "#T_cea3e_row10_col12 {\n",
              "  background-color: #f5df00;\n",
              "  color: #000000;\n",
              "}\n",
              "#T_cea3e_row10_col14, #T_cea3e_row13_col2, #T_cea3e_row13_col14 {\n",
              "  background-color: #f9d700;\n",
              "  color: #000000;\n",
              "}\n",
              "#T_cea3e_row11_col3, #T_cea3e_row12_col3 {\n",
              "  background-color: #0085dd;\n",
              "  color: #f1f1f1;\n",
              "}\n",
              "#T_cea3e_row11_col6, #T_cea3e_row13_col10, #T_cea3e_row14_col2 {\n",
              "  background-color: #cc0c0c;\n",
              "  color: #f1f1f1;\n",
              "}\n",
              "#T_cea3e_row11_col12, #T_cea3e_row12_col11 {\n",
              "  background-color: #7b008c;\n",
              "  color: #f1f1f1;\n",
              "}\n",
              "#T_cea3e_row11_col13, #T_cea3e_row12_col6 {\n",
              "  background-color: #cc0000;\n",
              "  color: #f1f1f1;\n",
              "}\n",
              "#T_cea3e_row11_col14 {\n",
              "  background-color: #4300a2;\n",
              "  color: #f1f1f1;\n",
              "}\n",
              "#T_cea3e_row12_col0 {\n",
              "  background-color: #005ddd;\n",
              "  color: #f1f1f1;\n",
              "}\n",
              "#T_cea3e_row12_col1 {\n",
              "  background-color: #cc7c7c;\n",
              "  color: #f1f1f1;\n",
              "}\n",
              "#T_cea3e_row12_col5, #T_cea3e_row14_col5 {\n",
              "  background-color: #cc1c1c;\n",
              "  color: #f1f1f1;\n",
              "}\n",
              "#T_cea3e_row12_col13 {\n",
              "  background-color: #cc4c4c;\n",
              "  color: #f1f1f1;\n",
              "}\n",
              "#T_cea3e_row12_col14, #T_cea3e_row14_col12 {\n",
              "  background-color: #3800a3;\n",
              "  color: #f1f1f1;\n",
              "}\n",
              "#T_cea3e_row13_col4 {\n",
              "  background-color: #00a700;\n",
              "  color: #f1f1f1;\n",
              "}\n",
              "#T_cea3e_row13_col5 {\n",
              "  background-color: #67ff00;\n",
              "  color: #000000;\n",
              "}\n",
              "#T_cea3e_row13_col6 {\n",
              "  background-color: #49ff00;\n",
              "  color: #000000;\n",
              "}\n",
              "#T_cea3e_row13_col11 {\n",
              "  background-color: #f4e200;\n",
              "  color: #000000;\n",
              "}\n",
              "#T_cea3e_row13_col12 {\n",
              "  background-color: #fdcf00;\n",
              "  color: #000000;\n",
              "}\n",
              "#T_cea3e_row14_col3 {\n",
              "  background-color: #0090dd;\n",
              "  color: #f1f1f1;\n",
              "}\n",
              "#T_cea3e_row14_col4 {\n",
              "  background-color: #cc2c2c;\n",
              "  color: #f1f1f1;\n",
              "}\n",
              "#T_cea3e_row14_col6 {\n",
              "  background-color: #d20000;\n",
              "  color: #f1f1f1;\n",
              "}\n",
              "#T_cea3e_row14_col7 {\n",
              "  background-color: #cc8c8c;\n",
              "  color: #f1f1f1;\n",
              "}\n",
              "#T_cea3e_row14_col10 {\n",
              "  background-color: #ccbcbc;\n",
              "  color: #000000;\n",
              "}\n",
              "#T_cea3e_row14_col11 {\n",
              "  background-color: #4d00a0;\n",
              "  color: #f1f1f1;\n",
              "}\n",
              "</style>\n",
              "<table id=\"T_cea3e_\" class=\"dataframe\">\n",
              "  <thead>\n",
              "    <tr>\n",
              "      <th class=\"blank level0\" >&nbsp;</th>\n",
              "      <th class=\"col_heading level0 col0\" >id</th>\n",
              "      <th class=\"col_heading level0 col1\" >age</th>\n",
              "      <th class=\"col_heading level0 col2\" >bp</th>\n",
              "      <th class=\"col_heading level0 col3\" >sg</th>\n",
              "      <th class=\"col_heading level0 col4\" >al</th>\n",
              "      <th class=\"col_heading level0 col5\" >su</th>\n",
              "      <th class=\"col_heading level0 col6\" >bgr</th>\n",
              "      <th class=\"col_heading level0 col7\" >bu</th>\n",
              "      <th class=\"col_heading level0 col8\" >sc</th>\n",
              "      <th class=\"col_heading level0 col9\" >sod</th>\n",
              "      <th class=\"col_heading level0 col10\" >pot</th>\n",
              "      <th class=\"col_heading level0 col11\" >hemo</th>\n",
              "      <th class=\"col_heading level0 col12\" >pcv</th>\n",
              "      <th class=\"col_heading level0 col13\" >wc</th>\n",
              "      <th class=\"col_heading level0 col14\" >rc</th>\n",
              "    </tr>\n",
              "  </thead>\n",
              "  <tbody>\n",
              "    <tr>\n",
              "      <th id=\"T_cea3e_level0_row0\" class=\"row_heading level0 row0\" >id</th>\n",
              "      <td id=\"T_cea3e_row0_col0\" class=\"data row0 col0\" >1.000000</td>\n",
              "      <td id=\"T_cea3e_row0_col1\" class=\"data row0 col1\" >-0.185308</td>\n",
              "      <td id=\"T_cea3e_row0_col2\" class=\"data row0 col2\" >-0.245744</td>\n",
              "      <td id=\"T_cea3e_row0_col3\" class=\"data row0 col3\" >0.642156</td>\n",
              "      <td id=\"T_cea3e_row0_col4\" class=\"data row0 col4\" >-0.541993</td>\n",
              "      <td id=\"T_cea3e_row0_col5\" class=\"data row0 col5\" >-0.283416</td>\n",
              "      <td id=\"T_cea3e_row0_col6\" class=\"data row0 col6\" >-0.338673</td>\n",
              "      <td id=\"T_cea3e_row0_col7\" class=\"data row0 col7\" >-0.307175</td>\n",
              "      <td id=\"T_cea3e_row0_col8\" class=\"data row0 col8\" >-0.268683</td>\n",
              "      <td id=\"T_cea3e_row0_col9\" class=\"data row0 col9\" >0.364251</td>\n",
              "      <td id=\"T_cea3e_row0_col10\" class=\"data row0 col10\" >-0.092347</td>\n",
              "      <td id=\"T_cea3e_row0_col11\" class=\"data row0 col11\" >0.640298</td>\n",
              "      <td id=\"T_cea3e_row0_col12\" class=\"data row0 col12\" >0.630019</td>\n",
              "      <td id=\"T_cea3e_row0_col13\" class=\"data row0 col13\" >-0.198641</td>\n",
              "      <td id=\"T_cea3e_row0_col14\" class=\"data row0 col14\" >0.605072</td>\n",
              "    </tr>\n",
              "    <tr>\n",
              "      <th id=\"T_cea3e_level0_row1\" class=\"row_heading level0 row1\" >age</th>\n",
              "      <td id=\"T_cea3e_row1_col0\" class=\"data row1 col0\" >-0.185308</td>\n",
              "      <td id=\"T_cea3e_row1_col1\" class=\"data row1 col1\" >1.000000</td>\n",
              "      <td id=\"T_cea3e_row1_col2\" class=\"data row1 col2\" >0.159480</td>\n",
              "      <td id=\"T_cea3e_row1_col3\" class=\"data row1 col3\" >-0.191096</td>\n",
              "      <td id=\"T_cea3e_row1_col4\" class=\"data row1 col4\" >0.122091</td>\n",
              "      <td id=\"T_cea3e_row1_col5\" class=\"data row1 col5\" >0.220866</td>\n",
              "      <td id=\"T_cea3e_row1_col6\" class=\"data row1 col6\" >0.244992</td>\n",
              "      <td id=\"T_cea3e_row1_col7\" class=\"data row1 col7\" >0.196985</td>\n",
              "      <td id=\"T_cea3e_row1_col8\" class=\"data row1 col8\" >0.132531</td>\n",
              "      <td id=\"T_cea3e_row1_col9\" class=\"data row1 col9\" >-0.100046</td>\n",
              "      <td id=\"T_cea3e_row1_col10\" class=\"data row1 col10\" >0.058377</td>\n",
              "      <td id=\"T_cea3e_row1_col11\" class=\"data row1 col11\" >-0.192928</td>\n",
              "      <td id=\"T_cea3e_row1_col12\" class=\"data row1 col12\" >-0.242119</td>\n",
              "      <td id=\"T_cea3e_row1_col13\" class=\"data row1 col13\" >0.118339</td>\n",
              "      <td id=\"T_cea3e_row1_col14\" class=\"data row1 col14\" >-0.268896</td>\n",
              "    </tr>\n",
              "    <tr>\n",
              "      <th id=\"T_cea3e_level0_row2\" class=\"row_heading level0 row2\" >bp</th>\n",
              "      <td id=\"T_cea3e_row2_col0\" class=\"data row2 col0\" >-0.245744</td>\n",
              "      <td id=\"T_cea3e_row2_col1\" class=\"data row2 col1\" >0.159480</td>\n",
              "      <td id=\"T_cea3e_row2_col2\" class=\"data row2 col2\" >1.000000</td>\n",
              "      <td id=\"T_cea3e_row2_col3\" class=\"data row2 col3\" >-0.218836</td>\n",
              "      <td id=\"T_cea3e_row2_col4\" class=\"data row2 col4\" >0.160689</td>\n",
              "      <td id=\"T_cea3e_row2_col5\" class=\"data row2 col5\" >0.222576</td>\n",
              "      <td id=\"T_cea3e_row2_col6\" class=\"data row2 col6\" >0.160193</td>\n",
              "      <td id=\"T_cea3e_row2_col7\" class=\"data row2 col7\" >0.188517</td>\n",
              "      <td id=\"T_cea3e_row2_col8\" class=\"data row2 col8\" >0.146222</td>\n",
              "      <td id=\"T_cea3e_row2_col9\" class=\"data row2 col9\" >-0.116422</td>\n",
              "      <td id=\"T_cea3e_row2_col10\" class=\"data row2 col10\" >0.075151</td>\n",
              "      <td id=\"T_cea3e_row2_col11\" class=\"data row2 col11\" >-0.306540</td>\n",
              "      <td id=\"T_cea3e_row2_col12\" class=\"data row2 col12\" >-0.326319</td>\n",
              "      <td id=\"T_cea3e_row2_col13\" class=\"data row2 col13\" >0.029753</td>\n",
              "      <td id=\"T_cea3e_row2_col14\" class=\"data row2 col14\" >-0.261936</td>\n",
              "    </tr>\n",
              "    <tr>\n",
              "      <th id=\"T_cea3e_level0_row3\" class=\"row_heading level0 row3\" >sg</th>\n",
              "      <td id=\"T_cea3e_row3_col0\" class=\"data row3 col0\" >0.642156</td>\n",
              "      <td id=\"T_cea3e_row3_col1\" class=\"data row3 col1\" >-0.191096</td>\n",
              "      <td id=\"T_cea3e_row3_col2\" class=\"data row3 col2\" >-0.218836</td>\n",
              "      <td id=\"T_cea3e_row3_col3\" class=\"data row3 col3\" >1.000000</td>\n",
              "      <td id=\"T_cea3e_row3_col4\" class=\"data row3 col4\" >-0.469760</td>\n",
              "      <td id=\"T_cea3e_row3_col5\" class=\"data row3 col5\" >-0.296234</td>\n",
              "      <td id=\"T_cea3e_row3_col6\" class=\"data row3 col6\" >-0.374710</td>\n",
              "      <td id=\"T_cea3e_row3_col7\" class=\"data row3 col7\" >-0.314295</td>\n",
              "      <td id=\"T_cea3e_row3_col8\" class=\"data row3 col8\" >-0.361473</td>\n",
              "      <td id=\"T_cea3e_row3_col9\" class=\"data row3 col9\" >0.412190</td>\n",
              "      <td id=\"T_cea3e_row3_col10\" class=\"data row3 col10\" >-0.072787</td>\n",
              "      <td id=\"T_cea3e_row3_col11\" class=\"data row3 col11\" >0.602582</td>\n",
              "      <td id=\"T_cea3e_row3_col12\" class=\"data row3 col12\" >0.603560</td>\n",
              "      <td id=\"T_cea3e_row3_col13\" class=\"data row3 col13\" >-0.236215</td>\n",
              "      <td id=\"T_cea3e_row3_col14\" class=\"data row3 col14\" >0.579476</td>\n",
              "    </tr>\n",
              "    <tr>\n",
              "      <th id=\"T_cea3e_level0_row4\" class=\"row_heading level0 row4\" >al</th>\n",
              "      <td id=\"T_cea3e_row4_col0\" class=\"data row4 col0\" >-0.541993</td>\n",
              "      <td id=\"T_cea3e_row4_col1\" class=\"data row4 col1\" >0.122091</td>\n",
              "      <td id=\"T_cea3e_row4_col2\" class=\"data row4 col2\" >0.160689</td>\n",
              "      <td id=\"T_cea3e_row4_col3\" class=\"data row4 col3\" >-0.469760</td>\n",
              "      <td id=\"T_cea3e_row4_col4\" class=\"data row4 col4\" >1.000000</td>\n",
              "      <td id=\"T_cea3e_row4_col5\" class=\"data row4 col5\" >0.269305</td>\n",
              "      <td id=\"T_cea3e_row4_col6\" class=\"data row4 col6\" >0.379464</td>\n",
              "      <td id=\"T_cea3e_row4_col7\" class=\"data row4 col7\" >0.453528</td>\n",
              "      <td id=\"T_cea3e_row4_col8\" class=\"data row4 col8\" >0.399198</td>\n",
              "      <td id=\"T_cea3e_row4_col9\" class=\"data row4 col9\" >-0.459896</td>\n",
              "      <td id=\"T_cea3e_row4_col10\" class=\"data row4 col10\" >0.129038</td>\n",
              "      <td id=\"T_cea3e_row4_col11\" class=\"data row4 col11\" >-0.634632</td>\n",
              "      <td id=\"T_cea3e_row4_col12\" class=\"data row4 col12\" >-0.611891</td>\n",
              "      <td id=\"T_cea3e_row4_col13\" class=\"data row4 col13\" >0.231989</td>\n",
              "      <td id=\"T_cea3e_row4_col14\" class=\"data row4 col14\" >-0.566437</td>\n",
              "    </tr>\n",
              "    <tr>\n",
              "      <th id=\"T_cea3e_level0_row5\" class=\"row_heading level0 row5\" >su</th>\n",
              "      <td id=\"T_cea3e_row5_col0\" class=\"data row5 col0\" >-0.283416</td>\n",
              "      <td id=\"T_cea3e_row5_col1\" class=\"data row5 col1\" >0.220866</td>\n",
              "      <td id=\"T_cea3e_row5_col2\" class=\"data row5 col2\" >0.222576</td>\n",
              "      <td id=\"T_cea3e_row5_col3\" class=\"data row5 col3\" >-0.296234</td>\n",
              "      <td id=\"T_cea3e_row5_col4\" class=\"data row5 col4\" >0.269305</td>\n",
              "      <td id=\"T_cea3e_row5_col5\" class=\"data row5 col5\" >1.000000</td>\n",
              "      <td id=\"T_cea3e_row5_col6\" class=\"data row5 col6\" >0.717827</td>\n",
              "      <td id=\"T_cea3e_row5_col7\" class=\"data row5 col7\" >0.168583</td>\n",
              "      <td id=\"T_cea3e_row5_col8\" class=\"data row5 col8\" >0.223244</td>\n",
              "      <td id=\"T_cea3e_row5_col9\" class=\"data row5 col9\" >-0.131776</td>\n",
              "      <td id=\"T_cea3e_row5_col10\" class=\"data row5 col10\" >0.219450</td>\n",
              "      <td id=\"T_cea3e_row5_col11\" class=\"data row5 col11\" >-0.224775</td>\n",
              "      <td id=\"T_cea3e_row5_col12\" class=\"data row5 col12\" >-0.239189</td>\n",
              "      <td id=\"T_cea3e_row5_col13\" class=\"data row5 col13\" >0.184893</td>\n",
              "      <td id=\"T_cea3e_row5_col14\" class=\"data row5 col14\" >-0.237448</td>\n",
              "    </tr>\n",
              "    <tr>\n",
              "      <th id=\"T_cea3e_level0_row6\" class=\"row_heading level0 row6\" >bgr</th>\n",
              "      <td id=\"T_cea3e_row6_col0\" class=\"data row6 col0\" >-0.338673</td>\n",
              "      <td id=\"T_cea3e_row6_col1\" class=\"data row6 col1\" >0.244992</td>\n",
              "      <td id=\"T_cea3e_row6_col2\" class=\"data row6 col2\" >0.160193</td>\n",
              "      <td id=\"T_cea3e_row6_col3\" class=\"data row6 col3\" >-0.374710</td>\n",
              "      <td id=\"T_cea3e_row6_col4\" class=\"data row6 col4\" >0.379464</td>\n",
              "      <td id=\"T_cea3e_row6_col5\" class=\"data row6 col5\" >0.717827</td>\n",
              "      <td id=\"T_cea3e_row6_col6\" class=\"data row6 col6\" >1.000000</td>\n",
              "      <td id=\"T_cea3e_row6_col7\" class=\"data row6 col7\" >0.143322</td>\n",
              "      <td id=\"T_cea3e_row6_col8\" class=\"data row6 col8\" >0.114875</td>\n",
              "      <td id=\"T_cea3e_row6_col9\" class=\"data row6 col9\" >-0.267848</td>\n",
              "      <td id=\"T_cea3e_row6_col10\" class=\"data row6 col10\" >0.066966</td>\n",
              "      <td id=\"T_cea3e_row6_col11\" class=\"data row6 col11\" >-0.306189</td>\n",
              "      <td id=\"T_cea3e_row6_col12\" class=\"data row6 col12\" >-0.301385</td>\n",
              "      <td id=\"T_cea3e_row6_col13\" class=\"data row6 col13\" >0.150015</td>\n",
              "      <td id=\"T_cea3e_row6_col14\" class=\"data row6 col14\" >-0.281541</td>\n",
              "    </tr>\n",
              "    <tr>\n",
              "      <th id=\"T_cea3e_level0_row7\" class=\"row_heading level0 row7\" >bu</th>\n",
              "      <td id=\"T_cea3e_row7_col0\" class=\"data row7 col0\" >-0.307175</td>\n",
              "      <td id=\"T_cea3e_row7_col1\" class=\"data row7 col1\" >0.196985</td>\n",
              "      <td id=\"T_cea3e_row7_col2\" class=\"data row7 col2\" >0.188517</td>\n",
              "      <td id=\"T_cea3e_row7_col3\" class=\"data row7 col3\" >-0.314295</td>\n",
              "      <td id=\"T_cea3e_row7_col4\" class=\"data row7 col4\" >0.453528</td>\n",
              "      <td id=\"T_cea3e_row7_col5\" class=\"data row7 col5\" >0.168583</td>\n",
              "      <td id=\"T_cea3e_row7_col6\" class=\"data row7 col6\" >0.143322</td>\n",
              "      <td id=\"T_cea3e_row7_col7\" class=\"data row7 col7\" >1.000000</td>\n",
              "      <td id=\"T_cea3e_row7_col8\" class=\"data row7 col8\" >0.586368</td>\n",
              "      <td id=\"T_cea3e_row7_col9\" class=\"data row7 col9\" >-0.323054</td>\n",
              "      <td id=\"T_cea3e_row7_col10\" class=\"data row7 col10\" >0.357049</td>\n",
              "      <td id=\"T_cea3e_row7_col11\" class=\"data row7 col11\" >-0.610360</td>\n",
              "      <td id=\"T_cea3e_row7_col12\" class=\"data row7 col12\" >-0.607621</td>\n",
              "      <td id=\"T_cea3e_row7_col13\" class=\"data row7 col13\" >0.050462</td>\n",
              "      <td id=\"T_cea3e_row7_col14\" class=\"data row7 col14\" >-0.579087</td>\n",
              "    </tr>\n",
              "    <tr>\n",
              "      <th id=\"T_cea3e_level0_row8\" class=\"row_heading level0 row8\" >sc</th>\n",
              "      <td id=\"T_cea3e_row8_col0\" class=\"data row8 col0\" >-0.268683</td>\n",
              "      <td id=\"T_cea3e_row8_col1\" class=\"data row8 col1\" >0.132531</td>\n",
              "      <td id=\"T_cea3e_row8_col2\" class=\"data row8 col2\" >0.146222</td>\n",
              "      <td id=\"T_cea3e_row8_col3\" class=\"data row8 col3\" >-0.361473</td>\n",
              "      <td id=\"T_cea3e_row8_col4\" class=\"data row8 col4\" >0.399198</td>\n",
              "      <td id=\"T_cea3e_row8_col5\" class=\"data row8 col5\" >0.223244</td>\n",
              "      <td id=\"T_cea3e_row8_col6\" class=\"data row8 col6\" >0.114875</td>\n",
              "      <td id=\"T_cea3e_row8_col7\" class=\"data row8 col7\" >0.586368</td>\n",
              "      <td id=\"T_cea3e_row8_col8\" class=\"data row8 col8\" >1.000000</td>\n",
              "      <td id=\"T_cea3e_row8_col9\" class=\"data row8 col9\" >-0.690158</td>\n",
              "      <td id=\"T_cea3e_row8_col10\" class=\"data row8 col10\" >0.326107</td>\n",
              "      <td id=\"T_cea3e_row8_col11\" class=\"data row8 col11\" >-0.401670</td>\n",
              "      <td id=\"T_cea3e_row8_col12\" class=\"data row8 col12\" >-0.404193</td>\n",
              "      <td id=\"T_cea3e_row8_col13\" class=\"data row8 col13\" >-0.006390</td>\n",
              "      <td id=\"T_cea3e_row8_col14\" class=\"data row8 col14\" >-0.400852</td>\n",
              "    </tr>\n",
              "    <tr>\n",
              "      <th id=\"T_cea3e_level0_row9\" class=\"row_heading level0 row9\" >sod</th>\n",
              "      <td id=\"T_cea3e_row9_col0\" class=\"data row9 col0\" >0.364251</td>\n",
              "      <td id=\"T_cea3e_row9_col1\" class=\"data row9 col1\" >-0.100046</td>\n",
              "      <td id=\"T_cea3e_row9_col2\" class=\"data row9 col2\" >-0.116422</td>\n",
              "      <td id=\"T_cea3e_row9_col3\" class=\"data row9 col3\" >0.412190</td>\n",
              "      <td id=\"T_cea3e_row9_col4\" class=\"data row9 col4\" >-0.459896</td>\n",
              "      <td id=\"T_cea3e_row9_col5\" class=\"data row9 col5\" >-0.131776</td>\n",
              "      <td id=\"T_cea3e_row9_col6\" class=\"data row9 col6\" >-0.267848</td>\n",
              "      <td id=\"T_cea3e_row9_col7\" class=\"data row9 col7\" >-0.323054</td>\n",
              "      <td id=\"T_cea3e_row9_col8\" class=\"data row9 col8\" >-0.690158</td>\n",
              "      <td id=\"T_cea3e_row9_col9\" class=\"data row9 col9\" >1.000000</td>\n",
              "      <td id=\"T_cea3e_row9_col10\" class=\"data row9 col10\" >0.097887</td>\n",
              "      <td id=\"T_cea3e_row9_col11\" class=\"data row9 col11\" >0.365183</td>\n",
              "      <td id=\"T_cea3e_row9_col12\" class=\"data row9 col12\" >0.376914</td>\n",
              "      <td id=\"T_cea3e_row9_col13\" class=\"data row9 col13\" >0.007277</td>\n",
              "      <td id=\"T_cea3e_row9_col14\" class=\"data row9 col14\" >0.344873</td>\n",
              "    </tr>\n",
              "    <tr>\n",
              "      <th id=\"T_cea3e_level0_row10\" class=\"row_heading level0 row10\" >pot</th>\n",
              "      <td id=\"T_cea3e_row10_col0\" class=\"data row10 col0\" >-0.092347</td>\n",
              "      <td id=\"T_cea3e_row10_col1\" class=\"data row10 col1\" >0.058377</td>\n",
              "      <td id=\"T_cea3e_row10_col2\" class=\"data row10 col2\" >0.075151</td>\n",
              "      <td id=\"T_cea3e_row10_col3\" class=\"data row10 col3\" >-0.072787</td>\n",
              "      <td id=\"T_cea3e_row10_col4\" class=\"data row10 col4\" >0.129038</td>\n",
              "      <td id=\"T_cea3e_row10_col5\" class=\"data row10 col5\" >0.219450</td>\n",
              "      <td id=\"T_cea3e_row10_col6\" class=\"data row10 col6\" >0.066966</td>\n",
              "      <td id=\"T_cea3e_row10_col7\" class=\"data row10 col7\" >0.357049</td>\n",
              "      <td id=\"T_cea3e_row10_col8\" class=\"data row10 col8\" >0.326107</td>\n",
              "      <td id=\"T_cea3e_row10_col9\" class=\"data row10 col9\" >0.097887</td>\n",
              "      <td id=\"T_cea3e_row10_col10\" class=\"data row10 col10\" >1.000000</td>\n",
              "      <td id=\"T_cea3e_row10_col11\" class=\"data row10 col11\" >-0.133746</td>\n",
              "      <td id=\"T_cea3e_row10_col12\" class=\"data row10 col12\" >-0.163182</td>\n",
              "      <td id=\"T_cea3e_row10_col13\" class=\"data row10 col13\" >-0.105576</td>\n",
              "      <td id=\"T_cea3e_row10_col14\" class=\"data row10 col14\" >-0.158309</td>\n",
              "    </tr>\n",
              "    <tr>\n",
              "      <th id=\"T_cea3e_level0_row11\" class=\"row_heading level0 row11\" >hemo</th>\n",
              "      <td id=\"T_cea3e_row11_col0\" class=\"data row11 col0\" >0.640298</td>\n",
              "      <td id=\"T_cea3e_row11_col1\" class=\"data row11 col1\" >-0.192928</td>\n",
              "      <td id=\"T_cea3e_row11_col2\" class=\"data row11 col2\" >-0.306540</td>\n",
              "      <td id=\"T_cea3e_row11_col3\" class=\"data row11 col3\" >0.602582</td>\n",
              "      <td id=\"T_cea3e_row11_col4\" class=\"data row11 col4\" >-0.634632</td>\n",
              "      <td id=\"T_cea3e_row11_col5\" class=\"data row11 col5\" >-0.224775</td>\n",
              "      <td id=\"T_cea3e_row11_col6\" class=\"data row11 col6\" >-0.306189</td>\n",
              "      <td id=\"T_cea3e_row11_col7\" class=\"data row11 col7\" >-0.610360</td>\n",
              "      <td id=\"T_cea3e_row11_col8\" class=\"data row11 col8\" >-0.401670</td>\n",
              "      <td id=\"T_cea3e_row11_col9\" class=\"data row11 col9\" >0.365183</td>\n",
              "      <td id=\"T_cea3e_row11_col10\" class=\"data row11 col10\" >-0.133746</td>\n",
              "      <td id=\"T_cea3e_row11_col11\" class=\"data row11 col11\" >1.000000</td>\n",
              "      <td id=\"T_cea3e_row11_col12\" class=\"data row11 col12\" >0.895382</td>\n",
              "      <td id=\"T_cea3e_row11_col13\" class=\"data row11 col13\" >-0.169413</td>\n",
              "      <td id=\"T_cea3e_row11_col14\" class=\"data row11 col14\" >0.798880</td>\n",
              "    </tr>\n",
              "    <tr>\n",
              "      <th id=\"T_cea3e_level0_row12\" class=\"row_heading level0 row12\" >pcv</th>\n",
              "      <td id=\"T_cea3e_row12_col0\" class=\"data row12 col0\" >0.630019</td>\n",
              "      <td id=\"T_cea3e_row12_col1\" class=\"data row12 col1\" >-0.242119</td>\n",
              "      <td id=\"T_cea3e_row12_col2\" class=\"data row12 col2\" >-0.326319</td>\n",
              "      <td id=\"T_cea3e_row12_col3\" class=\"data row12 col3\" >0.603560</td>\n",
              "      <td id=\"T_cea3e_row12_col4\" class=\"data row12 col4\" >-0.611891</td>\n",
              "      <td id=\"T_cea3e_row12_col5\" class=\"data row12 col5\" >-0.239189</td>\n",
              "      <td id=\"T_cea3e_row12_col6\" class=\"data row12 col6\" >-0.301385</td>\n",
              "      <td id=\"T_cea3e_row12_col7\" class=\"data row12 col7\" >-0.607621</td>\n",
              "      <td id=\"T_cea3e_row12_col8\" class=\"data row12 col8\" >-0.404193</td>\n",
              "      <td id=\"T_cea3e_row12_col9\" class=\"data row12 col9\" >0.376914</td>\n",
              "      <td id=\"T_cea3e_row12_col10\" class=\"data row12 col10\" >-0.163182</td>\n",
              "      <td id=\"T_cea3e_row12_col11\" class=\"data row12 col11\" >0.895382</td>\n",
              "      <td id=\"T_cea3e_row12_col12\" class=\"data row12 col12\" >1.000000</td>\n",
              "      <td id=\"T_cea3e_row12_col13\" class=\"data row12 col13\" >-0.197022</td>\n",
              "      <td id=\"T_cea3e_row12_col14\" class=\"data row12 col14\" >0.791625</td>\n",
              "    </tr>\n",
              "    <tr>\n",
              "      <th id=\"T_cea3e_level0_row13\" class=\"row_heading level0 row13\" >wc</th>\n",
              "      <td id=\"T_cea3e_row13_col0\" class=\"data row13 col0\" >-0.198641</td>\n",
              "      <td id=\"T_cea3e_row13_col1\" class=\"data row13 col1\" >0.118339</td>\n",
              "      <td id=\"T_cea3e_row13_col2\" class=\"data row13 col2\" >0.029753</td>\n",
              "      <td id=\"T_cea3e_row13_col3\" class=\"data row13 col3\" >-0.236215</td>\n",
              "      <td id=\"T_cea3e_row13_col4\" class=\"data row13 col4\" >0.231989</td>\n",
              "      <td id=\"T_cea3e_row13_col5\" class=\"data row13 col5\" >0.184893</td>\n",
              "      <td id=\"T_cea3e_row13_col6\" class=\"data row13 col6\" >0.150015</td>\n",
              "      <td id=\"T_cea3e_row13_col7\" class=\"data row13 col7\" >0.050462</td>\n",
              "      <td id=\"T_cea3e_row13_col8\" class=\"data row13 col8\" >-0.006390</td>\n",
              "      <td id=\"T_cea3e_row13_col9\" class=\"data row13 col9\" >0.007277</td>\n",
              "      <td id=\"T_cea3e_row13_col10\" class=\"data row13 col10\" >-0.105576</td>\n",
              "      <td id=\"T_cea3e_row13_col11\" class=\"data row13 col11\" >-0.169413</td>\n",
              "      <td id=\"T_cea3e_row13_col12\" class=\"data row13 col12\" >-0.197022</td>\n",
              "      <td id=\"T_cea3e_row13_col13\" class=\"data row13 col13\" >1.000000</td>\n",
              "      <td id=\"T_cea3e_row13_col14\" class=\"data row13 col14\" >-0.158163</td>\n",
              "    </tr>\n",
              "    <tr>\n",
              "      <th id=\"T_cea3e_level0_row14\" class=\"row_heading level0 row14\" >rc</th>\n",
              "      <td id=\"T_cea3e_row14_col0\" class=\"data row14 col0\" >0.605072</td>\n",
              "      <td id=\"T_cea3e_row14_col1\" class=\"data row14 col1\" >-0.268896</td>\n",
              "      <td id=\"T_cea3e_row14_col2\" class=\"data row14 col2\" >-0.261936</td>\n",
              "      <td id=\"T_cea3e_row14_col3\" class=\"data row14 col3\" >0.579476</td>\n",
              "      <td id=\"T_cea3e_row14_col4\" class=\"data row14 col4\" >-0.566437</td>\n",
              "      <td id=\"T_cea3e_row14_col5\" class=\"data row14 col5\" >-0.237448</td>\n",
              "      <td id=\"T_cea3e_row14_col6\" class=\"data row14 col6\" >-0.281541</td>\n",
              "      <td id=\"T_cea3e_row14_col7\" class=\"data row14 col7\" >-0.579087</td>\n",
              "      <td id=\"T_cea3e_row14_col8\" class=\"data row14 col8\" >-0.400852</td>\n",
              "      <td id=\"T_cea3e_row14_col9\" class=\"data row14 col9\" >0.344873</td>\n",
              "      <td id=\"T_cea3e_row14_col10\" class=\"data row14 col10\" >-0.158309</td>\n",
              "      <td id=\"T_cea3e_row14_col11\" class=\"data row14 col11\" >0.798880</td>\n",
              "      <td id=\"T_cea3e_row14_col12\" class=\"data row14 col12\" >0.791625</td>\n",
              "      <td id=\"T_cea3e_row14_col13\" class=\"data row14 col13\" >-0.158163</td>\n",
              "      <td id=\"T_cea3e_row14_col14\" class=\"data row14 col14\" >1.000000</td>\n",
              "    </tr>\n",
              "  </tbody>\n",
              "</table>\n"
            ]
          },
          "metadata": {},
          "execution_count": 376
        }
      ]
    },
    {
      "cell_type": "code",
      "source": [
        "df=df.drop([\"id\"],axis=1)"
      ],
      "metadata": {
        "id": "7CRUI7oORZyy"
      },
      "execution_count": null,
      "outputs": []
    },
    {
      "cell_type": "code",
      "source": [
        "df=df.drop([\"age\"],axis=1)"
      ],
      "metadata": {
        "id": "A6drkeLtRgn-"
      },
      "execution_count": null,
      "outputs": []
    },
    {
      "cell_type": "code",
      "source": [
        "df=df.drop([\"wc\"],axis=1)"
      ],
      "metadata": {
        "id": "jkNxRcVmRkEz"
      },
      "execution_count": null,
      "outputs": []
    },
    {
      "cell_type": "code",
      "source": [
        "df.columns"
      ],
      "metadata": {
        "colab": {
          "base_uri": "https://localhost:8080/"
        },
        "id": "C-FW90ziRm1F",
        "outputId": "69383c95-770d-4395-f3b8-bcbde43e96f7"
      },
      "execution_count": null,
      "outputs": [
        {
          "output_type": "execute_result",
          "data": {
            "text/plain": [
              "Index(['bp', 'sg', 'al', 'su', 'rbc', 'pc', 'pcc', 'ba', 'bgr', 'bu', 'sc',\n",
              "       'sod', 'pot', 'hemo', 'pcv', 'rc', 'htn', 'dm', 'cad', 'appet', 'pe',\n",
              "       'ane', 'classification'],\n",
              "      dtype='object')"
            ]
          },
          "metadata": {},
          "execution_count": 380
        }
      ]
    },
    {
      "cell_type": "code",
      "source": [
        "#DESCRIPTIVE STATISTICS"
      ],
      "metadata": {
        "id": "AaUSrj99RpHc"
      },
      "execution_count": null,
      "outputs": []
    },
    {
      "cell_type": "code",
      "source": [
        "df.describe()"
      ],
      "metadata": {
        "colab": {
          "base_uri": "https://localhost:8080/",
          "height": 364
        },
        "id": "SUDLbG8gRsZ7",
        "outputId": "5781058e-c978-4d19-b29f-1e1e3829f901"
      },
      "execution_count": null,
      "outputs": [
        {
          "output_type": "execute_result",
          "data": {
            "text/plain": [
              "               bp          sg          al          su         bgr          bu  \\\n",
              "count  388.000000  353.000000  354.000000  351.000000  356.000000  381.000000   \n",
              "mean    76.469072    1.017408    1.016949    0.450142  148.036517   57.425722   \n",
              "std     13.683637    0.005717    1.352679    1.099191   79.281714   50.503006   \n",
              "min     50.000000    1.005000    0.000000    0.000000   22.000000    1.500000   \n",
              "25%     70.000000    1.010000    0.000000    0.000000   99.000000   27.000000   \n",
              "50%     80.000000    1.020000    0.000000    0.000000  121.000000   42.000000   \n",
              "75%     80.000000    1.020000    2.000000    0.000000  163.000000   66.000000   \n",
              "max    180.000000    1.025000    5.000000    5.000000  490.000000  391.000000   \n",
              "\n",
              "               sc         sod         pot        hemo         pcv          rc  \n",
              "count  383.000000  313.000000  312.000000  348.000000  329.000000  269.000000  \n",
              "mean     3.072454  137.528754    4.627244   12.526437   38.884498    4.707435  \n",
              "std      5.741126   10.408752    3.193904    2.912587    8.990105    1.025323  \n",
              "min      0.400000    4.500000    2.500000    3.100000    9.000000    2.100000  \n",
              "25%      0.900000  135.000000    3.800000   10.300000   32.000000    3.900000  \n",
              "50%      1.300000  138.000000    4.400000   12.650000   40.000000    4.800000  \n",
              "75%      2.800000  142.000000    4.900000   15.000000   45.000000    5.400000  \n",
              "max     76.000000  163.000000   47.000000   17.800000   54.000000    8.000000  "
            ],
            "text/html": [
              "\n",
              "  <div id=\"df-1249e91d-7581-4e55-9655-f1e3521527f4\">\n",
              "    <div class=\"colab-df-container\">\n",
              "      <div>\n",
              "<style scoped>\n",
              "    .dataframe tbody tr th:only-of-type {\n",
              "        vertical-align: middle;\n",
              "    }\n",
              "\n",
              "    .dataframe tbody tr th {\n",
              "        vertical-align: top;\n",
              "    }\n",
              "\n",
              "    .dataframe thead th {\n",
              "        text-align: right;\n",
              "    }\n",
              "</style>\n",
              "<table border=\"1\" class=\"dataframe\">\n",
              "  <thead>\n",
              "    <tr style=\"text-align: right;\">\n",
              "      <th></th>\n",
              "      <th>bp</th>\n",
              "      <th>sg</th>\n",
              "      <th>al</th>\n",
              "      <th>su</th>\n",
              "      <th>bgr</th>\n",
              "      <th>bu</th>\n",
              "      <th>sc</th>\n",
              "      <th>sod</th>\n",
              "      <th>pot</th>\n",
              "      <th>hemo</th>\n",
              "      <th>pcv</th>\n",
              "      <th>rc</th>\n",
              "    </tr>\n",
              "  </thead>\n",
              "  <tbody>\n",
              "    <tr>\n",
              "      <th>count</th>\n",
              "      <td>388.000000</td>\n",
              "      <td>353.000000</td>\n",
              "      <td>354.000000</td>\n",
              "      <td>351.000000</td>\n",
              "      <td>356.000000</td>\n",
              "      <td>381.000000</td>\n",
              "      <td>383.000000</td>\n",
              "      <td>313.000000</td>\n",
              "      <td>312.000000</td>\n",
              "      <td>348.000000</td>\n",
              "      <td>329.000000</td>\n",
              "      <td>269.000000</td>\n",
              "    </tr>\n",
              "    <tr>\n",
              "      <th>mean</th>\n",
              "      <td>76.469072</td>\n",
              "      <td>1.017408</td>\n",
              "      <td>1.016949</td>\n",
              "      <td>0.450142</td>\n",
              "      <td>148.036517</td>\n",
              "      <td>57.425722</td>\n",
              "      <td>3.072454</td>\n",
              "      <td>137.528754</td>\n",
              "      <td>4.627244</td>\n",
              "      <td>12.526437</td>\n",
              "      <td>38.884498</td>\n",
              "      <td>4.707435</td>\n",
              "    </tr>\n",
              "    <tr>\n",
              "      <th>std</th>\n",
              "      <td>13.683637</td>\n",
              "      <td>0.005717</td>\n",
              "      <td>1.352679</td>\n",
              "      <td>1.099191</td>\n",
              "      <td>79.281714</td>\n",
              "      <td>50.503006</td>\n",
              "      <td>5.741126</td>\n",
              "      <td>10.408752</td>\n",
              "      <td>3.193904</td>\n",
              "      <td>2.912587</td>\n",
              "      <td>8.990105</td>\n",
              "      <td>1.025323</td>\n",
              "    </tr>\n",
              "    <tr>\n",
              "      <th>min</th>\n",
              "      <td>50.000000</td>\n",
              "      <td>1.005000</td>\n",
              "      <td>0.000000</td>\n",
              "      <td>0.000000</td>\n",
              "      <td>22.000000</td>\n",
              "      <td>1.500000</td>\n",
              "      <td>0.400000</td>\n",
              "      <td>4.500000</td>\n",
              "      <td>2.500000</td>\n",
              "      <td>3.100000</td>\n",
              "      <td>9.000000</td>\n",
              "      <td>2.100000</td>\n",
              "    </tr>\n",
              "    <tr>\n",
              "      <th>25%</th>\n",
              "      <td>70.000000</td>\n",
              "      <td>1.010000</td>\n",
              "      <td>0.000000</td>\n",
              "      <td>0.000000</td>\n",
              "      <td>99.000000</td>\n",
              "      <td>27.000000</td>\n",
              "      <td>0.900000</td>\n",
              "      <td>135.000000</td>\n",
              "      <td>3.800000</td>\n",
              "      <td>10.300000</td>\n",
              "      <td>32.000000</td>\n",
              "      <td>3.900000</td>\n",
              "    </tr>\n",
              "    <tr>\n",
              "      <th>50%</th>\n",
              "      <td>80.000000</td>\n",
              "      <td>1.020000</td>\n",
              "      <td>0.000000</td>\n",
              "      <td>0.000000</td>\n",
              "      <td>121.000000</td>\n",
              "      <td>42.000000</td>\n",
              "      <td>1.300000</td>\n",
              "      <td>138.000000</td>\n",
              "      <td>4.400000</td>\n",
              "      <td>12.650000</td>\n",
              "      <td>40.000000</td>\n",
              "      <td>4.800000</td>\n",
              "    </tr>\n",
              "    <tr>\n",
              "      <th>75%</th>\n",
              "      <td>80.000000</td>\n",
              "      <td>1.020000</td>\n",
              "      <td>2.000000</td>\n",
              "      <td>0.000000</td>\n",
              "      <td>163.000000</td>\n",
              "      <td>66.000000</td>\n",
              "      <td>2.800000</td>\n",
              "      <td>142.000000</td>\n",
              "      <td>4.900000</td>\n",
              "      <td>15.000000</td>\n",
              "      <td>45.000000</td>\n",
              "      <td>5.400000</td>\n",
              "    </tr>\n",
              "    <tr>\n",
              "      <th>max</th>\n",
              "      <td>180.000000</td>\n",
              "      <td>1.025000</td>\n",
              "      <td>5.000000</td>\n",
              "      <td>5.000000</td>\n",
              "      <td>490.000000</td>\n",
              "      <td>391.000000</td>\n",
              "      <td>76.000000</td>\n",
              "      <td>163.000000</td>\n",
              "      <td>47.000000</td>\n",
              "      <td>17.800000</td>\n",
              "      <td>54.000000</td>\n",
              "      <td>8.000000</td>\n",
              "    </tr>\n",
              "  </tbody>\n",
              "</table>\n",
              "</div>\n",
              "      <button class=\"colab-df-convert\" onclick=\"convertToInteractive('df-1249e91d-7581-4e55-9655-f1e3521527f4')\"\n",
              "              title=\"Convert this dataframe to an interactive table.\"\n",
              "              style=\"display:none;\">\n",
              "        \n",
              "  <svg xmlns=\"http://www.w3.org/2000/svg\" height=\"24px\"viewBox=\"0 0 24 24\"\n",
              "       width=\"24px\">\n",
              "    <path d=\"M0 0h24v24H0V0z\" fill=\"none\"/>\n",
              "    <path d=\"M18.56 5.44l.94 2.06.94-2.06 2.06-.94-2.06-.94-.94-2.06-.94 2.06-2.06.94zm-11 1L8.5 8.5l.94-2.06 2.06-.94-2.06-.94L8.5 2.5l-.94 2.06-2.06.94zm10 10l.94 2.06.94-2.06 2.06-.94-2.06-.94-.94-2.06-.94 2.06-2.06.94z\"/><path d=\"M17.41 7.96l-1.37-1.37c-.4-.4-.92-.59-1.43-.59-.52 0-1.04.2-1.43.59L10.3 9.45l-7.72 7.72c-.78.78-.78 2.05 0 2.83L4 21.41c.39.39.9.59 1.41.59.51 0 1.02-.2 1.41-.59l7.78-7.78 2.81-2.81c.8-.78.8-2.07 0-2.86zM5.41 20L4 18.59l7.72-7.72 1.47 1.35L5.41 20z\"/>\n",
              "  </svg>\n",
              "      </button>\n",
              "      \n",
              "  <style>\n",
              "    .colab-df-container {\n",
              "      display:flex;\n",
              "      flex-wrap:wrap;\n",
              "      gap: 12px;\n",
              "    }\n",
              "\n",
              "    .colab-df-convert {\n",
              "      background-color: #E8F0FE;\n",
              "      border: none;\n",
              "      border-radius: 50%;\n",
              "      cursor: pointer;\n",
              "      display: none;\n",
              "      fill: #1967D2;\n",
              "      height: 32px;\n",
              "      padding: 0 0 0 0;\n",
              "      width: 32px;\n",
              "    }\n",
              "\n",
              "    .colab-df-convert:hover {\n",
              "      background-color: #E2EBFA;\n",
              "      box-shadow: 0px 1px 2px rgba(60, 64, 67, 0.3), 0px 1px 3px 1px rgba(60, 64, 67, 0.15);\n",
              "      fill: #174EA6;\n",
              "    }\n",
              "\n",
              "    [theme=dark] .colab-df-convert {\n",
              "      background-color: #3B4455;\n",
              "      fill: #D2E3FC;\n",
              "    }\n",
              "\n",
              "    [theme=dark] .colab-df-convert:hover {\n",
              "      background-color: #434B5C;\n",
              "      box-shadow: 0px 1px 3px 1px rgba(0, 0, 0, 0.15);\n",
              "      filter: drop-shadow(0px 1px 2px rgba(0, 0, 0, 0.3));\n",
              "      fill: #FFFFFF;\n",
              "    }\n",
              "  </style>\n",
              "\n",
              "      <script>\n",
              "        const buttonEl =\n",
              "          document.querySelector('#df-1249e91d-7581-4e55-9655-f1e3521527f4 button.colab-df-convert');\n",
              "        buttonEl.style.display =\n",
              "          google.colab.kernel.accessAllowed ? 'block' : 'none';\n",
              "\n",
              "        async function convertToInteractive(key) {\n",
              "          const element = document.querySelector('#df-1249e91d-7581-4e55-9655-f1e3521527f4');\n",
              "          const dataTable =\n",
              "            await google.colab.kernel.invokeFunction('convertToInteractive',\n",
              "                                                     [key], {});\n",
              "          if (!dataTable) return;\n",
              "\n",
              "          const docLinkHtml = 'Like what you see? Visit the ' +\n",
              "            '<a target=\"_blank\" href=https://colab.research.google.com/notebooks/data_table.ipynb>data table notebook</a>'\n",
              "            + ' to learn more about interactive tables.';\n",
              "          element.innerHTML = '';\n",
              "          dataTable['output_type'] = 'display_data';\n",
              "          await google.colab.output.renderOutput(dataTable, element);\n",
              "          const docLink = document.createElement('div');\n",
              "          docLink.innerHTML = docLinkHtml;\n",
              "          element.appendChild(docLink);\n",
              "        }\n",
              "      </script>\n",
              "    </div>\n",
              "  </div>\n",
              "  "
            ]
          },
          "metadata": {},
          "execution_count": 382
        }
      ]
    },
    {
      "cell_type": "code",
      "source": [
        "#NULL VALUES"
      ],
      "metadata": {
        "id": "ex1LdDK2RzwW"
      },
      "execution_count": null,
      "outputs": []
    },
    {
      "cell_type": "code",
      "source": [
        "missing_values=df.columns[df.isnull().any()]\n",
        "df[missing_values].isnull().sum()"
      ],
      "metadata": {
        "colab": {
          "base_uri": "https://localhost:8080/"
        },
        "id": "R7ssKQ7YR3Ws",
        "outputId": "459ee5cf-317b-4e17-850e-7c79dc8011e3"
      },
      "execution_count": null,
      "outputs": [
        {
          "output_type": "execute_result",
          "data": {
            "text/plain": [
              "bp        12\n",
              "sg        47\n",
              "al        46\n",
              "su        49\n",
              "rbc      152\n",
              "pc        65\n",
              "pcc        4\n",
              "ba         4\n",
              "bgr       44\n",
              "bu        19\n",
              "sc        17\n",
              "sod       87\n",
              "pot       88\n",
              "hemo      52\n",
              "pcv       71\n",
              "rc       131\n",
              "htn        2\n",
              "dm         2\n",
              "cad        2\n",
              "appet      1\n",
              "pe         1\n",
              "ane        1\n",
              "dtype: int64"
            ]
          },
          "metadata": {},
          "execution_count": 384
        }
      ]
    },
    {
      "cell_type": "code",
      "source": [
        "print(\"Total count of missing value in a dataset:\",df.isnull().sum().sum() )"
      ],
      "metadata": {
        "colab": {
          "base_uri": "https://localhost:8080/"
        },
        "id": "IckMFAkpSCC1",
        "outputId": "b4652862-ddf9-4ce1-846e-c454ffd85f13"
      },
      "execution_count": null,
      "outputs": [
        {
          "output_type": "stream",
          "name": "stdout",
          "text": [
            "Total count of missing value in a dataset: 897\n"
          ]
        }
      ]
    },
    {
      "cell_type": "code",
      "source": [
        "#HANDLING NULL VALUES"
      ],
      "metadata": {
        "id": "8HHmlLOXSJ7P"
      },
      "execution_count": null,
      "outputs": []
    },
    {
      "cell_type": "code",
      "source": [
        "df['bp'] = df['bp'].fillna(df['bp'].mean())\n",
        "df[\"bp\"].isnull().sum()"
      ],
      "metadata": {
        "colab": {
          "base_uri": "https://localhost:8080/"
        },
        "id": "Njf9ekdWSNrz",
        "outputId": "2f737262-49f3-401e-95cd-cb66d8fd8798"
      },
      "execution_count": null,
      "outputs": [
        {
          "output_type": "execute_result",
          "data": {
            "text/plain": [
              "0"
            ]
          },
          "metadata": {},
          "execution_count": 387
        }
      ]
    },
    {
      "cell_type": "code",
      "source": [
        "df['sg'] = df['sg'].fillna(df['sg'].mean())\n",
        "df[\"sg\"].isnull().sum()"
      ],
      "metadata": {
        "colab": {
          "base_uri": "https://localhost:8080/"
        },
        "id": "qdXh3xSnSQ0h",
        "outputId": "476947d5-ef81-4865-9cab-a90b0221d946"
      },
      "execution_count": null,
      "outputs": [
        {
          "output_type": "execute_result",
          "data": {
            "text/plain": [
              "0"
            ]
          },
          "metadata": {},
          "execution_count": 388
        }
      ]
    },
    {
      "cell_type": "code",
      "source": [
        "df['al'] = df['al'].fillna(df['al'].mean())\n",
        "df[\"al\"].isnull().sum()"
      ],
      "metadata": {
        "colab": {
          "base_uri": "https://localhost:8080/"
        },
        "id": "nfxvT4D3STjj",
        "outputId": "9b762b3f-6e05-42d6-a5be-68c4abf47f01"
      },
      "execution_count": null,
      "outputs": [
        {
          "output_type": "execute_result",
          "data": {
            "text/plain": [
              "0"
            ]
          },
          "metadata": {},
          "execution_count": 389
        }
      ]
    },
    {
      "cell_type": "code",
      "source": [
        "df['su'] = df['su'].fillna(df['su'].mean())\n",
        "df[\"su\"].isnull().sum()"
      ],
      "metadata": {
        "colab": {
          "base_uri": "https://localhost:8080/"
        },
        "id": "D7PWBzawSa73",
        "outputId": "2c8e69e4-ddcf-45bd-a66b-2288670e279d"
      },
      "execution_count": null,
      "outputs": [
        {
          "output_type": "execute_result",
          "data": {
            "text/plain": [
              "0"
            ]
          },
          "metadata": {},
          "execution_count": 390
        }
      ]
    },
    {
      "cell_type": "code",
      "source": [
        "df['rbc'] = df['rbc'].fillna(\"not mentioned\")\n",
        "df[\"rbc\"].isnull().sum()"
      ],
      "metadata": {
        "colab": {
          "base_uri": "https://localhost:8080/"
        },
        "id": "UXuuYz1xSegS",
        "outputId": "23e89d2b-5656-42d6-d26d-0ec23598401e"
      },
      "execution_count": null,
      "outputs": [
        {
          "output_type": "execute_result",
          "data": {
            "text/plain": [
              "0"
            ]
          },
          "metadata": {},
          "execution_count": 391
        }
      ]
    },
    {
      "cell_type": "code",
      "source": [
        "df['pc'] = df['pc'].fillna(df['pc'].mode()[0])\n",
        "df[\"pc\"].isnull().sum()"
      ],
      "metadata": {
        "colab": {
          "base_uri": "https://localhost:8080/"
        },
        "id": "m1_71cCHSiDZ",
        "outputId": "c7532983-d093-4df6-897f-47e1409898fe"
      },
      "execution_count": null,
      "outputs": [
        {
          "output_type": "execute_result",
          "data": {
            "text/plain": [
              "0"
            ]
          },
          "metadata": {},
          "execution_count": 392
        }
      ]
    },
    {
      "cell_type": "code",
      "source": [
        "df = df.dropna(axis=0, subset=['pcc',\"htn\",\"appet\"])"
      ],
      "metadata": {
        "id": "Wjpx53U5SsA9"
      },
      "execution_count": null,
      "outputs": []
    },
    {
      "cell_type": "code",
      "source": [
        "df['bgr'] = df['al'].fillna(df['al'].mean())\n",
        "df[\"bgr\"].isnull().sum()"
      ],
      "metadata": {
        "colab": {
          "base_uri": "https://localhost:8080/"
        },
        "id": "yhBbJsXHSteb",
        "outputId": "bff8a28b-db57-4578-be4b-9fefe3a78aae"
      },
      "execution_count": null,
      "outputs": [
        {
          "output_type": "execute_result",
          "data": {
            "text/plain": [
              "0"
            ]
          },
          "metadata": {},
          "execution_count": 394
        }
      ]
    },
    {
      "cell_type": "code",
      "source": [
        "df['bu'] = df['bu'].fillna(df['bu'].mean())\n",
        "df[\"bu\"].isnull().sum()\n"
      ],
      "metadata": {
        "colab": {
          "base_uri": "https://localhost:8080/"
        },
        "id": "Lf0YsujJSxGh",
        "outputId": "11e2ec8d-b91c-4955-e014-4cb9c7f8497c"
      },
      "execution_count": null,
      "outputs": [
        {
          "output_type": "execute_result",
          "data": {
            "text/plain": [
              "0"
            ]
          },
          "metadata": {},
          "execution_count": 395
        }
      ]
    },
    {
      "cell_type": "code",
      "source": [
        "df['sc'] = df['sc'].fillna(df['sc'].mean())\n",
        "df['sod'] = df['sod'].fillna(df['sod'].mean())"
      ],
      "metadata": {
        "id": "E42Qcd1pSz7w"
      },
      "execution_count": null,
      "outputs": []
    },
    {
      "cell_type": "code",
      "source": [
        "df['pot'] = df['pot'].fillna(df['pot'].mean())\n",
        "df['pcv'] = df['pcv'].fillna(df['pcv'].mode()[0])\n",
        "df['hemo'] = df['hemo'].fillna(df['hemo'].mean())"
      ],
      "metadata": {
        "id": "flL5YIcLS3WS"
      },
      "execution_count": null,
      "outputs": []
    },
    {
      "cell_type": "code",
      "source": [
        "df['rc'] = df['rc'].fillna(\"not mentioned\")\n",
        "df[\"rc\"].isnull().sum()"
      ],
      "metadata": {
        "colab": {
          "base_uri": "https://localhost:8080/"
        },
        "id": "PU7XgMZcS6-z",
        "outputId": "6397c1ce-84cc-4330-bdfc-1e5607e79ad9"
      },
      "execution_count": null,
      "outputs": [
        {
          "output_type": "execute_result",
          "data": {
            "text/plain": [
              "0"
            ]
          },
          "metadata": {},
          "execution_count": 398
        }
      ]
    },
    {
      "cell_type": "code",
      "source": [
        "df.info()"
      ],
      "metadata": {
        "colab": {
          "base_uri": "https://localhost:8080/"
        },
        "id": "lf6DOLe0S9fK",
        "outputId": "4340f9eb-550e-49db-8a9a-9bdf851ca893"
      },
      "execution_count": null,
      "outputs": [
        {
          "output_type": "stream",
          "name": "stdout",
          "text": [
            "<class 'pandas.core.frame.DataFrame'>\n",
            "Int64Index: 393 entries, 0 to 399\n",
            "Data columns (total 23 columns):\n",
            " #   Column          Non-Null Count  Dtype  \n",
            "---  ------          --------------  -----  \n",
            " 0   bp              393 non-null    float64\n",
            " 1   sg              393 non-null    float64\n",
            " 2   al              393 non-null    float64\n",
            " 3   su              393 non-null    float64\n",
            " 4   rbc             393 non-null    object \n",
            " 5   pc              393 non-null    object \n",
            " 6   pcc             393 non-null    object \n",
            " 7   ba              393 non-null    object \n",
            " 8   bgr             393 non-null    float64\n",
            " 9   bu              393 non-null    float64\n",
            " 10  sc              393 non-null    float64\n",
            " 11  sod             393 non-null    float64\n",
            " 12  pot             393 non-null    float64\n",
            " 13  hemo            393 non-null    float64\n",
            " 14  pcv             393 non-null    float64\n",
            " 15  rc              393 non-null    object \n",
            " 16  htn             393 non-null    object \n",
            " 17  dm              393 non-null    object \n",
            " 18  cad             393 non-null    object \n",
            " 19  appet           393 non-null    object \n",
            " 20  pe              393 non-null    object \n",
            " 21  ane             393 non-null    object \n",
            " 22  classification  393 non-null    object \n",
            "dtypes: float64(11), object(12)\n",
            "memory usage: 73.7+ KB\n"
          ]
        }
      ]
    },
    {
      "cell_type": "code",
      "source": [
        "df.isnull().sum()"
      ],
      "metadata": {
        "colab": {
          "base_uri": "https://localhost:8080/"
        },
        "id": "T3A-kZnbTBaG",
        "outputId": "a00b57f0-e43c-4c18-b239-7a6175d33a87"
      },
      "execution_count": null,
      "outputs": [
        {
          "output_type": "execute_result",
          "data": {
            "text/plain": [
              "bp                0\n",
              "sg                0\n",
              "al                0\n",
              "su                0\n",
              "rbc               0\n",
              "pc                0\n",
              "pcc               0\n",
              "ba                0\n",
              "bgr               0\n",
              "bu                0\n",
              "sc                0\n",
              "sod               0\n",
              "pot               0\n",
              "hemo              0\n",
              "pcv               0\n",
              "rc                0\n",
              "htn               0\n",
              "dm                0\n",
              "cad               0\n",
              "appet             0\n",
              "pe                0\n",
              "ane               0\n",
              "classification    0\n",
              "dtype: int64"
            ]
          },
          "metadata": {},
          "execution_count": 400
        }
      ]
    },
    {
      "cell_type": "code",
      "source": [
        "#HANDLING CATEGORICAL DATA"
      ],
      "metadata": {
        "id": "2qk0IgtKTHOX"
      },
      "execution_count": null,
      "outputs": []
    },
    {
      "cell_type": "code",
      "source": [
        "for column in df:\n",
        "     if (df[column].dtype==\"object\"):\n",
        "        print(\"\\n\",column)\n",
        "        print(df[column].value_counts(),\"\\n\")"
      ],
      "metadata": {
        "colab": {
          "base_uri": "https://localhost:8080/"
        },
        "id": "L-5wHuIRTMBy",
        "outputId": "b47a0e58-434c-4ad4-805b-e926b25e139c"
      },
      "execution_count": null,
      "outputs": [
        {
          "output_type": "stream",
          "name": "stdout",
          "text": [
            "\n",
            " rbc\n",
            "normal           195\n",
            "not mentioned    151\n",
            "abnormal          47\n",
            "Name: rbc, dtype: int64 \n",
            "\n",
            "\n",
            " pc\n",
            "normal      317\n",
            "abnormal     76\n",
            "Name: pc, dtype: int64 \n",
            "\n",
            "\n",
            " pcc\n",
            "notpresent    351\n",
            "present        42\n",
            "Name: pcc, dtype: int64 \n",
            "\n",
            "\n",
            " ba\n",
            "notpresent    371\n",
            "present        22\n",
            "Name: ba, dtype: int64 \n",
            "\n",
            "\n",
            " rc\n",
            "not mentioned    131\n",
            "5.2               16\n",
            "4.5               16\n",
            "4.9               14\n",
            "4.7               11\n",
            "4.8               10\n",
            "3.9               10\n",
            "5.0               10\n",
            "4.6                9\n",
            "3.4                9\n",
            "6.1                8\n",
            "3.7                8\n",
            "5.5                8\n",
            "5.3                7\n",
            "5.4                7\n",
            "5.9                7\n",
            "3.8                7\n",
            "4.3                6\n",
            "4.2                6\n",
            "4.0                6\n",
            "5.6                6\n",
            "6.4                5\n",
            "3.2                5\n",
            "5.7                5\n",
            "5.8                5\n",
            "6.2                5\n",
            "4.4                5\n",
            "4.1                5\n",
            "5.1                4\n",
            "6.3                4\n",
            "6.0                4\n",
            "3.6                4\n",
            "6.5                4\n",
            "3.0                3\n",
            "3.3                3\n",
            "3.5                3\n",
            "2.7                2\n",
            "2.9                2\n",
            "2.1                2\n",
            "3.1                2\n",
            "2.5                2\n",
            "2.8                2\n",
            "2.6                2\n",
            "2.4                1\n",
            "8.0                1\n",
            "2.3                1\n",
            "Name: rc, dtype: int64 \n",
            "\n",
            "\n",
            " htn\n",
            "no     246\n",
            "yes    147\n",
            "Name: htn, dtype: int64 \n",
            "\n",
            "\n",
            " dm\n",
            "no       253\n",
            "yes      134\n",
            "\\tno       3\n",
            "\\tyes      2\n",
            " yes       1\n",
            "Name: dm, dtype: int64 \n",
            "\n",
            "\n",
            " cad\n",
            "no      357\n",
            "yes      34\n",
            "\\tno      2\n",
            "Name: cad, dtype: int64 \n",
            "\n",
            "\n",
            " appet\n",
            "good    311\n",
            "poor     82\n",
            "Name: appet, dtype: int64 \n",
            "\n",
            "\n",
            " pe\n",
            "no     317\n",
            "yes     76\n",
            "Name: pe, dtype: int64 \n",
            "\n",
            "\n",
            " ane\n",
            "no     333\n",
            "yes     60\n",
            "Name: ane, dtype: int64 \n",
            "\n",
            "\n",
            " classification\n",
            "ckd       248\n",
            "notckd    143\n",
            "ckd\\t       2\n",
            "Name: classification, dtype: int64 \n",
            "\n"
          ]
        }
      ]
    },
    {
      "cell_type": "code",
      "source": [
        "for column in df:\n",
        "     if (df[column].dtype==\"object\"):\n",
        "        print(\"\\n\",column)\n",
        "        print(df[column].value_counts(),\"\\n\")"
      ],
      "metadata": {
        "colab": {
          "base_uri": "https://localhost:8080/"
        },
        "id": "nPsmJY_STPM1",
        "outputId": "7dadea23-f85c-4c01-89c0-5304219e82f4"
      },
      "execution_count": null,
      "outputs": [
        {
          "output_type": "stream",
          "name": "stdout",
          "text": [
            "\n",
            " rbc\n",
            "normal           195\n",
            "not mentioned    151\n",
            "abnormal          47\n",
            "Name: rbc, dtype: int64 \n",
            "\n",
            "\n",
            " pc\n",
            "normal      317\n",
            "abnormal     76\n",
            "Name: pc, dtype: int64 \n",
            "\n",
            "\n",
            " pcc\n",
            "notpresent    351\n",
            "present        42\n",
            "Name: pcc, dtype: int64 \n",
            "\n",
            "\n",
            " ba\n",
            "notpresent    371\n",
            "present        22\n",
            "Name: ba, dtype: int64 \n",
            "\n",
            "\n",
            " rc\n",
            "not mentioned    131\n",
            "5.2               16\n",
            "4.5               16\n",
            "4.9               14\n",
            "4.7               11\n",
            "4.8               10\n",
            "3.9               10\n",
            "5.0               10\n",
            "4.6                9\n",
            "3.4                9\n",
            "6.1                8\n",
            "3.7                8\n",
            "5.5                8\n",
            "5.3                7\n",
            "5.4                7\n",
            "5.9                7\n",
            "3.8                7\n",
            "4.3                6\n",
            "4.2                6\n",
            "4.0                6\n",
            "5.6                6\n",
            "6.4                5\n",
            "3.2                5\n",
            "5.7                5\n",
            "5.8                5\n",
            "6.2                5\n",
            "4.4                5\n",
            "4.1                5\n",
            "5.1                4\n",
            "6.3                4\n",
            "6.0                4\n",
            "3.6                4\n",
            "6.5                4\n",
            "3.0                3\n",
            "3.3                3\n",
            "3.5                3\n",
            "2.7                2\n",
            "2.9                2\n",
            "2.1                2\n",
            "3.1                2\n",
            "2.5                2\n",
            "2.8                2\n",
            "2.6                2\n",
            "2.4                1\n",
            "8.0                1\n",
            "2.3                1\n",
            "Name: rc, dtype: int64 \n",
            "\n",
            "\n",
            " htn\n",
            "no     246\n",
            "yes    147\n",
            "Name: htn, dtype: int64 \n",
            "\n",
            "\n",
            " dm\n",
            "no       253\n",
            "yes      134\n",
            "\\tno       3\n",
            "\\tyes      2\n",
            " yes       1\n",
            "Name: dm, dtype: int64 \n",
            "\n",
            "\n",
            " cad\n",
            "no      357\n",
            "yes      34\n",
            "\\tno      2\n",
            "Name: cad, dtype: int64 \n",
            "\n",
            "\n",
            " appet\n",
            "good    311\n",
            "poor     82\n",
            "Name: appet, dtype: int64 \n",
            "\n",
            "\n",
            " pe\n",
            "no     317\n",
            "yes     76\n",
            "Name: pe, dtype: int64 \n",
            "\n",
            "\n",
            " ane\n",
            "no     333\n",
            "yes     60\n",
            "Name: ane, dtype: int64 \n",
            "\n",
            "\n",
            " classification\n",
            "ckd       248\n",
            "notckd    143\n",
            "ckd\\t       2\n",
            "Name: classification, dtype: int64 \n",
            "\n"
          ]
        }
      ]
    },
    {
      "cell_type": "code",
      "source": [
        "#LABEL ENCODING"
      ],
      "metadata": {
        "id": "CEWu87ThTXPs"
      },
      "execution_count": null,
      "outputs": []
    },
    {
      "cell_type": "code",
      "source": [
        "objList = df.select_dtypes(include = \"object\").columns\n",
        "print (objList)"
      ],
      "metadata": {
        "colab": {
          "base_uri": "https://localhost:8080/"
        },
        "id": "JDbiO5itTcwJ",
        "outputId": "f06ea9ea-9967-48a6-a48e-b3f2215ac066"
      },
      "execution_count": null,
      "outputs": [
        {
          "output_type": "stream",
          "name": "stdout",
          "text": [
            "Index(['rbc', 'pc', 'pcc', 'ba', 'rc', 'htn', 'dm', 'cad', 'appet', 'pe',\n",
            "       'ane', 'classification'],\n",
            "      dtype='object')\n"
          ]
        }
      ]
    },
    {
      "cell_type": "code",
      "source": [
        "from sklearn.preprocessing import LabelEncoder\n",
        "le = LabelEncoder()\n",
        "\n",
        "for feat in objList:\n",
        "    df[feat] = le.fit_transform(df[feat].astype(str))\n",
        "\n",
        "print (df.info())"
      ],
      "metadata": {
        "colab": {
          "base_uri": "https://localhost:8080/"
        },
        "id": "G7QFd-jTTf2B",
        "outputId": "f73d276a-9025-4679-ad19-798e67d1cc07"
      },
      "execution_count": null,
      "outputs": [
        {
          "output_type": "stream",
          "name": "stdout",
          "text": [
            "<class 'pandas.core.frame.DataFrame'>\n",
            "Int64Index: 393 entries, 0 to 399\n",
            "Data columns (total 23 columns):\n",
            " #   Column          Non-Null Count  Dtype  \n",
            "---  ------          --------------  -----  \n",
            " 0   bp              393 non-null    float64\n",
            " 1   sg              393 non-null    float64\n",
            " 2   al              393 non-null    float64\n",
            " 3   su              393 non-null    float64\n",
            " 4   rbc             393 non-null    int64  \n",
            " 5   pc              393 non-null    int64  \n",
            " 6   pcc             393 non-null    int64  \n",
            " 7   ba              393 non-null    int64  \n",
            " 8   bgr             393 non-null    float64\n",
            " 9   bu              393 non-null    float64\n",
            " 10  sc              393 non-null    float64\n",
            " 11  sod             393 non-null    float64\n",
            " 12  pot             393 non-null    float64\n",
            " 13  hemo            393 non-null    float64\n",
            " 14  pcv             393 non-null    float64\n",
            " 15  rc              393 non-null    int64  \n",
            " 16  htn             393 non-null    int64  \n",
            " 17  dm              393 non-null    int64  \n",
            " 18  cad             393 non-null    int64  \n",
            " 19  appet           393 non-null    int64  \n",
            " 20  pe              393 non-null    int64  \n",
            " 21  ane             393 non-null    int64  \n",
            " 22  classification  393 non-null    int64  \n",
            "dtypes: float64(11), int64(12)\n",
            "memory usage: 73.7 KB\n",
            "None\n"
          ]
        }
      ]
    },
    {
      "cell_type": "code",
      "source": [
        "df.dtypes"
      ],
      "metadata": {
        "colab": {
          "base_uri": "https://localhost:8080/"
        },
        "id": "abtePNalTk_Q",
        "outputId": "90fa18d0-3584-4469-da16-993a316cabb5"
      },
      "execution_count": null,
      "outputs": [
        {
          "output_type": "execute_result",
          "data": {
            "text/plain": [
              "bp                float64\n",
              "sg                float64\n",
              "al                float64\n",
              "su                float64\n",
              "rbc                 int64\n",
              "pc                  int64\n",
              "pcc                 int64\n",
              "ba                  int64\n",
              "bgr               float64\n",
              "bu                float64\n",
              "sc                float64\n",
              "sod               float64\n",
              "pot               float64\n",
              "hemo              float64\n",
              "pcv               float64\n",
              "rc                  int64\n",
              "htn                 int64\n",
              "dm                  int64\n",
              "cad                 int64\n",
              "appet               int64\n",
              "pe                  int64\n",
              "ane                 int64\n",
              "classification      int64\n",
              "dtype: object"
            ]
          },
          "metadata": {},
          "execution_count": 407
        }
      ]
    },
    {
      "cell_type": "code",
      "source": [
        "#MODEL RANDOM FOREST"
      ],
      "metadata": {
        "id": "SuSJz_LITyse"
      },
      "execution_count": null,
      "outputs": []
    },
    {
      "cell_type": "code",
      "source": [
        "X = df.drop(['classification', 'sg',  'rc', 'pcv'], axis = 1)\n",
        "y = df['classification']"
      ],
      "metadata": {
        "id": "FlEx9GueT3L1"
      },
      "execution_count": null,
      "outputs": []
    },
    {
      "cell_type": "code",
      "source": [
        "X.columns"
      ],
      "metadata": {
        "colab": {
          "base_uri": "https://localhost:8080/"
        },
        "id": "Vmrx6-GgUC8h",
        "outputId": "fb6f6cad-faf4-4bcd-d944-bbc8052d3334"
      },
      "execution_count": null,
      "outputs": [
        {
          "output_type": "execute_result",
          "data": {
            "text/plain": [
              "Index(['bp', 'al', 'su', 'rbc', 'pc', 'pcc', 'ba', 'bgr', 'bu', 'sc', 'sod',\n",
              "       'pot', 'hemo', 'htn', 'dm', 'cad', 'appet', 'pe', 'ane'],\n",
              "      dtype='object')"
            ]
          },
          "metadata": {},
          "execution_count": 410
        }
      ]
    },
    {
      "cell_type": "code",
      "source": [
        "from sklearn.model_selection import train_test_split"
      ],
      "metadata": {
        "id": "xGsPNl-tUGtn"
      },
      "execution_count": null,
      "outputs": []
    },
    {
      "cell_type": "code",
      "source": [
        "X_train, X_test, y_train, y_test = train_test_split(X, y, test_size = 0.2, random_state = 42)"
      ],
      "metadata": {
        "id": "t2d3K00SULxd"
      },
      "execution_count": null,
      "outputs": []
    },
    {
      "cell_type": "code",
      "source": [
        "from sklearn.ensemble import RandomForestClassifier"
      ],
      "metadata": {
        "id": "t4PTVnAQUPRG"
      },
      "execution_count": null,
      "outputs": []
    },
    {
      "cell_type": "code",
      "source": [
        "model = RandomForestClassifier(n_estimators = 20)\n",
        "model.fit(X_train, y_train)"
      ],
      "metadata": {
        "colab": {
          "base_uri": "https://localhost:8080/"
        },
        "id": "qh6sHqE2UTD4",
        "outputId": "68fc22db-8559-494b-bdd8-77f0ba724323"
      },
      "execution_count": null,
      "outputs": [
        {
          "output_type": "execute_result",
          "data": {
            "text/plain": [
              "RandomForestClassifier(n_estimators=20)"
            ]
          },
          "metadata": {},
          "execution_count": 414
        }
      ]
    },
    {
      "cell_type": "code",
      "source": [
        "from sklearn.metrics import confusion_matrix, accuracy_score"
      ],
      "metadata": {
        "id": "Lw-n2KTiUW3T"
      },
      "execution_count": null,
      "outputs": []
    },
    {
      "cell_type": "code",
      "source": [
        "confusion_matrix(y_test, model.predict(X_test))"
      ],
      "metadata": {
        "colab": {
          "base_uri": "https://localhost:8080/"
        },
        "id": "r1-5GmrbUa8b",
        "outputId": "907dd658-e946-45a8-a753-6df888b5406f"
      },
      "execution_count": null,
      "outputs": [
        {
          "output_type": "execute_result",
          "data": {
            "text/plain": [
              "array([[56,  1],\n",
              "       [ 0, 22]])"
            ]
          },
          "metadata": {},
          "execution_count": 416
        }
      ]
    },
    {
      "cell_type": "code",
      "source": [
        "print(f\"Accuracy is {round(accuracy_score(y_test, model.predict(X_test))*100, 2)}%\")"
      ],
      "metadata": {
        "colab": {
          "base_uri": "https://localhost:8080/",
          "height": 165
        },
        "id": "7rlYUkewUgU-",
        "outputId": "8a946b9f-570e-4051-8abf-0b226d362e73"
      },
      "execution_count": null,
      "outputs": [
        {
          "output_type": "error",
          "ename": "NameError",
          "evalue": "ignored",
          "traceback": [
            "\u001b[0;31m---------------------------------------------------------------------------\u001b[0m",
            "\u001b[0;31mNameError\u001b[0m                                 Traceback (most recent call last)",
            "\u001b[0;32m<ipython-input-3-df7485c5c66d>\u001b[0m in \u001b[0;36m<module>\u001b[0;34m\u001b[0m\n\u001b[0;32m----> 1\u001b[0;31m \u001b[0mprint\u001b[0m\u001b[0;34m(\u001b[0m\u001b[0;34mf\"Accuracy is {round(accuracy_score(y_test, model.predict(X_test))*100, 2)}%\"\u001b[0m\u001b[0;34m)\u001b[0m\u001b[0;34m\u001b[0m\u001b[0;34m\u001b[0m\u001b[0m\n\u001b[0m",
            "\u001b[0;31mNameError\u001b[0m: name 'accuracy_score' is not defined"
          ]
        }
      ]
    },
    {
      "cell_type": "code",
      "source": [
        "import pickle\n",
        "pickle.dump(model, open('CKD.pkl', 'wb'))"
      ],
      "metadata": {
        "id": "sxVnoe62UkMG",
        "colab": {
          "base_uri": "https://localhost:8080/",
          "height": 183
        },
        "outputId": "9c042c38-a0d2-4f65-a66a-56a69444bea7"
      },
      "execution_count": null,
      "outputs": [
        {
          "output_type": "error",
          "ename": "NameError",
          "evalue": "ignored",
          "traceback": [
            "\u001b[0;31m---------------------------------------------------------------------------\u001b[0m",
            "\u001b[0;31mNameError\u001b[0m                                 Traceback (most recent call last)",
            "\u001b[0;32m<ipython-input-2-2a19ee0b556d>\u001b[0m in \u001b[0;36m<module>\u001b[0;34m\u001b[0m\n\u001b[1;32m      1\u001b[0m \u001b[0;32mimport\u001b[0m \u001b[0mpickle\u001b[0m\u001b[0;34m\u001b[0m\u001b[0;34m\u001b[0m\u001b[0m\n\u001b[0;32m----> 2\u001b[0;31m \u001b[0mpickle\u001b[0m\u001b[0;34m.\u001b[0m\u001b[0mdump\u001b[0m\u001b[0;34m(\u001b[0m\u001b[0mmodel\u001b[0m\u001b[0;34m,\u001b[0m \u001b[0mopen\u001b[0m\u001b[0;34m(\u001b[0m\u001b[0;34m'CKD.pkl'\u001b[0m\u001b[0;34m,\u001b[0m \u001b[0;34m'wb'\u001b[0m\u001b[0;34m)\u001b[0m\u001b[0;34m)\u001b[0m\u001b[0;34m\u001b[0m\u001b[0;34m\u001b[0m\u001b[0m\n\u001b[0m",
            "\u001b[0;31mNameError\u001b[0m: name 'model' is not defined"
          ]
        }
      ]
    },
    {
      "cell_type": "code",
      "source": [],
      "metadata": {
        "id": "YV32tWXkUsBF"
      },
      "execution_count": null,
      "outputs": []
    }
  ]
}