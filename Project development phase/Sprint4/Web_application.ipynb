{
  "nbformat": 4,
  "nbformat_minor": 0,
  "metadata": {
    "colab": {
      "provenance": [],
      "toc_visible": true
    },
    "kernelspec": {
      "name": "python3",
      "display_name": "Python 3"
    },
    "language_info": {
      "name": "python"
    },
    "accelerator": "GPU",
    "gpuClass": "standard"
  },
  "cells": [
    {
      "cell_type": "code",
      "source": [
        "!pip install flask-ngrok"
      ],
      "metadata": {
        "id": "gIOXavwr5-RB",
        "colab": {
          "base_uri": "https://localhost:8080/"
        },
        "outputId": "42a956c9-10d0-4ae0-baeb-76c98d6ddc86"
      },
      "execution_count": 1,
      "outputs": [
        {
          "output_type": "stream",
          "name": "stdout",
          "text": [
            "Looking in indexes: https://pypi.org/simple, https://us-python.pkg.dev/colab-wheels/public/simple/\n",
            "Collecting flask-ngrok\n",
            "  Downloading flask_ngrok-0.0.25-py3-none-any.whl (3.1 kB)\n",
            "Requirement already satisfied: requests in /usr/local/lib/python3.7/dist-packages (from flask-ngrok) (2.23.0)\n",
            "Requirement already satisfied: Flask>=0.8 in /usr/local/lib/python3.7/dist-packages (from flask-ngrok) (1.1.4)\n",
            "Requirement already satisfied: itsdangerous<2.0,>=0.24 in /usr/local/lib/python3.7/dist-packages (from Flask>=0.8->flask-ngrok) (1.1.0)\n",
            "Requirement already satisfied: Werkzeug<2.0,>=0.15 in /usr/local/lib/python3.7/dist-packages (from Flask>=0.8->flask-ngrok) (1.0.1)\n",
            "Requirement already satisfied: Jinja2<3.0,>=2.10.1 in /usr/local/lib/python3.7/dist-packages (from Flask>=0.8->flask-ngrok) (2.11.3)\n",
            "Requirement already satisfied: click<8.0,>=5.1 in /usr/local/lib/python3.7/dist-packages (from Flask>=0.8->flask-ngrok) (7.1.2)\n",
            "Requirement already satisfied: MarkupSafe>=0.23 in /usr/local/lib/python3.7/dist-packages (from Jinja2<3.0,>=2.10.1->Flask>=0.8->flask-ngrok) (2.0.1)\n",
            "Requirement already satisfied: idna<3,>=2.5 in /usr/local/lib/python3.7/dist-packages (from requests->flask-ngrok) (2.10)\n",
            "Requirement already satisfied: certifi>=2017.4.17 in /usr/local/lib/python3.7/dist-packages (from requests->flask-ngrok) (2022.9.24)\n",
            "Requirement already satisfied: chardet<4,>=3.0.2 in /usr/local/lib/python3.7/dist-packages (from requests->flask-ngrok) (3.0.4)\n",
            "Requirement already satisfied: urllib3!=1.25.0,!=1.25.1,<1.26,>=1.21.1 in /usr/local/lib/python3.7/dist-packages (from requests->flask-ngrok) (1.24.3)\n",
            "Installing collected packages: flask-ngrok\n",
            "Successfully installed flask-ngrok-0.0.25\n"
          ]
        }
      ]
    },
    {
      "cell_type": "code",
      "source": [
        "from google.colab import drive\n",
        "drive.mount('/content/drive')"
      ],
      "metadata": {
        "colab": {
          "base_uri": "https://localhost:8080/"
        },
        "id": "9JgczJiOV-rs",
        "outputId": "9fa96495-9be1-4a78-af61-07569af5d192"
      },
      "execution_count": 2,
      "outputs": [
        {
          "output_type": "stream",
          "name": "stdout",
          "text": [
            "Drive already mounted at /content/drive; to attempt to forcibly remount, call drive.mount(\"/content/drive\", force_remount=True).\n"
          ]
        }
      ]
    },
    {
      "cell_type": "code",
      "source": [
        "cd /content/drive/MyDrive/ColabNotebooks/Data/Flask-deploy-model"
      ],
      "metadata": {
        "colab": {
          "base_uri": "https://localhost:8080/"
        },
        "id": "VozbB7AoWbYd",
        "outputId": "1be3bc26-30ec-46f7-9152-8037f5707342"
      },
      "execution_count": 2,
      "outputs": [
        {
          "output_type": "stream",
          "name": "stdout",
          "text": [
            "/content/drive/MyDrive/ColabNotebooks/Data/Flask-deploy-model\n"
          ]
        }
      ]
    },
    {
      "cell_type": "code",
      "source": [
        "import numpy as np\n",
        "import pandas as pd\n",
        "import flask"
      ],
      "metadata": {
        "id": "Uh_AL-HIsjfN"
      },
      "execution_count": 3,
      "outputs": []
    },
    {
      "cell_type": "code",
      "source": [
        "from flask import Flask, request, redirect, render_template\n",
        "app = Flask(__name__)\n",
        "@app.route(\"/\",methods=['GET', 'POST'])\n",
        "def index():\n",
        "    return render_template('indexnew.html')\n",
        "@app.route(\"/val\",methods=['POST'])\n",
        "\n",
        "def val():\n",
        "    test=[]\n",
        "    if request.method == 'POST':\n",
        "        test.append(request.form.get(\"age\"))\n",
        "        test.append(request.form.get(\"bp\"))\n",
        "        test.append(request.form.get(\"sg\"))\n",
        "        test.append(request.form.get(\"al\"))\n",
        "        test.append(request.form.get(\"su\"))\n",
        "        rb=request.form.get(\"rbc\")\n",
        "        if rb=='abnormal':\n",
        "            test.append(1)\n",
        "        else:\n",
        "            test.append(0)\n",
        "        pc=request.form.get(\"pc\")\n",
        "        if pc=='abnormal':\n",
        "            test.append(1)\n",
        "        else:\n",
        "            test.append(0)\n",
        "        pcc=request.form.get(\"pcc\")\n",
        "        if pcc=='present':\n",
        "            test.append(1)\n",
        "        else:\n",
        "            test.append(0)\n",
        "        ba=request.form.get(\"ba\")\n",
        "        if ba=='present':\n",
        "            test.append(1)\n",
        "        else:\n",
        "            test.append(0)\n",
        "        test.append(request.form.get(\"bgr\"))\n",
        "        test.append(request.form.get(\"bu\"))\n",
        "        test.append(request.form.get(\"sc\"))\n",
        "        test.append(request.form.get(\"sod\"))\n",
        "        test.append(request.form.get(\"pot\"))\n",
        "        test.append(request.form.get(\"hemo\"))\n",
        "        test.append(request.form.get(\"pcv\"))\n",
        "        test.append(request.form.get(\"wc\"))\n",
        "        test.append(request.form.get(\"rc\"))\n",
        "        ht=request.form.get(\"htn\")\n",
        "        if ht=='yes':\n",
        "            test.append(1)\n",
        "        else:\n",
        "            test.append(0)\n",
        "        d=request.form.get(\"dm\")\n",
        "        if d=='yes':\n",
        "            test.append(1)\n",
        "        else:\n",
        "            test.append(0)\n",
        "        ca=request.form.get(\"cad\")\n",
        "        if ca=='yes':\n",
        "            test.append(1)\n",
        "        else:\n",
        "            test.append(0)\n",
        "        ap=request.form.get(\"appet\")\n",
        "        if ap=='good':\n",
        "            test.append(1)\n",
        "        elif ap=='poor':\n",
        "            test.append(0)\n",
        "        else:\n",
        "            test.append(np.nan)\n",
        "        p=request.form.get(\"pe\")\n",
        "        if p=='yes':\n",
        "            test.append(1)\n",
        "        else:\n",
        "            test.append(0)\n",
        "        an=request.form.get(\"ane\")\n",
        "        if an=='yes':\n",
        "            test.append(1)\n",
        "        else:\n",
        "            test.append(0)\n",
        "    print(test)\n",
        "    test_df=pd.DataFrame(test)\n",
        "    test_df=np.array(test_df).reshape(1, -1)\n",
        "    \n",
        "    pred1=loaded_class.predict(test_df)\n",
        "    pred2=loaded_reg.predict(test_df)\n",
        "    if int(pred1)>=0.5:\n",
        "        prediction1=\"Oops! You have CHRONIC  KIDNEY DISEASE!!!\"\n",
        "        return render_template('result1.html',prediction1=prediction1,prediction2=pred2)\n",
        "    else:\n",
        "        prediction1=\" Hurray You don't have CHRONIC KIDNEY  DISEASE\"\n",
        "\n",
        "        return render_template('result2.html',prediction1=prediction1,prediction2=pred2)\n",
        "    \n",
        "if __name__ == \"__main__\":\n",
        "    app.debug=True\n",
        "    app.run(debug=False)"
      ],
      "metadata": {
        "colab": {
          "base_uri": "https://localhost:8080/"
        },
        "id": "sPzo6sHhc52L",
        "outputId": "250a74fb-f761-4730-ca70-0d3165647167"
      },
      "execution_count": null,
      "outputs": [
        {
          "metadata": {
            "tags": null
          },
          "name": "stdout",
          "output_type": "stream",
          "text": [
            " * Serving Flask app \"__main__\" (lazy loading)\n",
            " * Environment: production\n",
            "\u001b[31m   WARNING: This is a development server. Do not use it in a production deployment.\u001b[0m\n",
            "\u001b[2m   Use a production WSGI server instead.\u001b[0m\n",
            " * Debug mode: off\n"
          ]
        },
        {
          "metadata": {
            "tags": null
          },
          "name": "stderr",
          "output_type": "stream",
          "text": [
            "INFO:werkzeug: * Running on http://127.0.0.1:5000/ (Press CTRL+C to quit)\n"
          ]
        }
      ]
    },
    {
      "cell_type": "code",
      "source": [],
      "metadata": {
        "id": "9z3AMOaQss_t"
      },
      "execution_count": null,
      "outputs": []
    }
  ]
}